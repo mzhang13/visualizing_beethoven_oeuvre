{
 "cells": [
  {
   "cell_type": "markdown",
   "metadata": {},
   "source": [
    "# Setup"
   ]
  },
  {
   "cell_type": "code",
   "execution_count": 1,
   "metadata": {},
   "outputs": [],
   "source": [
    "import requests\n",
    "import re\n",
    "\n",
    "from bs4 import BeautifulSoup\n",
    "import pandas as pd\n",
    "import numpy as np"
   ]
  },
  {
   "cell_type": "code",
   "execution_count": 2,
   "metadata": {},
   "outputs": [],
   "source": [
    "%matplotlib inline"
   ]
  },
  {
   "cell_type": "markdown",
   "metadata": {},
   "source": [
    "## Scrape IMSLP"
   ]
  },
  {
   "cell_type": "code",
   "execution_count": 3,
   "metadata": {},
   "outputs": [],
   "source": [
    "url = \"http://imslp.org/wiki/List_of_works_by_Ludwig_van_Beethoven\""
   ]
  },
  {
   "cell_type": "code",
   "execution_count": 4,
   "metadata": {},
   "outputs": [],
   "source": [
    "page = requests.get(url)"
   ]
  },
  {
   "cell_type": "code",
   "execution_count": 5,
   "metadata": {},
   "outputs": [],
   "source": [
    "soup = BeautifulSoup(page.text, 'html.parser')"
   ]
  },
  {
   "cell_type": "code",
   "execution_count": 6,
   "metadata": {
    "scrolled": true
   },
   "outputs": [
    {
     "data": {
      "text/plain": [
       "[<title>List of works by Ludwig van Beethoven - IMSLP/Petrucci Music Library: Free Public Domain Sheet Music</title>,\n",
       " <meta charset=\"utf-8\"/>,\n",
       " <meta content=\"MediaWiki 1.18.1\" name=\"generator\"/>,\n",
       " <meta content=\"IE=edge\" http-equiv=\"X-UA-Compatible\"/>,\n",
       " <meta content=\"width=device-width, initial-scale=1, maximum-scale=1\" name=\"viewport\"/>,\n",
       " <link href=\"/apple-touch-icon.png\" rel=\"apple-touch-icon\" sizes=\"180x180\"/>,\n",
       " <link href=\"/android-touch-icon.png\" rel=\"icon\" sizes=\"192x192\"/>,\n",
       " <link href=\"/favicon.ico\" rel=\"shortcut icon\"/>,\n",
       " <link href=\"/opensearch_desc.php\" rel=\"search\" title=\"IMSLP (en)\" type=\"application/opensearchdescription+xml\"/>,\n",
       " <link href=\"//imslp.org/api.php?action=rsd\" rel=\"EditURI\" type=\"application/rsd+xml\"/>,\n",
       " <link href=\"http://creativecommons.org/licenses/by-sa/4.0/\" rel=\"copyright\"/>,\n",
       " <link href=\"/index.php?title=Special:RecentChanges&amp;feed=atom\" rel=\"alternate\" title=\"IMSLP Atom feed\" type=\"application/atom+xml\"/>,\n",
       " <link href=\"/load.php?debug=false&amp;lang=en&amp;modules=ext.wikiForum%7Cmediawiki.legacy.commonPrint%2Cshared%7Cskins.bootstrapmediawiki&amp;only=styles&amp;skin=bootstrap-mediawiki&amp;*\" rel=\"stylesheet\"/>,\n",
       " <link href=\"/skins/bootstrap-mediawiki/font-awesome/css/font-awesome.min.css\" rel=\"stylesheet\"/>,\n",
       " <link href=\"/extensions/Slick/slick.css\" rel=\"stylesheet\"/>,\n",
       " <link href=\"/extensions/Slick/slick-theme.css\" rel=\"stylesheet\"/>,\n",
       " <link href=\"/extensions/common/jscss/flexigrid.css?18.6.10\" rel=\"stylesheet\"/>,\n",
       " <link href=\"/extensions/common/jscss/IMSLPMisc.css?18.6.10\" rel=\"stylesheet\"/>,\n",
       " <link href=\"/skins/bootstrap-mediawiki/submenu/css/bootstrap-submenu.min.css?303\" rel=\"stylesheet\"/>,\n",
       " <meta content=\"\" name=\"ResourceLoaderDynamicStyles\"/>,\n",
       " <link href=\"/load.php?debug=false&amp;lang=en&amp;modules=site&amp;only=styles&amp;skin=bootstrap-mediawiki&amp;*\" rel=\"stylesheet\"/>,\n",
       " <style>a:lang(ar),a:lang(ckb),a:lang(fa),a:lang(kk-arab),a:lang(mzn),a:lang(ps),a:lang(ur){text-decoration:none}a.new,#quickbar a.new{color:#ba0000}\n",
       " \n",
       " /* cache key: imslp_wiki:resourceloader:filter:minify-css:4:c88e2bcd56513749bec09a7e29cb3ffa */</style>,\n",
       " <script src=\"/load.php?debug=false&amp;lang=en&amp;modules=startup&amp;only=scripts&amp;skin=bootstrap-mediawiki&amp;*\"></script>,\n",
       " <script>if(window.mw){\n",
       " \tmw.config.set({\"wgCanonicalNamespace\": \"\", \"wgCanonicalSpecialPageName\": false, \"wgNamespaceNumber\": 0, \"wgPageName\": \"List_of_works_by_Ludwig_van_Beethoven\", \"wgTitle\": \"List of works by Ludwig van Beethoven\", \"wgCurRevisionId\": 2542847, \"wgArticleId\": 11648, \"wgIsArticle\": true, \"wgAction\": \"view\", \"wgUserName\": null, \"wgUserGroups\": [\"*\"], \"wgCategories\": [\"Composer Composition Lists\"], \"wgBreakFrames\": false, \"wgRestrictionEdit\": [], \"wgRestrictionMove\": [], \"wgVectorEnabledModules\": {\"collapsiblenav\": true, \"collapsibletabs\": true, \"editwarning\": false, \"expandablesearch\": false, \"footercleanup\": false, \"sectioneditlinks\": false, \"simplesearch\": true, \"experiments\": true}, \"wgWikiEditorEnabledModules\": {\"toolbar\": true, \"dialogs\": true, \"hidesig\": true, \"templateEditor\": false, \"templates\": false, \"preview\": false, \"previewDialog\": false, \"publish\": false, \"toc\": false}, \"userIsMember\": false});\n",
       " }\n",
       " </script>,\n",
       " <script>if(window.mw){\n",
       " \tmw.loader.load([\"mediawiki.page.startup\"]);\n",
       " }\n",
       " </script>]"
      ]
     },
     "execution_count": 6,
     "metadata": {},
     "output_type": "execute_result"
    }
   ],
   "source": [
    "soup.head()"
   ]
  },
  {
   "cell_type": "markdown",
   "metadata": {},
   "source": [
    "## Get table"
   ]
  },
  {
   "cell_type": "code",
   "execution_count": 7,
   "metadata": {},
   "outputs": [],
   "source": [
    "table = soup.find(\"table\")"
   ]
  },
  {
   "cell_type": "code",
   "execution_count": 8,
   "metadata": {},
   "outputs": [],
   "source": [
    "table_text = []\n",
    "\n",
    "for row in table.findAll(\"tr\"):\n",
    "    cells = row.findAll([\"th\", \"td\"])\n",
    "    # Note: Already checked that all cells have length of 10\n",
    "    cell_contents = [cell.text.replace(\"\\n\", \"\") for cell in cells] # Remove new line from each string in the process\n",
    "    table_text.append(cell_contents)"
   ]
  },
  {
   "cell_type": "code",
   "execution_count": 9,
   "metadata": {},
   "outputs": [],
   "source": [
    "raw_works = pd.DataFrame(table_text[1:], columns = table_text[0])"
   ]
  },
  {
   "cell_type": "markdown",
   "metadata": {},
   "source": [
    "# Explore"
   ]
  },
  {
   "cell_type": "code",
   "execution_count": 10,
   "metadata": {},
   "outputs": [
    {
     "name": "stdout",
     "output_type": "stream",
     "text": [
      "(557, 10)\n"
     ]
    },
    {
     "data": {
      "text/html": [
       "<div>\n",
       "<style scoped>\n",
       "    .dataframe tbody tr th:only-of-type {\n",
       "        vertical-align: middle;\n",
       "    }\n",
       "\n",
       "    .dataframe tbody tr th {\n",
       "        vertical-align: top;\n",
       "    }\n",
       "\n",
       "    .dataframe thead th {\n",
       "        text-align: right;\n",
       "    }\n",
       "</style>\n",
       "<table border=\"1\" class=\"dataframe\">\n",
       "  <thead>\n",
       "    <tr style=\"text-align: right;\">\n",
       "      <th></th>\n",
       "      <th>Op.</th>\n",
       "      <th>WoO</th>\n",
       "      <th>Hess</th>\n",
       "      <th>Biam-onti</th>\n",
       "      <th>Title</th>\n",
       "      <th>Key</th>\n",
       "      <th>Date</th>\n",
       "      <th>Scoring</th>\n",
       "      <th>Genre</th>\n",
       "      <th>Notes</th>\n",
       "    </tr>\n",
       "  </thead>\n",
       "  <tbody>\n",
       "    <tr>\n",
       "      <th>0</th>\n",
       "      <td>001</td>\n",
       "      <td>—</td>\n",
       "      <td>—</td>\n",
       "      <td>062</td>\n",
       "      <td>Piano Trios (3):</td>\n",
       "      <td></td>\n",
       "      <td>1792-94</td>\n",
       "      <td>vn vc pf</td>\n",
       "      <td>Chamber</td>\n",
       "      <td></td>\n",
       "    </tr>\n",
       "    <tr>\n",
       "      <th>1</th>\n",
       "      <td>001/1</td>\n",
       "      <td>—</td>\n",
       "      <td>—</td>\n",
       "      <td>062/1</td>\n",
       "      <td>Piano Trio</td>\n",
       "      <td>E♭ major</td>\n",
       "      <td>1792-93</td>\n",
       "      <td>vn vc pf</td>\n",
       "      <td>Chamber</td>\n",
       "      <td></td>\n",
       "    </tr>\n",
       "    <tr>\n",
       "      <th>2</th>\n",
       "      <td>001/2</td>\n",
       "      <td>—</td>\n",
       "      <td>—</td>\n",
       "      <td>062/2</td>\n",
       "      <td>Piano Trio</td>\n",
       "      <td>G major</td>\n",
       "      <td>1792-94</td>\n",
       "      <td>vn vc pf</td>\n",
       "      <td>Chamber</td>\n",
       "      <td></td>\n",
       "    </tr>\n",
       "    <tr>\n",
       "      <th>3</th>\n",
       "      <td>001/3</td>\n",
       "      <td>—</td>\n",
       "      <td>—</td>\n",
       "      <td>062/3</td>\n",
       "      <td>Piano Trio</td>\n",
       "      <td>C minor</td>\n",
       "      <td>1792-94</td>\n",
       "      <td>vn vc pf</td>\n",
       "      <td>Chamber</td>\n",
       "      <td>arr. for 2vn va vc as Op.104</td>\n",
       "    </tr>\n",
       "    <tr>\n",
       "      <th>4</th>\n",
       "      <td>002</td>\n",
       "      <td>—</td>\n",
       "      <td>—</td>\n",
       "      <td>087</td>\n",
       "      <td>Piano Sonatas (3):</td>\n",
       "      <td></td>\n",
       "      <td>1793-95</td>\n",
       "      <td>pf</td>\n",
       "      <td>Keyboard</td>\n",
       "      <td></td>\n",
       "    </tr>\n",
       "  </tbody>\n",
       "</table>\n",
       "</div>"
      ],
      "text/plain": [
       "      Op. WoO Hess Biam-onti                Title        Key      Date  \\\n",
       "0     001   —    —       062     Piano Trios (3):              1792-94   \n",
       "1   001/1   —    —     062/1           Piano Trio   E♭ major   1792-93   \n",
       "2   001/2   —    —     062/2           Piano Trio    G major   1792-94   \n",
       "3   001/3   —    —     062/3           Piano Trio    C minor   1792-94   \n",
       "4     002   —    —       087   Piano Sonatas (3):              1793-95   \n",
       "\n",
       "     Scoring      Genre                          Notes  \n",
       "0   vn vc pf    Chamber                                 \n",
       "1   vn vc pf    Chamber                                 \n",
       "2   vn vc pf    Chamber                                 \n",
       "3   vn vc pf    Chamber   arr. for 2vn va vc as Op.104  \n",
       "4         pf   Keyboard                                 "
      ]
     },
     "execution_count": 10,
     "metadata": {},
     "output_type": "execute_result"
    }
   ],
   "source": [
    "print(raw_works.shape)\n",
    "raw_works.head()"
   ]
  },
  {
   "cell_type": "code",
   "execution_count": 11,
   "metadata": {},
   "outputs": [
    {
     "data": {
      "text/html": [
       "<div>\n",
       "<style scoped>\n",
       "    .dataframe tbody tr th:only-of-type {\n",
       "        vertical-align: middle;\n",
       "    }\n",
       "\n",
       "    .dataframe tbody tr th {\n",
       "        vertical-align: top;\n",
       "    }\n",
       "\n",
       "    .dataframe thead th {\n",
       "        text-align: right;\n",
       "    }\n",
       "</style>\n",
       "<table border=\"1\" class=\"dataframe\">\n",
       "  <thead>\n",
       "    <tr style=\"text-align: right;\">\n",
       "      <th></th>\n",
       "      <th>Op.</th>\n",
       "      <th>WoO</th>\n",
       "      <th>Hess</th>\n",
       "      <th>Biam-onti</th>\n",
       "      <th>Title</th>\n",
       "      <th>Key</th>\n",
       "      <th>Date</th>\n",
       "      <th>Scoring</th>\n",
       "      <th>Genre</th>\n",
       "      <th>Notes</th>\n",
       "    </tr>\n",
       "  </thead>\n",
       "  <tbody>\n",
       "    <tr>\n",
       "      <th>397</th>\n",
       "      <td>—</td>\n",
       "      <td>099</td>\n",
       "      <td>—</td>\n",
       "      <td>—</td>\n",
       "      <td>Italian Partsongs</td>\n",
       "      <td></td>\n",
       "      <td></td>\n",
       "      <td></td>\n",
       "      <td></td>\n",
       "      <td></td>\n",
       "    </tr>\n",
       "    <tr>\n",
       "      <th>291</th>\n",
       "      <td>—</td>\n",
       "      <td>016</td>\n",
       "      <td>—</td>\n",
       "      <td>—</td>\n",
       "      <td>Ecossaises(12)</td>\n",
       "      <td></td>\n",
       "      <td></td>\n",
       "      <td>orch</td>\n",
       "      <td>Orchestral</td>\n",
       "      <td>spurious</td>\n",
       "    </tr>\n",
       "    <tr>\n",
       "      <th>553</th>\n",
       "      <td>—</td>\n",
       "      <td>—</td>\n",
       "      <td>Anh. 10</td>\n",
       "      <td>—</td>\n",
       "      <td>Andante favori</td>\n",
       "      <td>F major</td>\n",
       "      <td></td>\n",
       "      <td>2vn va vc</td>\n",
       "      <td>Chamber</td>\n",
       "      <td>arr. of WoO 57; Beethoven's authorship uncertain</td>\n",
       "    </tr>\n",
       "    <tr>\n",
       "      <th>544</th>\n",
       "      <td>—</td>\n",
       "      <td>Anh. 14</td>\n",
       "      <td>—</td>\n",
       "      <td>—</td>\n",
       "      <td>Waltzes (6)</td>\n",
       "      <td></td>\n",
       "      <td></td>\n",
       "      <td>pf</td>\n",
       "      <td>Keyboard</td>\n",
       "      <td>spurious; authorship unknown</td>\n",
       "    </tr>\n",
       "    <tr>\n",
       "      <th>308</th>\n",
       "      <td>—</td>\n",
       "      <td>027</td>\n",
       "      <td>—</td>\n",
       "      <td>039</td>\n",
       "      <td>Duets (3)</td>\n",
       "      <td></td>\n",
       "      <td></td>\n",
       "      <td>cl bn</td>\n",
       "      <td>Chamber</td>\n",
       "      <td>Beethoven's authorship doubtful; also arr. fo...</td>\n",
       "    </tr>\n",
       "  </tbody>\n",
       "</table>\n",
       "</div>"
      ],
      "text/plain": [
       "    Op.       WoO      Hess Biam-onti               Title       Key Date  \\\n",
       "397   —       099         —         —   Italian Partsongs                  \n",
       "291   —       016         —         —      Ecossaises(12)                  \n",
       "553   —         —   Anh. 10         —      Andante favori   F major        \n",
       "544   —   Anh. 14         —         —         Waltzes (6)                  \n",
       "308   —       027         —       039           Duets (3)                  \n",
       "\n",
       "        Scoring        Genre  \\\n",
       "397                            \n",
       "291        orch   Orchestral   \n",
       "553   2vn va vc      Chamber   \n",
       "544          pf     Keyboard   \n",
       "308       cl bn      Chamber   \n",
       "\n",
       "                                                 Notes  \n",
       "397                                                     \n",
       "291                                           spurious  \n",
       "553   arr. of WoO 57; Beethoven's authorship uncertain  \n",
       "544                       spurious; authorship unknown  \n",
       "308   Beethoven's authorship doubtful; also arr. fo...  "
      ]
     },
     "execution_count": 11,
     "metadata": {},
     "output_type": "execute_result"
    }
   ],
   "source": [
    "raw_works.sort_values(\"Date\").head()"
   ]
  },
  {
   "cell_type": "markdown",
   "metadata": {},
   "source": [
    "# Clean"
   ]
  },
  {
   "cell_type": "code",
   "execution_count": 12,
   "metadata": {},
   "outputs": [],
   "source": [
    "df = raw_works.copy()"
   ]
  },
  {
   "cell_type": "code",
   "execution_count": 13,
   "metadata": {},
   "outputs": [],
   "source": [
    "df.columns = [column.lower() for column in df.columns]"
   ]
  },
  {
   "cell_type": "code",
   "execution_count": 14,
   "metadata": {},
   "outputs": [
    {
     "data": {
      "text/html": [
       "<div>\n",
       "<style scoped>\n",
       "    .dataframe tbody tr th:only-of-type {\n",
       "        vertical-align: middle;\n",
       "    }\n",
       "\n",
       "    .dataframe tbody tr th {\n",
       "        vertical-align: top;\n",
       "    }\n",
       "\n",
       "    .dataframe thead th {\n",
       "        text-align: right;\n",
       "    }\n",
       "</style>\n",
       "<table border=\"1\" class=\"dataframe\">\n",
       "  <thead>\n",
       "    <tr style=\"text-align: right;\">\n",
       "      <th></th>\n",
       "      <th>op.</th>\n",
       "      <th>woo</th>\n",
       "      <th>hess</th>\n",
       "      <th>biam-onti</th>\n",
       "      <th>title</th>\n",
       "      <th>key</th>\n",
       "      <th>date</th>\n",
       "      <th>scoring</th>\n",
       "      <th>genre</th>\n",
       "      <th>notes</th>\n",
       "    </tr>\n",
       "  </thead>\n",
       "  <tbody>\n",
       "    <tr>\n",
       "      <th>0</th>\n",
       "      <td>001</td>\n",
       "      <td>—</td>\n",
       "      <td>—</td>\n",
       "      <td>062</td>\n",
       "      <td>Piano Trios (3):</td>\n",
       "      <td></td>\n",
       "      <td>1792-94</td>\n",
       "      <td>vn vc pf</td>\n",
       "      <td>Chamber</td>\n",
       "      <td></td>\n",
       "    </tr>\n",
       "    <tr>\n",
       "      <th>1</th>\n",
       "      <td>001/1</td>\n",
       "      <td>—</td>\n",
       "      <td>—</td>\n",
       "      <td>062/1</td>\n",
       "      <td>Piano Trio</td>\n",
       "      <td>E♭ major</td>\n",
       "      <td>1792-93</td>\n",
       "      <td>vn vc pf</td>\n",
       "      <td>Chamber</td>\n",
       "      <td></td>\n",
       "    </tr>\n",
       "    <tr>\n",
       "      <th>2</th>\n",
       "      <td>001/2</td>\n",
       "      <td>—</td>\n",
       "      <td>—</td>\n",
       "      <td>062/2</td>\n",
       "      <td>Piano Trio</td>\n",
       "      <td>G major</td>\n",
       "      <td>1792-94</td>\n",
       "      <td>vn vc pf</td>\n",
       "      <td>Chamber</td>\n",
       "      <td></td>\n",
       "    </tr>\n",
       "    <tr>\n",
       "      <th>3</th>\n",
       "      <td>001/3</td>\n",
       "      <td>—</td>\n",
       "      <td>—</td>\n",
       "      <td>062/3</td>\n",
       "      <td>Piano Trio</td>\n",
       "      <td>C minor</td>\n",
       "      <td>1792-94</td>\n",
       "      <td>vn vc pf</td>\n",
       "      <td>Chamber</td>\n",
       "      <td>arr. for 2vn va vc as Op.104</td>\n",
       "    </tr>\n",
       "    <tr>\n",
       "      <th>4</th>\n",
       "      <td>002</td>\n",
       "      <td>—</td>\n",
       "      <td>—</td>\n",
       "      <td>087</td>\n",
       "      <td>Piano Sonatas (3):</td>\n",
       "      <td></td>\n",
       "      <td>1793-95</td>\n",
       "      <td>pf</td>\n",
       "      <td>Keyboard</td>\n",
       "      <td></td>\n",
       "    </tr>\n",
       "  </tbody>\n",
       "</table>\n",
       "</div>"
      ],
      "text/plain": [
       "      op. woo hess biam-onti                title        key      date  \\\n",
       "0     001   —    —       062     Piano Trios (3):              1792-94   \n",
       "1   001/1   —    —     062/1           Piano Trio   E♭ major   1792-93   \n",
       "2   001/2   —    —     062/2           Piano Trio    G major   1792-94   \n",
       "3   001/3   —    —     062/3           Piano Trio    C minor   1792-94   \n",
       "4     002   —    —       087   Piano Sonatas (3):              1793-95   \n",
       "\n",
       "     scoring      genre                          notes  \n",
       "0   vn vc pf    Chamber                                 \n",
       "1   vn vc pf    Chamber                                 \n",
       "2   vn vc pf    Chamber                                 \n",
       "3   vn vc pf    Chamber   arr. for 2vn va vc as Op.104  \n",
       "4         pf   Keyboard                                 "
      ]
     },
     "execution_count": 14,
     "metadata": {},
     "output_type": "execute_result"
    }
   ],
   "source": [
    "df.head()"
   ]
  },
  {
   "cell_type": "code",
   "execution_count": 15,
   "metadata": {
    "scrolled": true
   },
   "outputs": [
    {
     "data": {
      "text/plain": [
       "10"
      ]
     },
     "execution_count": 15,
     "metadata": {},
     "output_type": "execute_result"
    }
   ],
   "source": [
    "len(df[df[\"date\"] == \"\"])"
   ]
  },
  {
   "cell_type": "code",
   "execution_count": 16,
   "metadata": {},
   "outputs": [],
   "source": [
    "# Remove works without dates (unable to use in visualization)\n",
    "df = df[df[\"date\"] != \"\"]"
   ]
  },
  {
   "cell_type": "markdown",
   "metadata": {},
   "source": [
    "Maybe the easiest way to get rid of these header-subheader type rows is to remove rows without keys. Plus, we can't really use a work if it happens not to have a key either...\n",
    "\n",
    "But to know whether we're removing things because it's a heading or it's a piece that happens not to have a listed key, maybe regex ([0-9]) or something..."
   ]
  },
  {
   "cell_type": "markdown",
   "metadata": {},
   "source": [
    "## Key"
   ]
  },
  {
   "cell_type": "code",
   "execution_count": 17,
   "metadata": {},
   "outputs": [
    {
     "data": {
      "text/plain": [
       "146"
      ]
     },
     "execution_count": 17,
     "metadata": {},
     "output_type": "execute_result"
    }
   ],
   "source": [
    "len(df[df[\"key\"] == \"\"])"
   ]
  },
  {
   "cell_type": "markdown",
   "metadata": {},
   "source": [
    "### Check out rows without keys"
   ]
  },
  {
   "cell_type": "code",
   "execution_count": 18,
   "metadata": {},
   "outputs": [],
   "source": [
    "no_key = df[df[\"key\"] == \"\"]"
   ]
  },
  {
   "cell_type": "code",
   "execution_count": 19,
   "metadata": {},
   "outputs": [
    {
     "data": {
      "text/html": [
       "<div>\n",
       "<style scoped>\n",
       "    .dataframe tbody tr th:only-of-type {\n",
       "        vertical-align: middle;\n",
       "    }\n",
       "\n",
       "    .dataframe tbody tr th {\n",
       "        vertical-align: top;\n",
       "    }\n",
       "\n",
       "    .dataframe thead th {\n",
       "        text-align: right;\n",
       "    }\n",
       "</style>\n",
       "<table border=\"1\" class=\"dataframe\">\n",
       "  <thead>\n",
       "    <tr style=\"text-align: right;\">\n",
       "      <th></th>\n",
       "      <th>op.</th>\n",
       "      <th>woo</th>\n",
       "      <th>hess</th>\n",
       "      <th>biam-onti</th>\n",
       "      <th>title</th>\n",
       "      <th>key</th>\n",
       "      <th>date</th>\n",
       "      <th>scoring</th>\n",
       "      <th>genre</th>\n",
       "      <th>notes</th>\n",
       "    </tr>\n",
       "  </thead>\n",
       "  <tbody>\n",
       "  </tbody>\n",
       "</table>\n",
       "</div>"
      ],
      "text/plain": [
       "Empty DataFrame\n",
       "Columns: [op., woo, hess, biam-onti, title, key, date, scoring, genre, notes]\n",
       "Index: []"
      ]
     },
     "execution_count": 19,
     "metadata": {},
     "output_type": "execute_result"
    }
   ],
   "source": [
    "no_key[pd.isnull(no_key[\"title\"])]"
   ]
  },
  {
   "cell_type": "code",
   "execution_count": 20,
   "metadata": {
    "scrolled": true
   },
   "outputs": [
    {
     "data": {
      "text/plain": [
       "41"
      ]
     },
     "execution_count": 20,
     "metadata": {},
     "output_type": "execute_result"
    }
   ],
   "source": [
    "len(no_key[no_key[\"title\"].apply(lambda x: bool(re.search(r\"\\([0-9]\\)\", x)))])"
   ]
  },
  {
   "cell_type": "code",
   "execution_count": 21,
   "metadata": {},
   "outputs": [
    {
     "data": {
      "text/html": [
       "<div>\n",
       "<style scoped>\n",
       "    .dataframe tbody tr th:only-of-type {\n",
       "        vertical-align: middle;\n",
       "    }\n",
       "\n",
       "    .dataframe tbody tr th {\n",
       "        vertical-align: top;\n",
       "    }\n",
       "\n",
       "    .dataframe thead th {\n",
       "        text-align: right;\n",
       "    }\n",
       "</style>\n",
       "<table border=\"1\" class=\"dataframe\">\n",
       "  <thead>\n",
       "    <tr style=\"text-align: right;\">\n",
       "      <th></th>\n",
       "      <th>op.</th>\n",
       "      <th>woo</th>\n",
       "      <th>hess</th>\n",
       "      <th>biam-onti</th>\n",
       "      <th>title</th>\n",
       "      <th>key</th>\n",
       "      <th>date</th>\n",
       "      <th>scoring</th>\n",
       "      <th>genre</th>\n",
       "      <th>notes</th>\n",
       "    </tr>\n",
       "  </thead>\n",
       "  <tbody>\n",
       "    <tr>\n",
       "      <th>65</th>\n",
       "      <td>032</td>\n",
       "      <td>—</td>\n",
       "      <td>—</td>\n",
       "      <td>421</td>\n",
       "      <td>An die Hoffnung (\"Die du so gern in heilgen N...</td>\n",
       "      <td></td>\n",
       "      <td>1804-05</td>\n",
       "      <td>v pf</td>\n",
       "      <td>Vocal</td>\n",
       "      <td>1st setting; see also Op.94</td>\n",
       "    </tr>\n",
       "    <tr>\n",
       "      <th>77</th>\n",
       "      <td>043</td>\n",
       "      <td>—</td>\n",
       "      <td>—</td>\n",
       "      <td>288</td>\n",
       "      <td>Die Geschöpfe des Prometheus (The Creatures o...</td>\n",
       "      <td></td>\n",
       "      <td>1800-01</td>\n",
       "      <td>orch</td>\n",
       "      <td>Stage</td>\n",
       "      <td></td>\n",
       "    </tr>\n",
       "    <tr>\n",
       "      <th>120</th>\n",
       "      <td>065</td>\n",
       "      <td>—</td>\n",
       "      <td>—</td>\n",
       "      <td>116</td>\n",
       "      <td>Ah! Perfido</td>\n",
       "      <td></td>\n",
       "      <td>1796</td>\n",
       "      <td>sop orch</td>\n",
       "      <td>Vocal</td>\n",
       "      <td></td>\n",
       "    </tr>\n",
       "    <tr>\n",
       "      <th>129</th>\n",
       "      <td>072</td>\n",
       "      <td>—</td>\n",
       "      <td>109</td>\n",
       "      <td>423</td>\n",
       "      <td>Fidelio (Leonore, oder Der Triumph der ehelic...</td>\n",
       "      <td></td>\n",
       "      <td>1804-05</td>\n",
       "      <td>vv ch orch</td>\n",
       "      <td>Stage</td>\n",
       "      <td>1st version; includes Op. 72a</td>\n",
       "    </tr>\n",
       "    <tr>\n",
       "      <th>130</th>\n",
       "      <td>072</td>\n",
       "      <td>—</td>\n",
       "      <td>110</td>\n",
       "      <td>427</td>\n",
       "      <td>Fidelio (Leonore, oder Der Triumph der ehelic...</td>\n",
       "      <td></td>\n",
       "      <td>1805-06</td>\n",
       "      <td>vv ch orch</td>\n",
       "      <td>Stage</td>\n",
       "      <td>2nd version; includes Op. 72b (and WoO 2/2?)</td>\n",
       "    </tr>\n",
       "  </tbody>\n",
       "</table>\n",
       "</div>"
      ],
      "text/plain": [
       "      op. woo  hess biam-onti  \\\n",
       "65    032   —     —       421   \n",
       "77    043   —     —       288   \n",
       "120   065   —     —       116   \n",
       "129   072   —   109       423   \n",
       "130   072   —   110       427   \n",
       "\n",
       "                                                 title key      date  \\\n",
       "65    An die Hoffnung (\"Die du so gern in heilgen N...       1804-05   \n",
       "77    Die Geschöpfe des Prometheus (The Creatures o...       1800-01   \n",
       "120                                        Ah! Perfido          1796   \n",
       "129   Fidelio (Leonore, oder Der Triumph der ehelic...       1804-05   \n",
       "130   Fidelio (Leonore, oder Der Triumph der ehelic...       1805-06   \n",
       "\n",
       "         scoring   genre                                          notes  \n",
       "65          v pf   Vocal                    1st setting; see also Op.94  \n",
       "77          orch   Stage                                                 \n",
       "120     sop orch   Vocal                                                 \n",
       "129   vv ch orch   Stage                  1st version; includes Op. 72a  \n",
       "130   vv ch orch   Stage   2nd version; includes Op. 72b (and WoO 2/2?)  "
      ]
     },
     "execution_count": 21,
     "metadata": {},
     "output_type": "execute_result"
    }
   ],
   "source": [
    "no_key[~no_key[\"title\"].apply(lambda x: bool(re.search(r\"\\([0-9]\\)\", x)))].head()"
   ]
  },
  {
   "cell_type": "markdown",
   "metadata": {},
   "source": [
    "Maybe next steps include going into each piece and getting the time or number of measures in a specific key (not the most practical considering rather stable formulas for certain musical forms, such as symphonies)"
   ]
  },
  {
   "cell_type": "markdown",
   "metadata": {},
   "source": [
    "### Back to cleaning"
   ]
  },
  {
   "cell_type": "code",
   "execution_count": 22,
   "metadata": {},
   "outputs": [],
   "source": [
    "# Anyway, let's go ahead and take out those without keys for our first pass trialing\n",
    "df = df[df[\"key\"] != \"\"]"
   ]
  },
  {
   "cell_type": "code",
   "execution_count": 23,
   "metadata": {},
   "outputs": [
    {
     "data": {
      "text/plain": [
       "401"
      ]
     },
     "execution_count": 23,
     "metadata": {},
     "output_type": "execute_result"
    }
   ],
   "source": [
    "len(df)"
   ]
  },
  {
   "cell_type": "code",
   "execution_count": 24,
   "metadata": {},
   "outputs": [],
   "source": [
    "df[\"key\"] = df[\"key\"].str.replace(\"-flat\", \"♭\")"
   ]
  },
  {
   "cell_type": "code",
   "execution_count": 25,
   "metadata": {},
   "outputs": [],
   "source": [
    "df[\"key\"] = df[\"key\"].str.strip()"
   ]
  },
  {
   "cell_type": "markdown",
   "metadata": {},
   "source": [
    "### Key distribution"
   ]
  },
  {
   "cell_type": "code",
   "execution_count": 26,
   "metadata": {},
   "outputs": [
    {
     "name": "stdout",
     "output_type": "stream",
     "text": [
      "22\n"
     ]
    },
    {
     "data": {
      "text/plain": [
       "array(['E♭ major', 'G major', 'C minor', 'F minor', 'A major', 'C major',\n",
       "       'F major', 'G minor', 'D major', 'B♭ major', 'E major', 'A minor',\n",
       "       'A♭ major', 'C♯ minor', 'D minor', 'F♯ minor', 'E minor',\n",
       "       'F♯ major', 'B♭ minor', 'C major-C minor', 'B minor',\n",
       "       'A♭ major-D major'], dtype=object)"
      ]
     },
     "execution_count": 26,
     "metadata": {},
     "output_type": "execute_result"
    }
   ],
   "source": [
    "print(df[\"key\"].nunique())\n",
    "df[\"key\"].unique()"
   ]
  },
  {
   "cell_type": "code",
   "execution_count": 27,
   "metadata": {},
   "outputs": [
    {
     "data": {
      "text/plain": [
       "['A major',\n",
       " 'A minor',\n",
       " 'A♭ major',\n",
       " 'A♭ major-D major',\n",
       " 'B minor',\n",
       " 'B♭ major',\n",
       " 'B♭ minor',\n",
       " 'C major',\n",
       " 'C major-C minor',\n",
       " 'C minor',\n",
       " 'C♯ minor',\n",
       " 'D major',\n",
       " 'D minor',\n",
       " 'E major',\n",
       " 'E minor',\n",
       " 'E♭ major',\n",
       " 'F major',\n",
       " 'F minor',\n",
       " 'F♯ major',\n",
       " 'F♯ minor',\n",
       " 'G major',\n",
       " 'G minor']"
      ]
     },
     "execution_count": 27,
     "metadata": {},
     "output_type": "execute_result"
    }
   ],
   "source": [
    "sorted(df[\"key\"].unique())"
   ]
  },
  {
   "cell_type": "code",
   "execution_count": 28,
   "metadata": {},
   "outputs": [
    {
     "data": {
      "text/html": [
       "<div>\n",
       "<style scoped>\n",
       "    .dataframe tbody tr th:only-of-type {\n",
       "        vertical-align: middle;\n",
       "    }\n",
       "\n",
       "    .dataframe tbody tr th {\n",
       "        vertical-align: top;\n",
       "    }\n",
       "\n",
       "    .dataframe thead th {\n",
       "        text-align: right;\n",
       "    }\n",
       "</style>\n",
       "<table border=\"1\" class=\"dataframe\">\n",
       "  <thead>\n",
       "    <tr style=\"text-align: right;\">\n",
       "      <th></th>\n",
       "      <th>op.</th>\n",
       "      <th>woo</th>\n",
       "      <th>hess</th>\n",
       "      <th>biam-onti</th>\n",
       "      <th>title</th>\n",
       "      <th>key</th>\n",
       "      <th>date</th>\n",
       "      <th>scoring</th>\n",
       "      <th>genre</th>\n",
       "      <th>notes</th>\n",
       "    </tr>\n",
       "  </thead>\n",
       "  <tbody>\n",
       "    <tr>\n",
       "      <th>170</th>\n",
       "      <td>094</td>\n",
       "      <td>—</td>\n",
       "      <td>—</td>\n",
       "      <td>611</td>\n",
       "      <td>An die Hoffnung (\"Ob ein Gott sei?\")</td>\n",
       "      <td>B♭ minor</td>\n",
       "      <td>1813-15</td>\n",
       "      <td>v pf</td>\n",
       "      <td>Vocal</td>\n",
       "      <td>2nd setting; see Op.32</td>\n",
       "    </tr>\n",
       "  </tbody>\n",
       "</table>\n",
       "</div>"
      ],
      "text/plain": [
       "      op. woo hess biam-onti                                  title       key  \\\n",
       "170   094   —    —       611   An die Hoffnung (\"Ob ein Gott sei?\")  B♭ minor   \n",
       "\n",
       "         date scoring   genre                    notes  \n",
       "170   1813-15    v pf   Vocal   2nd setting; see Op.32  "
      ]
     },
     "execution_count": 28,
     "metadata": {},
     "output_type": "execute_result"
    }
   ],
   "source": [
    "len(df[df[\"key\"] == \"F♯ major\"]) # 1\n",
    "len(df[df[\"key\"] == \"B♭ minor\"]) # 1\n",
    "\n",
    "df[df[\"key\"] == \"B♭ minor\"]"
   ]
  },
  {
   "cell_type": "code",
   "execution_count": 29,
   "metadata": {},
   "outputs": [],
   "source": [
    "df.loc[df[\"key\"] == \"B♭ minor\", \"key\"] = \"E♭ major\""
   ]
  },
  {
   "cell_type": "code",
   "execution_count": 30,
   "metadata": {},
   "outputs": [
    {
     "data": {
      "text/html": [
       "<div>\n",
       "<style scoped>\n",
       "    .dataframe tbody tr th:only-of-type {\n",
       "        vertical-align: middle;\n",
       "    }\n",
       "\n",
       "    .dataframe tbody tr th {\n",
       "        vertical-align: top;\n",
       "    }\n",
       "\n",
       "    .dataframe thead th {\n",
       "        text-align: right;\n",
       "    }\n",
       "</style>\n",
       "<table border=\"1\" class=\"dataframe\">\n",
       "  <thead>\n",
       "    <tr style=\"text-align: right;\">\n",
       "      <th></th>\n",
       "      <th>op.</th>\n",
       "      <th>woo</th>\n",
       "      <th>hess</th>\n",
       "      <th>biam-onti</th>\n",
       "      <th>title</th>\n",
       "      <th>key</th>\n",
       "      <th>date</th>\n",
       "      <th>scoring</th>\n",
       "      <th>genre</th>\n",
       "      <th>notes</th>\n",
       "    </tr>\n",
       "  </thead>\n",
       "  <tbody>\n",
       "  </tbody>\n",
       "</table>\n",
       "</div>"
      ],
      "text/plain": [
       "Empty DataFrame\n",
       "Columns: [op., woo, hess, biam-onti, title, key, date, scoring, genre, notes]\n",
       "Index: []"
      ]
     },
     "execution_count": 30,
     "metadata": {},
     "output_type": "execute_result"
    }
   ],
   "source": [
    "# Check\n",
    "df[df[\"key\"] == \"B♭ minor\"]"
   ]
  },
  {
   "cell_type": "markdown",
   "metadata": {},
   "source": [
    "### Mode"
   ]
  },
  {
   "cell_type": "code",
   "execution_count": 31,
   "metadata": {},
   "outputs": [],
   "source": [
    "def decide_key(key):\n",
    "    if \"major\" in key:\n",
    "        if \"minor\" not in key:\n",
    "            return \"major\"\n",
    "        else:\n",
    "            return \"other\"\n",
    "    elif \"minor\" in key:\n",
    "        if \"major\" not in key:\n",
    "            return \"minor\"\n",
    "        else:\n",
    "            return \"other\"\n",
    "    else:\n",
    "        return None"
   ]
  },
  {
   "cell_type": "code",
   "execution_count": 32,
   "metadata": {},
   "outputs": [],
   "source": [
    "df[\"mode\"] = df[\"key\"].apply(decide_key)"
   ]
  },
  {
   "cell_type": "markdown",
   "metadata": {},
   "source": [
    "## Date"
   ]
  },
  {
   "cell_type": "code",
   "execution_count": 33,
   "metadata": {},
   "outputs": [
    {
     "data": {
      "text/plain": [
       "(' -', ' —')"
      ]
     },
     "execution_count": 33,
     "metadata": {},
     "output_type": "execute_result"
    }
   ],
   "source": [
    "df[\"date\"].min(), df[\"date\"].max()"
   ]
  },
  {
   "cell_type": "markdown",
   "metadata": {},
   "source": [
    "Well..."
   ]
  },
  {
   "cell_type": "code",
   "execution_count": 34,
   "metadata": {},
   "outputs": [
    {
     "data": {
      "text/html": [
       "<div>\n",
       "<style scoped>\n",
       "    .dataframe tbody tr th:only-of-type {\n",
       "        vertical-align: middle;\n",
       "    }\n",
       "\n",
       "    .dataframe tbody tr th {\n",
       "        vertical-align: top;\n",
       "    }\n",
       "\n",
       "    .dataframe thead th {\n",
       "        text-align: right;\n",
       "    }\n",
       "</style>\n",
       "<table border=\"1\" class=\"dataframe\">\n",
       "  <thead>\n",
       "    <tr style=\"text-align: right;\">\n",
       "      <th></th>\n",
       "      <th>op.</th>\n",
       "      <th>woo</th>\n",
       "      <th>hess</th>\n",
       "      <th>biam-onti</th>\n",
       "      <th>title</th>\n",
       "      <th>key</th>\n",
       "      <th>date</th>\n",
       "      <th>scoring</th>\n",
       "      <th>genre</th>\n",
       "      <th>notes</th>\n",
       "      <th>mode</th>\n",
       "    </tr>\n",
       "  </thead>\n",
       "  <tbody>\n",
       "    <tr>\n",
       "      <th>556</th>\n",
       "      <td>—</td>\n",
       "      <td>—</td>\n",
       "      <td>—</td>\n",
       "      <td>—</td>\n",
       "      <td>Hymne an die Nacht</td>\n",
       "      <td>C major</td>\n",
       "      <td>-</td>\n",
       "      <td>ch pf</td>\n",
       "      <td>Vocal</td>\n",
       "      <td>setting of theme from Op.57; Beethoven's auth...</td>\n",
       "      <td>major</td>\n",
       "    </tr>\n",
       "  </tbody>\n",
       "</table>\n",
       "</div>"
      ],
      "text/plain": [
       "    op. woo hess biam-onti                title      key date scoring   genre  \\\n",
       "556   —   —    —         —   Hymne an die Nacht  C major    -   ch pf   Vocal   \n",
       "\n",
       "                                                 notes   mode  \n",
       "556   setting of theme from Op.57; Beethoven's auth...  major  "
      ]
     },
     "execution_count": 34,
     "metadata": {},
     "output_type": "execute_result"
    }
   ],
   "source": [
    "# Let's say we need to have date values with numbers\n",
    "df[df[\"date\"] == \" -\"]"
   ]
  },
  {
   "cell_type": "code",
   "execution_count": 35,
   "metadata": {},
   "outputs": [],
   "source": [
    "# Strip this whitespace...?\n",
    "df[\"date\"] = df[\"date\"].str.strip()"
   ]
  },
  {
   "cell_type": "code",
   "execution_count": 36,
   "metadata": {},
   "outputs": [
    {
     "data": {
      "text/html": [
       "<div>\n",
       "<style scoped>\n",
       "    .dataframe tbody tr th:only-of-type {\n",
       "        vertical-align: middle;\n",
       "    }\n",
       "\n",
       "    .dataframe tbody tr th {\n",
       "        vertical-align: top;\n",
       "    }\n",
       "\n",
       "    .dataframe thead th {\n",
       "        text-align: right;\n",
       "    }\n",
       "</style>\n",
       "<table border=\"1\" class=\"dataframe\">\n",
       "  <thead>\n",
       "    <tr style=\"text-align: right;\">\n",
       "      <th></th>\n",
       "      <th>op.</th>\n",
       "      <th>woo</th>\n",
       "      <th>hess</th>\n",
       "      <th>biam-onti</th>\n",
       "      <th>title</th>\n",
       "      <th>key</th>\n",
       "      <th>date</th>\n",
       "      <th>scoring</th>\n",
       "      <th>genre</th>\n",
       "      <th>notes</th>\n",
       "      <th>mode</th>\n",
       "    </tr>\n",
       "  </thead>\n",
       "  <tbody>\n",
       "    <tr>\n",
       "      <th>118</th>\n",
       "      <td>063</td>\n",
       "      <td>—</td>\n",
       "      <td>Anh.14</td>\n",
       "      <td>II/65</td>\n",
       "      <td>Piano Trio</td>\n",
       "      <td>E♭ major</td>\n",
       "      <td>—</td>\n",
       "      <td>vn va vc</td>\n",
       "      <td>Chamber</td>\n",
       "      <td>arr. of Op.4; Beethoven's authorship doubtful</td>\n",
       "      <td>major</td>\n",
       "    </tr>\n",
       "    <tr>\n",
       "      <th>556</th>\n",
       "      <td>—</td>\n",
       "      <td>—</td>\n",
       "      <td>—</td>\n",
       "      <td>—</td>\n",
       "      <td>Hymne an die Nacht</td>\n",
       "      <td>C major</td>\n",
       "      <td>-</td>\n",
       "      <td>ch pf</td>\n",
       "      <td>Vocal</td>\n",
       "      <td>setting of theme from Op.57; Beethoven's auth...</td>\n",
       "      <td>major</td>\n",
       "    </tr>\n",
       "  </tbody>\n",
       "</table>\n",
       "</div>"
      ],
      "text/plain": [
       "      op. woo     hess biam-onti                title       key date  \\\n",
       "118   063   —   Anh.14     II/65           Piano Trio  E♭ major    —   \n",
       "556     —   —        —         —   Hymne an die Nacht   C major    -   \n",
       "\n",
       "       scoring     genre                                              notes  \\\n",
       "118   vn va vc   Chamber      arr. of Op.4; Beethoven's authorship doubtful   \n",
       "556      ch pf     Vocal   setting of theme from Op.57; Beethoven's auth...   \n",
       "\n",
       "      mode  \n",
       "118  major  \n",
       "556  major  "
      ]
     },
     "execution_count": 36,
     "metadata": {},
     "output_type": "execute_result"
    }
   ],
   "source": [
    "df[~df[\"date\"].apply(lambda x: bool(re.search(\"[0-9]\", x)))]"
   ]
  },
  {
   "cell_type": "code",
   "execution_count": 37,
   "metadata": {},
   "outputs": [],
   "source": [
    "# Yep, we can take those out\n",
    "df = df[df[\"date\"].apply(lambda x: bool(re.search(\"[0-9]\", x)))]"
   ]
  },
  {
   "cell_type": "code",
   "execution_count": 38,
   "metadata": {},
   "outputs": [
    {
     "data": {
      "text/plain": [
       "('1782', '1826')"
      ]
     },
     "execution_count": 38,
     "metadata": {},
     "output_type": "execute_result"
    }
   ],
   "source": [
    "df[\"date\"].min(), df[\"date\"].max()"
   ]
  },
  {
   "cell_type": "code",
   "execution_count": 39,
   "metadata": {},
   "outputs": [
    {
     "data": {
      "text/plain": [
       "399"
      ]
     },
     "execution_count": 39,
     "metadata": {},
     "output_type": "execute_result"
    }
   ],
   "source": [
    "len(df)"
   ]
  },
  {
   "cell_type": "code",
   "execution_count": 40,
   "metadata": {},
   "outputs": [
    {
     "data": {
      "text/plain": [
       "167"
      ]
     },
     "execution_count": 40,
     "metadata": {},
     "output_type": "execute_result"
    }
   ],
   "source": [
    "# So how many of these are date ranges...\n",
    "len(df[df[\"date\"].str.contains(\"-\")])"
   ]
  },
  {
   "cell_type": "markdown",
   "metadata": {},
   "source": [
    "Dang, we need to find ways to decide... for now, let's keep a column for min and max dates"
   ]
  },
  {
   "cell_type": "code",
   "execution_count": 41,
   "metadata": {},
   "outputs": [],
   "source": [
    "df[\"min_date\"] = df[\"date\"].apply(lambda x: x.split(\"-\")[0] if \"-\" in x else x)\n",
    "# Need to add the first two characters\n",
    "df[\"max_date\"] = df[\"date\"].apply(lambda x: x[0:2] + x.split(\"-\")[1] if \"-\" in x else x)\n",
    "# Need to fix of turn of century exception\n",
    "df[\"max_date\"] = df[\"max_date\"].apply(lambda x: x[2:] if len(x) == 6 else x) # "
   ]
  },
  {
   "cell_type": "code",
   "execution_count": 42,
   "metadata": {},
   "outputs": [
    {
     "data": {
      "text/html": [
       "<div>\n",
       "<style scoped>\n",
       "    .dataframe tbody tr th:only-of-type {\n",
       "        vertical-align: middle;\n",
       "    }\n",
       "\n",
       "    .dataframe tbody tr th {\n",
       "        vertical-align: top;\n",
       "    }\n",
       "\n",
       "    .dataframe thead th {\n",
       "        text-align: right;\n",
       "    }\n",
       "</style>\n",
       "<table border=\"1\" class=\"dataframe\">\n",
       "  <thead>\n",
       "    <tr style=\"text-align: right;\">\n",
       "      <th></th>\n",
       "      <th>op.</th>\n",
       "      <th>woo</th>\n",
       "      <th>hess</th>\n",
       "      <th>biam-onti</th>\n",
       "      <th>title</th>\n",
       "      <th>key</th>\n",
       "      <th>date</th>\n",
       "      <th>scoring</th>\n",
       "      <th>genre</th>\n",
       "      <th>notes</th>\n",
       "      <th>mode</th>\n",
       "      <th>min_date</th>\n",
       "      <th>max_date</th>\n",
       "    </tr>\n",
       "  </thead>\n",
       "  <tbody>\n",
       "    <tr>\n",
       "      <th>1</th>\n",
       "      <td>001/1</td>\n",
       "      <td>—</td>\n",
       "      <td>—</td>\n",
       "      <td>062/1</td>\n",
       "      <td>Piano Trio</td>\n",
       "      <td>E♭ major</td>\n",
       "      <td>1792-93</td>\n",
       "      <td>vn vc pf</td>\n",
       "      <td>Chamber</td>\n",
       "      <td></td>\n",
       "      <td>major</td>\n",
       "      <td>1792</td>\n",
       "      <td>1793</td>\n",
       "    </tr>\n",
       "    <tr>\n",
       "      <th>2</th>\n",
       "      <td>001/2</td>\n",
       "      <td>—</td>\n",
       "      <td>—</td>\n",
       "      <td>062/2</td>\n",
       "      <td>Piano Trio</td>\n",
       "      <td>G major</td>\n",
       "      <td>1792-94</td>\n",
       "      <td>vn vc pf</td>\n",
       "      <td>Chamber</td>\n",
       "      <td></td>\n",
       "      <td>major</td>\n",
       "      <td>1792</td>\n",
       "      <td>1794</td>\n",
       "    </tr>\n",
       "    <tr>\n",
       "      <th>3</th>\n",
       "      <td>001/3</td>\n",
       "      <td>—</td>\n",
       "      <td>—</td>\n",
       "      <td>062/3</td>\n",
       "      <td>Piano Trio</td>\n",
       "      <td>C minor</td>\n",
       "      <td>1792-94</td>\n",
       "      <td>vn vc pf</td>\n",
       "      <td>Chamber</td>\n",
       "      <td>arr. for 2vn va vc as Op.104</td>\n",
       "      <td>minor</td>\n",
       "      <td>1792</td>\n",
       "      <td>1794</td>\n",
       "    </tr>\n",
       "    <tr>\n",
       "      <th>5</th>\n",
       "      <td>002/1</td>\n",
       "      <td>—</td>\n",
       "      <td>—</td>\n",
       "      <td>087/1</td>\n",
       "      <td>Piano Sonata No.1</td>\n",
       "      <td>F minor</td>\n",
       "      <td>1793-95</td>\n",
       "      <td>pf</td>\n",
       "      <td>Keyboard</td>\n",
       "      <td></td>\n",
       "      <td>minor</td>\n",
       "      <td>1793</td>\n",
       "      <td>1795</td>\n",
       "    </tr>\n",
       "    <tr>\n",
       "      <th>6</th>\n",
       "      <td>002/2</td>\n",
       "      <td>—</td>\n",
       "      <td>—</td>\n",
       "      <td>087/2</td>\n",
       "      <td>Piano Sonata No.2</td>\n",
       "      <td>A major</td>\n",
       "      <td>1794-95</td>\n",
       "      <td>pf</td>\n",
       "      <td>Keyboard</td>\n",
       "      <td></td>\n",
       "      <td>major</td>\n",
       "      <td>1794</td>\n",
       "      <td>1795</td>\n",
       "    </tr>\n",
       "  </tbody>\n",
       "</table>\n",
       "</div>"
      ],
      "text/plain": [
       "      op. woo hess biam-onti               title       key     date  \\\n",
       "1   001/1   —    —     062/1          Piano Trio  E♭ major  1792-93   \n",
       "2   001/2   —    —     062/2          Piano Trio   G major  1792-94   \n",
       "3   001/3   —    —     062/3          Piano Trio   C minor  1792-94   \n",
       "5   002/1   —    —     087/1   Piano Sonata No.1   F minor  1793-95   \n",
       "6   002/2   —    —     087/2   Piano Sonata No.2   A major  1794-95   \n",
       "\n",
       "     scoring      genre                          notes   mode min_date  \\\n",
       "1   vn vc pf    Chamber                                 major     1792   \n",
       "2   vn vc pf    Chamber                                 major     1792   \n",
       "3   vn vc pf    Chamber   arr. for 2vn va vc as Op.104  minor     1792   \n",
       "5         pf   Keyboard                                 minor     1793   \n",
       "6         pf   Keyboard                                 major     1794   \n",
       "\n",
       "  max_date  \n",
       "1     1793  \n",
       "2     1794  \n",
       "3     1794  \n",
       "5     1795  \n",
       "6     1795  "
      ]
     },
     "execution_count": 42,
     "metadata": {},
     "output_type": "execute_result"
    }
   ],
   "source": [
    "df.head()"
   ]
  },
  {
   "cell_type": "code",
   "execution_count": 43,
   "metadata": {},
   "outputs": [
    {
     "data": {
      "text/html": [
       "<div>\n",
       "<style scoped>\n",
       "    .dataframe tbody tr th:only-of-type {\n",
       "        vertical-align: middle;\n",
       "    }\n",
       "\n",
       "    .dataframe tbody tr th {\n",
       "        vertical-align: top;\n",
       "    }\n",
       "\n",
       "    .dataframe thead th {\n",
       "        text-align: right;\n",
       "    }\n",
       "</style>\n",
       "<table border=\"1\" class=\"dataframe\">\n",
       "  <thead>\n",
       "    <tr style=\"text-align: right;\">\n",
       "      <th></th>\n",
       "      <th>op.</th>\n",
       "      <th>woo</th>\n",
       "      <th>hess</th>\n",
       "      <th>biam-onti</th>\n",
       "      <th>title</th>\n",
       "      <th>key</th>\n",
       "      <th>date</th>\n",
       "      <th>scoring</th>\n",
       "      <th>genre</th>\n",
       "      <th>notes</th>\n",
       "      <th>mode</th>\n",
       "      <th>min_date</th>\n",
       "      <th>max_date</th>\n",
       "    </tr>\n",
       "  </thead>\n",
       "  <tbody>\n",
       "    <tr>\n",
       "      <th>271</th>\n",
       "      <td>—</td>\n",
       "      <td>002b</td>\n",
       "      <td>117</td>\n",
       "      <td>554</td>\n",
       "      <td>Prelude to Act II</td>\n",
       "      <td>D major</td>\n",
       "      <td>1805?</td>\n",
       "      <td>orch</td>\n",
       "      <td>Stage</td>\n",
       "      <td>now thought to be from the opening of Act II ...</td>\n",
       "      <td>major</td>\n",
       "      <td>1805?</td>\n",
       "      <td>1805?</td>\n",
       "    </tr>\n",
       "    <tr>\n",
       "      <th>347</th>\n",
       "      <td>—</td>\n",
       "      <td>053</td>\n",
       "      <td>066</td>\n",
       "      <td>159</td>\n",
       "      <td>Allegretto</td>\n",
       "      <td>C minor</td>\n",
       "      <td>1796-97 ?</td>\n",
       "      <td>pf</td>\n",
       "      <td>Keyboard</td>\n",
       "      <td>2nd version</td>\n",
       "      <td>minor</td>\n",
       "      <td>1796</td>\n",
       "      <td>97 ?</td>\n",
       "    </tr>\n",
       "    <tr>\n",
       "      <th>541</th>\n",
       "      <td>—</td>\n",
       "      <td>Anh. 04</td>\n",
       "      <td>—</td>\n",
       "      <td>—</td>\n",
       "      <td>Flute Sonata</td>\n",
       "      <td>B♭ major</td>\n",
       "      <td>1790-92 ?</td>\n",
       "      <td>fl pf</td>\n",
       "      <td>Chamber</td>\n",
       "      <td>Beethoven's authoship uncertain</td>\n",
       "      <td>major</td>\n",
       "      <td>1790</td>\n",
       "      <td>92 ?</td>\n",
       "    </tr>\n",
       "    <tr>\n",
       "      <th>543</th>\n",
       "      <td>—</td>\n",
       "      <td>Anh. 10</td>\n",
       "      <td>—</td>\n",
       "      <td>—</td>\n",
       "      <td>Variations on 'Ich hab ein kleines Hüttchen nur'</td>\n",
       "      <td>B♭ major</td>\n",
       "      <td>1795 ?</td>\n",
       "      <td>pf</td>\n",
       "      <td>Keyboard</td>\n",
       "      <td>Beethoven's authorship is doubtful</td>\n",
       "      <td>major</td>\n",
       "      <td>1795 ?</td>\n",
       "      <td>95 ?</td>\n",
       "    </tr>\n",
       "  </tbody>\n",
       "</table>\n",
       "</div>"
      ],
      "text/plain": [
       "    op.       woo  hess biam-onti  \\\n",
       "271   —      002b   117       554   \n",
       "347   —       053   066       159   \n",
       "541   —   Anh. 04     —         —   \n",
       "543   —   Anh. 10     —         —   \n",
       "\n",
       "                                                 title       key       date  \\\n",
       "271                                  Prelude to Act II   D major      1805?   \n",
       "347                                         Allegretto   C minor  1796-97 ?   \n",
       "541                                       Flute Sonata  B♭ major  1790-92 ?   \n",
       "543   Variations on 'Ich hab ein kleines Hüttchen nur'  B♭ major     1795 ?   \n",
       "\n",
       "    scoring      genre                                              notes  \\\n",
       "271    orch      Stage   now thought to be from the opening of Act II ...   \n",
       "347      pf   Keyboard                                        2nd version   \n",
       "541   fl pf    Chamber                    Beethoven's authoship uncertain   \n",
       "543      pf   Keyboard                 Beethoven's authorship is doubtful   \n",
       "\n",
       "      mode min_date max_date  \n",
       "271  major    1805?    1805?  \n",
       "347  minor     1796     97 ?  \n",
       "541  major     1790     92 ?  \n",
       "543  major   1795 ?     95 ?  "
      ]
     },
     "execution_count": 43,
     "metadata": {},
     "output_type": "execute_result"
    }
   ],
   "source": [
    "# Looks like there are question marks... let's just take these out too to resolve issues\n",
    "df[df[\"date\"].str.contains(\"\\?\")]"
   ]
  },
  {
   "cell_type": "code",
   "execution_count": 44,
   "metadata": {},
   "outputs": [],
   "source": [
    "df = df[~df[\"date\"].str.contains(\"\\?\")]"
   ]
  },
  {
   "cell_type": "code",
   "execution_count": 45,
   "metadata": {},
   "outputs": [
    {
     "data": {
      "text/plain": [
       "395"
      ]
     },
     "execution_count": 45,
     "metadata": {},
     "output_type": "execute_result"
    }
   ],
   "source": [
    "len(df)"
   ]
  },
  {
   "cell_type": "markdown",
   "metadata": {},
   "source": [
    "### Further non-numeric purging"
   ]
  },
  {
   "cell_type": "markdown",
   "metadata": {
    "heading_collapsed": true
   },
   "source": [
    "#### Failed attempts"
   ]
  },
  {
   "cell_type": "markdown",
   "metadata": {
    "hidden": true
   },
   "source": [
    "Alright, let's find dates where there is something other than a number or \"-\""
   ]
  },
  {
   "cell_type": "code",
   "execution_count": 46,
   "metadata": {
    "hidden": true
   },
   "outputs": [
    {
     "data": {
      "text/html": [
       "<div>\n",
       "<style scoped>\n",
       "    .dataframe tbody tr th:only-of-type {\n",
       "        vertical-align: middle;\n",
       "    }\n",
       "\n",
       "    .dataframe tbody tr th {\n",
       "        vertical-align: top;\n",
       "    }\n",
       "\n",
       "    .dataframe thead th {\n",
       "        text-align: right;\n",
       "    }\n",
       "</style>\n",
       "<table border=\"1\" class=\"dataframe\">\n",
       "  <thead>\n",
       "    <tr style=\"text-align: right;\">\n",
       "      <th></th>\n",
       "      <th>op.</th>\n",
       "      <th>woo</th>\n",
       "      <th>hess</th>\n",
       "      <th>biam-onti</th>\n",
       "      <th>title</th>\n",
       "      <th>key</th>\n",
       "      <th>date</th>\n",
       "      <th>scoring</th>\n",
       "      <th>genre</th>\n",
       "      <th>notes</th>\n",
       "      <th>mode</th>\n",
       "      <th>min_date</th>\n",
       "      <th>max_date</th>\n",
       "    </tr>\n",
       "  </thead>\n",
       "  <tbody>\n",
       "    <tr>\n",
       "      <th>1</th>\n",
       "      <td>001/1</td>\n",
       "      <td>—</td>\n",
       "      <td>—</td>\n",
       "      <td>062/1</td>\n",
       "      <td>Piano Trio</td>\n",
       "      <td>E♭ major</td>\n",
       "      <td>1792-93</td>\n",
       "      <td>vn vc pf</td>\n",
       "      <td>Chamber</td>\n",
       "      <td></td>\n",
       "      <td>major</td>\n",
       "      <td>1792</td>\n",
       "      <td>1793</td>\n",
       "    </tr>\n",
       "    <tr>\n",
       "      <th>2</th>\n",
       "      <td>001/2</td>\n",
       "      <td>—</td>\n",
       "      <td>—</td>\n",
       "      <td>062/2</td>\n",
       "      <td>Piano Trio</td>\n",
       "      <td>G major</td>\n",
       "      <td>1792-94</td>\n",
       "      <td>vn vc pf</td>\n",
       "      <td>Chamber</td>\n",
       "      <td></td>\n",
       "      <td>major</td>\n",
       "      <td>1792</td>\n",
       "      <td>1794</td>\n",
       "    </tr>\n",
       "    <tr>\n",
       "      <th>3</th>\n",
       "      <td>001/3</td>\n",
       "      <td>—</td>\n",
       "      <td>—</td>\n",
       "      <td>062/3</td>\n",
       "      <td>Piano Trio</td>\n",
       "      <td>C minor</td>\n",
       "      <td>1792-94</td>\n",
       "      <td>vn vc pf</td>\n",
       "      <td>Chamber</td>\n",
       "      <td>arr. for 2vn va vc as Op.104</td>\n",
       "      <td>minor</td>\n",
       "      <td>1792</td>\n",
       "      <td>1794</td>\n",
       "    </tr>\n",
       "    <tr>\n",
       "      <th>5</th>\n",
       "      <td>002/1</td>\n",
       "      <td>—</td>\n",
       "      <td>—</td>\n",
       "      <td>087/1</td>\n",
       "      <td>Piano Sonata No.1</td>\n",
       "      <td>F minor</td>\n",
       "      <td>1793-95</td>\n",
       "      <td>pf</td>\n",
       "      <td>Keyboard</td>\n",
       "      <td></td>\n",
       "      <td>minor</td>\n",
       "      <td>1793</td>\n",
       "      <td>1795</td>\n",
       "    </tr>\n",
       "    <tr>\n",
       "      <th>6</th>\n",
       "      <td>002/2</td>\n",
       "      <td>—</td>\n",
       "      <td>—</td>\n",
       "      <td>087/2</td>\n",
       "      <td>Piano Sonata No.2</td>\n",
       "      <td>A major</td>\n",
       "      <td>1794-95</td>\n",
       "      <td>pf</td>\n",
       "      <td>Keyboard</td>\n",
       "      <td></td>\n",
       "      <td>major</td>\n",
       "      <td>1794</td>\n",
       "      <td>1795</td>\n",
       "    </tr>\n",
       "  </tbody>\n",
       "</table>\n",
       "</div>"
      ],
      "text/plain": [
       "      op. woo hess biam-onti               title       key     date  \\\n",
       "1   001/1   —    —     062/1          Piano Trio  E♭ major  1792-93   \n",
       "2   001/2   —    —     062/2          Piano Trio   G major  1792-94   \n",
       "3   001/3   —    —     062/3          Piano Trio   C minor  1792-94   \n",
       "5   002/1   —    —     087/1   Piano Sonata No.1   F minor  1793-95   \n",
       "6   002/2   —    —     087/2   Piano Sonata No.2   A major  1794-95   \n",
       "\n",
       "     scoring      genre                          notes   mode min_date  \\\n",
       "1   vn vc pf    Chamber                                 major     1792   \n",
       "2   vn vc pf    Chamber                                 major     1792   \n",
       "3   vn vc pf    Chamber   arr. for 2vn va vc as Op.104  minor     1792   \n",
       "5         pf   Keyboard                                 minor     1793   \n",
       "6         pf   Keyboard                                 major     1794   \n",
       "\n",
       "  max_date  \n",
       "1     1793  \n",
       "2     1794  \n",
       "3     1794  \n",
       "5     1795  \n",
       "6     1795  "
      ]
     },
     "execution_count": 46,
     "metadata": {},
     "output_type": "execute_result"
    }
   ],
   "source": [
    "df[(df[\"date\"] != r\"[0-9]*\") | (df[\"date\"] != r\"[0-9]*-[0-9]*\")].head()"
   ]
  },
  {
   "cell_type": "markdown",
   "metadata": {
    "hidden": true
   },
   "source": [
    "Uh..."
   ]
  },
  {
   "cell_type": "code",
   "execution_count": 47,
   "metadata": {
    "hidden": true
   },
   "outputs": [
    {
     "data": {
      "text/html": [
       "<div>\n",
       "<style scoped>\n",
       "    .dataframe tbody tr th:only-of-type {\n",
       "        vertical-align: middle;\n",
       "    }\n",
       "\n",
       "    .dataframe tbody tr th {\n",
       "        vertical-align: top;\n",
       "    }\n",
       "\n",
       "    .dataframe thead th {\n",
       "        text-align: right;\n",
       "    }\n",
       "</style>\n",
       "<table border=\"1\" class=\"dataframe\">\n",
       "  <thead>\n",
       "    <tr style=\"text-align: right;\">\n",
       "      <th></th>\n",
       "      <th>op.</th>\n",
       "      <th>woo</th>\n",
       "      <th>hess</th>\n",
       "      <th>biam-onti</th>\n",
       "      <th>title</th>\n",
       "      <th>key</th>\n",
       "      <th>date</th>\n",
       "      <th>scoring</th>\n",
       "      <th>genre</th>\n",
       "      <th>notes</th>\n",
       "      <th>mode</th>\n",
       "      <th>min_date</th>\n",
       "      <th>max_date</th>\n",
       "    </tr>\n",
       "  </thead>\n",
       "  <tbody>\n",
       "    <tr>\n",
       "      <th>8</th>\n",
       "      <td>003</td>\n",
       "      <td>—</td>\n",
       "      <td>—</td>\n",
       "      <td>105</td>\n",
       "      <td>String Trio</td>\n",
       "      <td>E♭ major</td>\n",
       "      <td>1794</td>\n",
       "      <td>vn va vc</td>\n",
       "      <td>Chamber</td>\n",
       "      <td>see also Op.64</td>\n",
       "      <td>major</td>\n",
       "      <td>1794</td>\n",
       "      <td>1794</td>\n",
       "    </tr>\n",
       "    <tr>\n",
       "      <th>9</th>\n",
       "      <td>004</td>\n",
       "      <td>—</td>\n",
       "      <td>—</td>\n",
       "      <td>115</td>\n",
       "      <td>String Quintet</td>\n",
       "      <td>E♭ major</td>\n",
       "      <td>1795</td>\n",
       "      <td>2vn 2va vc</td>\n",
       "      <td>Chamber</td>\n",
       "      <td>based on Op.103; see also Op.63</td>\n",
       "      <td>major</td>\n",
       "      <td>1795</td>\n",
       "      <td>1795</td>\n",
       "    </tr>\n",
       "    <tr>\n",
       "      <th>11</th>\n",
       "      <td>005/1</td>\n",
       "      <td>—</td>\n",
       "      <td>—</td>\n",
       "      <td>106/1</td>\n",
       "      <td>Cello Sonata No.1</td>\n",
       "      <td>F major</td>\n",
       "      <td>1796</td>\n",
       "      <td>vc pf</td>\n",
       "      <td>Chamber</td>\n",
       "      <td></td>\n",
       "      <td>major</td>\n",
       "      <td>1796</td>\n",
       "      <td>1796</td>\n",
       "    </tr>\n",
       "    <tr>\n",
       "      <th>12</th>\n",
       "      <td>005/2</td>\n",
       "      <td>—</td>\n",
       "      <td>—</td>\n",
       "      <td>106/2</td>\n",
       "      <td>Cello Sonata No.2</td>\n",
       "      <td>G minor</td>\n",
       "      <td>1796</td>\n",
       "      <td>vc pf</td>\n",
       "      <td>Chamber</td>\n",
       "      <td></td>\n",
       "      <td>minor</td>\n",
       "      <td>1796</td>\n",
       "      <td>1796</td>\n",
       "    </tr>\n",
       "    <tr>\n",
       "      <th>32</th>\n",
       "      <td>014/2</td>\n",
       "      <td>—</td>\n",
       "      <td>—</td>\n",
       "      <td>284</td>\n",
       "      <td>Piano Sonata No.10</td>\n",
       "      <td>G major</td>\n",
       "      <td>1799</td>\n",
       "      <td>pf</td>\n",
       "      <td>Keyboard</td>\n",
       "      <td></td>\n",
       "      <td>major</td>\n",
       "      <td>1799</td>\n",
       "      <td>1799</td>\n",
       "    </tr>\n",
       "  </tbody>\n",
       "</table>\n",
       "</div>"
      ],
      "text/plain": [
       "       op. woo hess biam-onti                title       key  date  \\\n",
       "8      003   —    —       105          String Trio  E♭ major  1794   \n",
       "9      004   —    —       115       String Quintet  E♭ major  1795   \n",
       "11   005/1   —    —     106/1    Cello Sonata No.1   F major  1796   \n",
       "12   005/2   —    —     106/2    Cello Sonata No.2   G minor  1796   \n",
       "32   014/2   —    —       284   Piano Sonata No.10   G major  1799   \n",
       "\n",
       "        scoring      genre                             notes   mode min_date  \\\n",
       "8      vn va vc    Chamber                    see also Op.64  major     1794   \n",
       "9    2vn 2va vc    Chamber   based on Op.103; see also Op.63  major     1795   \n",
       "11        vc pf    Chamber                                    major     1796   \n",
       "12        vc pf    Chamber                                    minor     1796   \n",
       "32           pf   Keyboard                                    major     1799   \n",
       "\n",
       "   max_date  \n",
       "8      1794  \n",
       "9      1795  \n",
       "11     1796  \n",
       "12     1796  \n",
       "32     1799  "
      ]
     },
     "execution_count": 47,
     "metadata": {},
     "output_type": "execute_result"
    }
   ],
   "source": [
    "df[~df[\"date\"].apply(lambda x: bool(re.match(r\"[0-9]*-[0-9]*\", x)))].head()"
   ]
  },
  {
   "cell_type": "markdown",
   "metadata": {
    "hidden": true
   },
   "source": [
    "Hmm..."
   ]
  },
  {
   "cell_type": "code",
   "execution_count": 48,
   "metadata": {
    "hidden": true
   },
   "outputs": [
    {
     "data": {
      "text/html": [
       "<div>\n",
       "<style scoped>\n",
       "    .dataframe tbody tr th:only-of-type {\n",
       "        vertical-align: middle;\n",
       "    }\n",
       "\n",
       "    .dataframe tbody tr th {\n",
       "        vertical-align: top;\n",
       "    }\n",
       "\n",
       "    .dataframe thead th {\n",
       "        text-align: right;\n",
       "    }\n",
       "</style>\n",
       "<table border=\"1\" class=\"dataframe\">\n",
       "  <thead>\n",
       "    <tr style=\"text-align: right;\">\n",
       "      <th></th>\n",
       "      <th>op.</th>\n",
       "      <th>woo</th>\n",
       "      <th>hess</th>\n",
       "      <th>biam-onti</th>\n",
       "      <th>title</th>\n",
       "      <th>key</th>\n",
       "      <th>date</th>\n",
       "      <th>scoring</th>\n",
       "      <th>genre</th>\n",
       "      <th>notes</th>\n",
       "      <th>mode</th>\n",
       "      <th>min_date</th>\n",
       "      <th>max_date</th>\n",
       "    </tr>\n",
       "  </thead>\n",
       "  <tbody>\n",
       "  </tbody>\n",
       "</table>\n",
       "</div>"
      ],
      "text/plain": [
       "Empty DataFrame\n",
       "Columns: [op., woo, hess, biam-onti, title, key, date, scoring, genre, notes, mode, min_date, max_date]\n",
       "Index: []"
      ]
     },
     "execution_count": 48,
     "metadata": {},
     "output_type": "execute_result"
    }
   ],
   "source": [
    "df[~df[\"date\"].str.match(r\"[0-9]*-[0-9]*|[0-9]*\")]"
   ]
  },
  {
   "cell_type": "markdown",
   "metadata": {},
   "source": [
    "#### Successful approach"
   ]
  },
  {
   "cell_type": "markdown",
   "metadata": {},
   "source": [
    "Okay, let's switch up the approach"
   ]
  },
  {
   "cell_type": "code",
   "execution_count": 49,
   "metadata": {},
   "outputs": [],
   "source": [
    "chars_to_match = [str(x) for x in list(range(10)) + [\"-\"]]"
   ]
  },
  {
   "cell_type": "code",
   "execution_count": 50,
   "metadata": {},
   "outputs": [
    {
     "data": {
      "text/plain": [
       "['0', '1', '2', '3', '4', '5', '6', '7', '8', '9', '-']"
      ]
     },
     "execution_count": 50,
     "metadata": {},
     "output_type": "execute_result"
    }
   ],
   "source": [
    "chars_to_match"
   ]
  },
  {
   "cell_type": "code",
   "execution_count": 51,
   "metadata": {},
   "outputs": [
    {
     "data": {
      "text/html": [
       "<div>\n",
       "<style scoped>\n",
       "    .dataframe tbody tr th:only-of-type {\n",
       "        vertical-align: middle;\n",
       "    }\n",
       "\n",
       "    .dataframe tbody tr th {\n",
       "        vertical-align: top;\n",
       "    }\n",
       "\n",
       "    .dataframe thead th {\n",
       "        text-align: right;\n",
       "    }\n",
       "</style>\n",
       "<table border=\"1\" class=\"dataframe\">\n",
       "  <thead>\n",
       "    <tr style=\"text-align: right;\">\n",
       "      <th></th>\n",
       "      <th>op.</th>\n",
       "      <th>woo</th>\n",
       "      <th>hess</th>\n",
       "      <th>biam-onti</th>\n",
       "      <th>title</th>\n",
       "      <th>key</th>\n",
       "      <th>date</th>\n",
       "      <th>scoring</th>\n",
       "      <th>genre</th>\n",
       "      <th>notes</th>\n",
       "      <th>mode</th>\n",
       "      <th>min_date</th>\n",
       "      <th>max_date</th>\n",
       "    </tr>\n",
       "  </thead>\n",
       "  <tbody>\n",
       "    <tr>\n",
       "      <th>108</th>\n",
       "      <td>058</td>\n",
       "      <td>—</td>\n",
       "      <td>—</td>\n",
       "      <td>431</td>\n",
       "      <td>Piano Concerto No.4</td>\n",
       "      <td>G major</td>\n",
       "      <td>1804-07, rev.1809</td>\n",
       "      <td>pf orch</td>\n",
       "      <td>Orchestral</td>\n",
       "      <td>arr. for 2vn va vc db pf as Op.58a</td>\n",
       "      <td>major</td>\n",
       "      <td>1804</td>\n",
       "      <td>1807, rev.1809</td>\n",
       "    </tr>\n",
       "    <tr>\n",
       "      <th>296</th>\n",
       "      <td>—</td>\n",
       "      <td>018</td>\n",
       "      <td>007</td>\n",
       "      <td>780</td>\n",
       "      <td>March ('Marsch für die bohmische Landwehr') (...</td>\n",
       "      <td>F major</td>\n",
       "      <td>1822 ca.</td>\n",
       "      <td>ww br perc</td>\n",
       "      <td>Orchestral</td>\n",
       "      <td>3rd version, with trio and 'Turkish' orchestr...</td>\n",
       "      <td>major</td>\n",
       "      <td>1822 ca.</td>\n",
       "      <td>1822 ca.</td>\n",
       "    </tr>\n",
       "    <tr>\n",
       "      <th>299</th>\n",
       "      <td>—</td>\n",
       "      <td>019</td>\n",
       "      <td>009</td>\n",
       "      <td>781</td>\n",
       "      <td>March</td>\n",
       "      <td>F major</td>\n",
       "      <td>1822 ca.</td>\n",
       "      <td>ww br perc</td>\n",
       "      <td>Orchestral</td>\n",
       "      <td>3rd version, with trio and 'Turkish' orchestr...</td>\n",
       "      <td>major</td>\n",
       "      <td>1822 ca.</td>\n",
       "      <td>1822 ca.</td>\n",
       "    </tr>\n",
       "    <tr>\n",
       "      <th>301</th>\n",
       "      <td>—</td>\n",
       "      <td>020</td>\n",
       "      <td>—</td>\n",
       "      <td>525</td>\n",
       "      <td>March ('Zapfenstreich') ('The Tattoo')</td>\n",
       "      <td>C major</td>\n",
       "      <td>1822 ca.</td>\n",
       "      <td>ww br perc</td>\n",
       "      <td>Orchestral</td>\n",
       "      <td>2nd version, with trio</td>\n",
       "      <td>major</td>\n",
       "      <td>1822 ca.</td>\n",
       "      <td>1822 ca.</td>\n",
       "    </tr>\n",
       "  </tbody>\n",
       "</table>\n",
       "</div>"
      ],
      "text/plain": [
       "      op.   woo  hess biam-onti  \\\n",
       "108   058     —     —       431   \n",
       "296     —   018   007       780   \n",
       "299     —   019   009       781   \n",
       "301     —   020     —       525   \n",
       "\n",
       "                                                 title      key  \\\n",
       "108                                Piano Concerto No.4  G major   \n",
       "296   March ('Marsch für die bohmische Landwehr') (...  F major   \n",
       "299                                              March  F major   \n",
       "301             March ('Zapfenstreich') ('The Tattoo')  C major   \n",
       "\n",
       "                  date      scoring        genre  \\\n",
       "108  1804-07, rev.1809      pf orch   Orchestral   \n",
       "296           1822 ca.   ww br perc   Orchestral   \n",
       "299           1822 ca.   ww br perc   Orchestral   \n",
       "301           1822 ca.   ww br perc   Orchestral   \n",
       "\n",
       "                                                 notes   mode  min_date  \\\n",
       "108                 arr. for 2vn va vc db pf as Op.58a  major      1804   \n",
       "296   3rd version, with trio and 'Turkish' orchestr...  major  1822 ca.   \n",
       "299   3rd version, with trio and 'Turkish' orchestr...  major  1822 ca.   \n",
       "301                             2nd version, with trio  major  1822 ca.   \n",
       "\n",
       "           max_date  \n",
       "108  1807, rev.1809  \n",
       "296        1822 ca.  \n",
       "299        1822 ca.  \n",
       "301        1822 ca.  "
      ]
     },
     "execution_count": 51,
     "metadata": {},
     "output_type": "execute_result"
    }
   ],
   "source": [
    "df[df[\"date\"].apply(lambda x: any(char not in chars_to_match for char in x))]"
   ]
  },
  {
   "cell_type": "markdown",
   "metadata": {},
   "source": [
    "Keep these exceptions in mind... just use circas, though ignore multiple versions; just use ca. (circa)"
   ]
  },
  {
   "cell_type": "code",
   "execution_count": 52,
   "metadata": {},
   "outputs": [],
   "source": [
    "df[\"min_date\"] = df[\"min_date\"].str.replace(\" ca.\", \"\")\n",
    "df[\"max_date\"] = df[\"max_date\"].str.replace(\" ca.\", \"\")"
   ]
  },
  {
   "cell_type": "code",
   "execution_count": 53,
   "metadata": {},
   "outputs": [],
   "source": [
    "df.loc[df[\"max_date\"].str.contains(\"rev\"), \"max_date\"] = 1807"
   ]
  },
  {
   "cell_type": "markdown",
   "metadata": {},
   "source": [
    "### Convert to int"
   ]
  },
  {
   "cell_type": "code",
   "execution_count": 54,
   "metadata": {},
   "outputs": [],
   "source": [
    "df[\"min_date\"] = df[\"min_date\"].apply(int)\n",
    "df[\"max_date\"] = df[\"max_date\"].apply(int)\n",
    "df[\"avg_date\"] = (df[\"min_date\"] + df[\"max_date\"]) / 2"
   ]
  },
  {
   "cell_type": "code",
   "execution_count": 55,
   "metadata": {
    "scrolled": true
   },
   "outputs": [
    {
     "data": {
      "text/html": [
       "<div>\n",
       "<style scoped>\n",
       "    .dataframe tbody tr th:only-of-type {\n",
       "        vertical-align: middle;\n",
       "    }\n",
       "\n",
       "    .dataframe tbody tr th {\n",
       "        vertical-align: top;\n",
       "    }\n",
       "\n",
       "    .dataframe thead th {\n",
       "        text-align: right;\n",
       "    }\n",
       "</style>\n",
       "<table border=\"1\" class=\"dataframe\">\n",
       "  <thead>\n",
       "    <tr style=\"text-align: right;\">\n",
       "      <th></th>\n",
       "      <th>op.</th>\n",
       "      <th>woo</th>\n",
       "      <th>hess</th>\n",
       "      <th>biam-onti</th>\n",
       "      <th>title</th>\n",
       "      <th>key</th>\n",
       "      <th>date</th>\n",
       "      <th>scoring</th>\n",
       "      <th>genre</th>\n",
       "      <th>notes</th>\n",
       "      <th>mode</th>\n",
       "      <th>min_date</th>\n",
       "      <th>max_date</th>\n",
       "      <th>avg_date</th>\n",
       "    </tr>\n",
       "  </thead>\n",
       "  <tbody>\n",
       "    <tr>\n",
       "      <th>1</th>\n",
       "      <td>001/1</td>\n",
       "      <td>—</td>\n",
       "      <td>—</td>\n",
       "      <td>062/1</td>\n",
       "      <td>Piano Trio</td>\n",
       "      <td>E♭ major</td>\n",
       "      <td>1792-93</td>\n",
       "      <td>vn vc pf</td>\n",
       "      <td>Chamber</td>\n",
       "      <td></td>\n",
       "      <td>major</td>\n",
       "      <td>1792</td>\n",
       "      <td>1793</td>\n",
       "      <td>1792.5</td>\n",
       "    </tr>\n",
       "    <tr>\n",
       "      <th>2</th>\n",
       "      <td>001/2</td>\n",
       "      <td>—</td>\n",
       "      <td>—</td>\n",
       "      <td>062/2</td>\n",
       "      <td>Piano Trio</td>\n",
       "      <td>G major</td>\n",
       "      <td>1792-94</td>\n",
       "      <td>vn vc pf</td>\n",
       "      <td>Chamber</td>\n",
       "      <td></td>\n",
       "      <td>major</td>\n",
       "      <td>1792</td>\n",
       "      <td>1794</td>\n",
       "      <td>1793.0</td>\n",
       "    </tr>\n",
       "    <tr>\n",
       "      <th>3</th>\n",
       "      <td>001/3</td>\n",
       "      <td>—</td>\n",
       "      <td>—</td>\n",
       "      <td>062/3</td>\n",
       "      <td>Piano Trio</td>\n",
       "      <td>C minor</td>\n",
       "      <td>1792-94</td>\n",
       "      <td>vn vc pf</td>\n",
       "      <td>Chamber</td>\n",
       "      <td>arr. for 2vn va vc as Op.104</td>\n",
       "      <td>minor</td>\n",
       "      <td>1792</td>\n",
       "      <td>1794</td>\n",
       "      <td>1793.0</td>\n",
       "    </tr>\n",
       "    <tr>\n",
       "      <th>5</th>\n",
       "      <td>002/1</td>\n",
       "      <td>—</td>\n",
       "      <td>—</td>\n",
       "      <td>087/1</td>\n",
       "      <td>Piano Sonata No.1</td>\n",
       "      <td>F minor</td>\n",
       "      <td>1793-95</td>\n",
       "      <td>pf</td>\n",
       "      <td>Keyboard</td>\n",
       "      <td></td>\n",
       "      <td>minor</td>\n",
       "      <td>1793</td>\n",
       "      <td>1795</td>\n",
       "      <td>1794.0</td>\n",
       "    </tr>\n",
       "    <tr>\n",
       "      <th>6</th>\n",
       "      <td>002/2</td>\n",
       "      <td>—</td>\n",
       "      <td>—</td>\n",
       "      <td>087/2</td>\n",
       "      <td>Piano Sonata No.2</td>\n",
       "      <td>A major</td>\n",
       "      <td>1794-95</td>\n",
       "      <td>pf</td>\n",
       "      <td>Keyboard</td>\n",
       "      <td></td>\n",
       "      <td>major</td>\n",
       "      <td>1794</td>\n",
       "      <td>1795</td>\n",
       "      <td>1794.5</td>\n",
       "    </tr>\n",
       "  </tbody>\n",
       "</table>\n",
       "</div>"
      ],
      "text/plain": [
       "      op. woo hess biam-onti               title       key     date  \\\n",
       "1   001/1   —    —     062/1          Piano Trio  E♭ major  1792-93   \n",
       "2   001/2   —    —     062/2          Piano Trio   G major  1792-94   \n",
       "3   001/3   —    —     062/3          Piano Trio   C minor  1792-94   \n",
       "5   002/1   —    —     087/1   Piano Sonata No.1   F minor  1793-95   \n",
       "6   002/2   —    —     087/2   Piano Sonata No.2   A major  1794-95   \n",
       "\n",
       "     scoring      genre                          notes   mode  min_date  \\\n",
       "1   vn vc pf    Chamber                                 major      1792   \n",
       "2   vn vc pf    Chamber                                 major      1792   \n",
       "3   vn vc pf    Chamber   arr. for 2vn va vc as Op.104  minor      1792   \n",
       "5         pf   Keyboard                                 minor      1793   \n",
       "6         pf   Keyboard                                 major      1794   \n",
       "\n",
       "   max_date  avg_date  \n",
       "1      1793    1792.5  \n",
       "2      1794    1793.0  \n",
       "3      1794    1793.0  \n",
       "5      1795    1794.0  \n",
       "6      1795    1794.5  "
      ]
     },
     "execution_count": 55,
     "metadata": {},
     "output_type": "execute_result"
    }
   ],
   "source": [
    "df.head()"
   ]
  },
  {
   "cell_type": "markdown",
   "metadata": {},
   "source": [
    "# Differences by year?"
   ]
  },
  {
   "cell_type": "markdown",
   "metadata": {},
   "source": [
    "## Min vs. max date (year) size"
   ]
  },
  {
   "cell_type": "code",
   "execution_count": 56,
   "metadata": {},
   "outputs": [
    {
     "data": {
      "text/plain": [
       "<matplotlib.axes._subplots.AxesSubplot at 0x1177ec8d0>"
      ]
     },
     "execution_count": 56,
     "metadata": {},
     "output_type": "execute_result"
    },
    {
     "data": {
      "image/png": "[encoded data removed]",
      "text/plain": [
       "<matplotlib.figure.Figure at 0x117729780>"
      ]
     },
     "metadata": {},
     "output_type": "display_data"
    }
   ],
   "source": [
    "df.groupby(\"min_date\").size().plot()"
   ]
  },
  {
   "cell_type": "code",
   "execution_count": 57,
   "metadata": {},
   "outputs": [
    {
     "data": {
      "text/plain": [
       "<matplotlib.axes._subplots.AxesSubplot at 0x117855e48>"
      ]
     },
     "execution_count": 57,
     "metadata": {},
     "output_type": "execute_result"
    },
    {
     "data": {
      "image/png": "[encoded data removed]",
      "text/plain": [
       "<matplotlib.figure.Figure at 0x117827048>"
      ]
     },
     "metadata": {},
     "output_type": "display_data"
    }
   ],
   "source": [
    "df.groupby(\"max_date\").size().plot()"
   ]
  },
  {
   "cell_type": "markdown",
   "metadata": {},
   "source": [
    "## Key"
   ]
  },
  {
   "cell_type": "code",
   "execution_count": 58,
   "metadata": {},
   "outputs": [
    {
     "data": {
      "text/plain": [
       "key\n",
       "A♭ major-D major    1790.000000\n",
       "G major             1800.392857\n",
       "F♯ minor            1801.500000\n",
       "C major-C minor     1802.000000\n",
       "C minor             1802.739130\n",
       "F minor             1803.000000\n",
       "A major             1803.685185\n",
       "D major             1804.053191\n",
       "E♭ major            1804.578947\n",
       "F major             1805.686047\n",
       "E minor             1806.875000\n",
       "C major             1807.061538\n",
       "G minor             1807.071429\n",
       "A minor             1808.166667\n",
       "F♯ major            1809.000000\n",
       "A♭ major            1809.500000\n",
       "E major             1810.178571\n",
       "B♭ major            1810.863636\n",
       "C♯ minor            1813.250000\n",
       "D minor             1814.388889\n",
       "B minor             1821.000000\n",
       "Name: avg_date, dtype: float64"
      ]
     },
     "execution_count": 58,
     "metadata": {},
     "output_type": "execute_result"
    }
   ],
   "source": [
    "df.groupby(\"key\")[\"avg_date\"].mean().sort_values()"
   ]
  },
  {
   "cell_type": "markdown",
   "metadata": {},
   "source": [
    "## Mode"
   ]
  },
  {
   "cell_type": "code",
   "execution_count": 59,
   "metadata": {},
   "outputs": [
    {
     "data": {
      "text/html": [
       "<div>\n",
       "<style scoped>\n",
       "    .dataframe tbody tr th:only-of-type {\n",
       "        vertical-align: middle;\n",
       "    }\n",
       "\n",
       "    .dataframe tbody tr th {\n",
       "        vertical-align: top;\n",
       "    }\n",
       "\n",
       "    .dataframe thead th {\n",
       "        text-align: right;\n",
       "    }\n",
       "</style>\n",
       "<table border=\"1\" class=\"dataframe\">\n",
       "  <thead>\n",
       "    <tr style=\"text-align: right;\">\n",
       "      <th></th>\n",
       "      <th>mean</th>\n",
       "      <th>size</th>\n",
       "    </tr>\n",
       "    <tr>\n",
       "      <th>mode</th>\n",
       "      <th></th>\n",
       "      <th></th>\n",
       "    </tr>\n",
       "  </thead>\n",
       "  <tbody>\n",
       "    <tr>\n",
       "      <th>major</th>\n",
       "      <td>1805.403904</td>\n",
       "      <td>333.0</td>\n",
       "    </tr>\n",
       "    <tr>\n",
       "      <th>minor</th>\n",
       "      <td>1806.418033</td>\n",
       "      <td>61.0</td>\n",
       "    </tr>\n",
       "    <tr>\n",
       "      <th>other</th>\n",
       "      <td>1802.000000</td>\n",
       "      <td>1.0</td>\n",
       "    </tr>\n",
       "  </tbody>\n",
       "</table>\n",
       "</div>"
      ],
      "text/plain": [
       "              mean   size\n",
       "mode                     \n",
       "major  1805.403904  333.0\n",
       "minor  1806.418033   61.0\n",
       "other  1802.000000    1.0"
      ]
     },
     "execution_count": 59,
     "metadata": {},
     "output_type": "execute_result"
    }
   ],
   "source": [
    "df.groupby(\"mode\")[\"avg_date\"].agg([np.mean, np.size])"
   ]
  },
  {
   "cell_type": "code",
   "execution_count": 60,
   "metadata": {},
   "outputs": [
    {
     "data": {
      "text/html": [
       "<div>\n",
       "<style scoped>\n",
       "    .dataframe tbody tr th:only-of-type {\n",
       "        vertical-align: middle;\n",
       "    }\n",
       "\n",
       "    .dataframe tbody tr th {\n",
       "        vertical-align: top;\n",
       "    }\n",
       "\n",
       "    .dataframe thead th {\n",
       "        text-align: right;\n",
       "    }\n",
       "</style>\n",
       "<table border=\"1\" class=\"dataframe\">\n",
       "  <thead>\n",
       "    <tr style=\"text-align: right;\">\n",
       "      <th></th>\n",
       "      <th>mean</th>\n",
       "      <th>size</th>\n",
       "    </tr>\n",
       "    <tr>\n",
       "      <th>mode</th>\n",
       "      <th></th>\n",
       "      <th></th>\n",
       "    </tr>\n",
       "  </thead>\n",
       "  <tbody>\n",
       "    <tr>\n",
       "      <th>major</th>\n",
       "      <td>1804.825826</td>\n",
       "      <td>333</td>\n",
       "    </tr>\n",
       "    <tr>\n",
       "      <th>minor</th>\n",
       "      <td>1805.754098</td>\n",
       "      <td>61</td>\n",
       "    </tr>\n",
       "    <tr>\n",
       "      <th>other</th>\n",
       "      <td>1802.000000</td>\n",
       "      <td>1</td>\n",
       "    </tr>\n",
       "  </tbody>\n",
       "</table>\n",
       "</div>"
      ],
      "text/plain": [
       "              mean  size\n",
       "mode                    \n",
       "major  1804.825826   333\n",
       "minor  1805.754098    61\n",
       "other  1802.000000     1"
      ]
     },
     "execution_count": 60,
     "metadata": {},
     "output_type": "execute_result"
    }
   ],
   "source": [
    "df.groupby(\"mode\")[\"min_date\"].agg([np.mean, np.size])"
   ]
  },
  {
   "cell_type": "code",
   "execution_count": 61,
   "metadata": {},
   "outputs": [
    {
     "data": {
      "text/html": [
       "<div>\n",
       "<style scoped>\n",
       "    .dataframe tbody tr th:only-of-type {\n",
       "        vertical-align: middle;\n",
       "    }\n",
       "\n",
       "    .dataframe tbody tr th {\n",
       "        vertical-align: top;\n",
       "    }\n",
       "\n",
       "    .dataframe thead th {\n",
       "        text-align: right;\n",
       "    }\n",
       "</style>\n",
       "<table border=\"1\" class=\"dataframe\">\n",
       "  <thead>\n",
       "    <tr style=\"text-align: right;\">\n",
       "      <th></th>\n",
       "      <th>mean</th>\n",
       "      <th>size</th>\n",
       "    </tr>\n",
       "    <tr>\n",
       "      <th>mode</th>\n",
       "      <th></th>\n",
       "      <th></th>\n",
       "    </tr>\n",
       "  </thead>\n",
       "  <tbody>\n",
       "    <tr>\n",
       "      <th>major</th>\n",
       "      <td>1805.981982</td>\n",
       "      <td>333</td>\n",
       "    </tr>\n",
       "    <tr>\n",
       "      <th>minor</th>\n",
       "      <td>1807.081967</td>\n",
       "      <td>61</td>\n",
       "    </tr>\n",
       "    <tr>\n",
       "      <th>other</th>\n",
       "      <td>1802.000000</td>\n",
       "      <td>1</td>\n",
       "    </tr>\n",
       "  </tbody>\n",
       "</table>\n",
       "</div>"
      ],
      "text/plain": [
       "              mean  size\n",
       "mode                    \n",
       "major  1805.981982   333\n",
       "minor  1807.081967    61\n",
       "other  1802.000000     1"
      ]
     },
     "execution_count": 61,
     "metadata": {},
     "output_type": "execute_result"
    }
   ],
   "source": [
    "df.groupby(\"mode\")[\"max_date\"].agg([np.mean, np.size])"
   ]
  },
  {
   "cell_type": "markdown",
   "metadata": {},
   "source": [
    "# Plot (average date)? "
   ]
  },
  {
   "cell_type": "code",
   "execution_count": 62,
   "metadata": {
    "scrolled": true
   },
   "outputs": [],
   "source": [
    "size_df = pd.DataFrame(df[df[\"mode\"] != \"other\"].groupby([\"mode\", \"avg_date\"]).size()).reset_index().rename(columns={0:\"size\"})"
   ]
  },
  {
   "cell_type": "code",
   "execution_count": 63,
   "metadata": {},
   "outputs": [],
   "source": [
    "cumsum_col = size_df.groupby(\"mode\")[\"size\"].cumsum()"
   ]
  },
  {
   "cell_type": "code",
   "execution_count": 64,
   "metadata": {},
   "outputs": [],
   "source": [
    "size_df[\"cumsum\"] = cumsum_col"
   ]
  },
  {
   "cell_type": "code",
   "execution_count": 65,
   "metadata": {},
   "outputs": [
    {
     "data": {
      "text/html": [
       "<div>\n",
       "<style scoped>\n",
       "    .dataframe tbody tr th:only-of-type {\n",
       "        vertical-align: middle;\n",
       "    }\n",
       "\n",
       "    .dataframe tbody tr th {\n",
       "        vertical-align: top;\n",
       "    }\n",
       "\n",
       "    .dataframe thead th {\n",
       "        text-align: right;\n",
       "    }\n",
       "</style>\n",
       "<table border=\"1\" class=\"dataframe\">\n",
       "  <thead>\n",
       "    <tr style=\"text-align: right;\">\n",
       "      <th></th>\n",
       "      <th>mode</th>\n",
       "      <th>avg_date</th>\n",
       "      <th>size</th>\n",
       "      <th>cumsum</th>\n",
       "    </tr>\n",
       "  </thead>\n",
       "  <tbody>\n",
       "    <tr>\n",
       "      <th>0</th>\n",
       "      <td>major</td>\n",
       "      <td>1782.0</td>\n",
       "      <td>1</td>\n",
       "      <td>1</td>\n",
       "    </tr>\n",
       "    <tr>\n",
       "      <th>1</th>\n",
       "      <td>major</td>\n",
       "      <td>1783.0</td>\n",
       "      <td>6</td>\n",
       "      <td>7</td>\n",
       "    </tr>\n",
       "    <tr>\n",
       "      <th>2</th>\n",
       "      <td>major</td>\n",
       "      <td>1784.0</td>\n",
       "      <td>1</td>\n",
       "      <td>8</td>\n",
       "    </tr>\n",
       "    <tr>\n",
       "      <th>3</th>\n",
       "      <td>major</td>\n",
       "      <td>1785.0</td>\n",
       "      <td>3</td>\n",
       "      <td>11</td>\n",
       "    </tr>\n",
       "    <tr>\n",
       "      <th>4</th>\n",
       "      <td>major</td>\n",
       "      <td>1788.0</td>\n",
       "      <td>2</td>\n",
       "      <td>13</td>\n",
       "    </tr>\n",
       "  </tbody>\n",
       "</table>\n",
       "</div>"
      ],
      "text/plain": [
       "    mode  avg_date  size  cumsum\n",
       "0  major    1782.0     1       1\n",
       "1  major    1783.0     6       7\n",
       "2  major    1784.0     1       8\n",
       "3  major    1785.0     3      11\n",
       "4  major    1788.0     2      13"
      ]
     },
     "execution_count": 65,
     "metadata": {},
     "output_type": "execute_result"
    }
   ],
   "source": [
    "size_df.head()"
   ]
  },
  {
   "cell_type": "code",
   "execution_count": 66,
   "metadata": {},
   "outputs": [
    {
     "data": {
      "text/html": [
       "<div>\n",
       "<style scoped>\n",
       "    .dataframe tbody tr th:only-of-type {\n",
       "        vertical-align: middle;\n",
       "    }\n",
       "\n",
       "    .dataframe tbody tr th {\n",
       "        vertical-align: top;\n",
       "    }\n",
       "\n",
       "    .dataframe thead th {\n",
       "        text-align: right;\n",
       "    }\n",
       "</style>\n",
       "<table border=\"1\" class=\"dataframe\">\n",
       "  <thead>\n",
       "    <tr style=\"text-align: right;\">\n",
       "      <th></th>\n",
       "      <th>mode</th>\n",
       "      <th>avg_date</th>\n",
       "      <th>size</th>\n",
       "      <th>cumsum</th>\n",
       "    </tr>\n",
       "  </thead>\n",
       "  <tbody>\n",
       "    <tr>\n",
       "      <th>102</th>\n",
       "      <td>minor</td>\n",
       "      <td>1821.5</td>\n",
       "      <td>1</td>\n",
       "      <td>54</td>\n",
       "    </tr>\n",
       "    <tr>\n",
       "      <th>103</th>\n",
       "      <td>minor</td>\n",
       "      <td>1824.0</td>\n",
       "      <td>2</td>\n",
       "      <td>56</td>\n",
       "    </tr>\n",
       "    <tr>\n",
       "      <th>104</th>\n",
       "      <td>minor</td>\n",
       "      <td>1825.0</td>\n",
       "      <td>3</td>\n",
       "      <td>59</td>\n",
       "    </tr>\n",
       "    <tr>\n",
       "      <th>105</th>\n",
       "      <td>minor</td>\n",
       "      <td>1825.5</td>\n",
       "      <td>1</td>\n",
       "      <td>60</td>\n",
       "    </tr>\n",
       "    <tr>\n",
       "      <th>106</th>\n",
       "      <td>minor</td>\n",
       "      <td>1826.0</td>\n",
       "      <td>1</td>\n",
       "      <td>61</td>\n",
       "    </tr>\n",
       "  </tbody>\n",
       "</table>\n",
       "</div>"
      ],
      "text/plain": [
       "      mode  avg_date  size  cumsum\n",
       "102  minor    1821.5     1      54\n",
       "103  minor    1824.0     2      56\n",
       "104  minor    1825.0     3      59\n",
       "105  minor    1825.5     1      60\n",
       "106  minor    1826.0     1      61"
      ]
     },
     "execution_count": 66,
     "metadata": {},
     "output_type": "execute_result"
    }
   ],
   "source": [
    "size_df.tail()"
   ]
  },
  {
   "cell_type": "code",
   "execution_count": 67,
   "metadata": {},
   "outputs": [
    {
     "data": {
      "text/plain": [
       "mode\n",
       "major    Axes(0.125,0.125;0.775x0.775)\n",
       "minor    Axes(0.125,0.125;0.775x0.775)\n",
       "dtype: object"
      ]
     },
     "execution_count": 67,
     "metadata": {},
     "output_type": "execute_result"
    },
    {
     "data": {
      "image/png": "[encoded data removed]",
      "text/plain": [
       "<matplotlib.figure.Figure at 0x1179b14e0>"
      ]
     },
     "metadata": {},
     "output_type": "display_data"
    },
    {
     "data": {
      "image/png": "[encoded data removed]",
      "text/plain": [
       "<matplotlib.figure.Figure at 0x117acfb38>"
      ]
     },
     "metadata": {},
     "output_type": "display_data"
    }
   ],
   "source": [
    "size_df.groupby(\"mode\").plot(x=\"avg_date\", y=\"size\")"
   ]
  },
  {
   "cell_type": "markdown",
   "metadata": {},
   "source": [
    "## Pivot table approach"
   ]
  },
  {
   "cell_type": "code",
   "execution_count": 68,
   "metadata": {},
   "outputs": [],
   "source": [
    "pivoted = pd.pivot_table(size_df, values='size', columns='mode', index='avg_date').fillna(0)"
   ]
  },
  {
   "cell_type": "markdown",
   "metadata": {},
   "source": [
    "Looks like having a low sample (missing years/years of 0) and taking midpoint years is complicated graphing..."
   ]
  },
  {
   "cell_type": "code",
   "execution_count": 69,
   "metadata": {},
   "outputs": [
    {
     "data": {
      "text/plain": [
       "<matplotlib.axes._subplots.AxesSubplot at 0x1179bd2b0>"
      ]
     },
     "execution_count": 69,
     "metadata": {},
     "output_type": "execute_result"
    },
    {
     "data": {
      "image/png": "[encoded data removed]",
      "text/plain": [
       "<matplotlib.figure.Figure at 0x117820898>"
      ]
     },
     "metadata": {},
     "output_type": "display_data"
    }
   ],
   "source": [
    "pivoted.plot(figsize = (16, 8), xlim = [1770, 1827])"
   ]
  },
  {
   "cell_type": "code",
   "execution_count": 70,
   "metadata": {},
   "outputs": [
    {
     "data": {
      "text/plain": [
       "<matplotlib.axes._subplots.AxesSubplot at 0x1179bd1d0>"
      ]
     },
     "execution_count": 70,
     "metadata": {},
     "output_type": "execute_result"
    },
    {
     "data": {
      "image/png": "[encoded data removed]",
      "text/plain": [
       "<matplotlib.figure.Figure at 0x117be6b38>"
      ]
     },
     "metadata": {},
     "output_type": "display_data"
    }
   ],
   "source": [
    "pivoted.plot(kind = \"area\", figsize = (12, 8))"
   ]
  },
  {
   "cell_type": "code",
   "execution_count": 71,
   "metadata": {},
   "outputs": [],
   "source": [
    "pivoted_cumsum = pd.pivot_table(size_df, values='cumsum', columns='mode', index='avg_date').fillna(0)"
   ]
  },
  {
   "cell_type": "code",
   "execution_count": 72,
   "metadata": {},
   "outputs": [
    {
     "data": {
      "text/plain": [
       "<matplotlib.axes._subplots.AxesSubplot at 0x117b3bf98>"
      ]
     },
     "execution_count": 72,
     "metadata": {},
     "output_type": "execute_result"
    },
    {
     "data": {
      "image/png": "[encoded data removed]",
      "text/plain": [
       "<matplotlib.figure.Figure at 0x117f15da0>"
      ]
     },
     "metadata": {},
     "output_type": "display_data"
    }
   ],
   "source": [
    "pivoted_cumsum.plot(figsize = (16, 8), xlim = [1770, 1827])"
   ]
  },
  {
   "cell_type": "markdown",
   "metadata": {},
   "source": [
    "Yikes, 0 values"
   ]
  },
  {
   "cell_type": "code",
   "execution_count": 73,
   "metadata": {
    "scrolled": true
   },
   "outputs": [
    {
     "data": {
      "text/plain": [
       "<matplotlib.axes._subplots.AxesSubplot at 0x1183d7b38>"
      ]
     },
     "execution_count": 73,
     "metadata": {},
     "output_type": "execute_result"
    },
    {
     "data": {
      "image/png": "[encoded data removed]",
      "text/plain": [
       "<matplotlib.figure.Figure at 0x1183eb550>"
      ]
     },
     "metadata": {},
     "output_type": "display_data"
    }
   ],
   "source": [
    "pivoted_cumsum.plot(kind = \"area\", figsize = (12, 8))"
   ]
  },
  {
   "cell_type": "markdown",
   "metadata": {},
   "source": [
    "# Plot (max date)? "
   ]
  },
  {
   "cell_type": "code",
   "execution_count": 146,
   "metadata": {
    "scrolled": true
   },
   "outputs": [],
   "source": [
    "size_df = pd.DataFrame(df[df[\"mode\"] != \"other\"].groupby([\"mode\", \"max_date\"]).size()).reset_index().rename(columns={0:\"size\"})"
   ]
  },
  {
   "cell_type": "code",
   "execution_count": 147,
   "metadata": {},
   "outputs": [],
   "source": [
    "cumsum_col = size_df.groupby(\"mode\")[\"size\"].cumsum()"
   ]
  },
  {
   "cell_type": "code",
   "execution_count": 148,
   "metadata": {},
   "outputs": [],
   "source": [
    "size_df[\"cumsum\"] = cumsum_col"
   ]
  },
  {
   "cell_type": "code",
   "execution_count": 149,
   "metadata": {},
   "outputs": [
    {
     "data": {
      "text/html": [
       "<div>\n",
       "<style scoped>\n",
       "    .dataframe tbody tr th:only-of-type {\n",
       "        vertical-align: middle;\n",
       "    }\n",
       "\n",
       "    .dataframe tbody tr th {\n",
       "        vertical-align: top;\n",
       "    }\n",
       "\n",
       "    .dataframe thead th {\n",
       "        text-align: right;\n",
       "    }\n",
       "</style>\n",
       "<table border=\"1\" class=\"dataframe\">\n",
       "  <thead>\n",
       "    <tr style=\"text-align: right;\">\n",
       "      <th></th>\n",
       "      <th>mode</th>\n",
       "      <th>max_date</th>\n",
       "      <th>size</th>\n",
       "      <th>cumsum</th>\n",
       "    </tr>\n",
       "  </thead>\n",
       "  <tbody>\n",
       "    <tr>\n",
       "      <th>0</th>\n",
       "      <td>major</td>\n",
       "      <td>1782</td>\n",
       "      <td>1</td>\n",
       "      <td>1</td>\n",
       "    </tr>\n",
       "    <tr>\n",
       "      <th>1</th>\n",
       "      <td>major</td>\n",
       "      <td>1783</td>\n",
       "      <td>6</td>\n",
       "      <td>7</td>\n",
       "    </tr>\n",
       "    <tr>\n",
       "      <th>2</th>\n",
       "      <td>major</td>\n",
       "      <td>1784</td>\n",
       "      <td>1</td>\n",
       "      <td>8</td>\n",
       "    </tr>\n",
       "    <tr>\n",
       "      <th>3</th>\n",
       "      <td>major</td>\n",
       "      <td>1785</td>\n",
       "      <td>3</td>\n",
       "      <td>11</td>\n",
       "    </tr>\n",
       "    <tr>\n",
       "      <th>4</th>\n",
       "      <td>major</td>\n",
       "      <td>1789</td>\n",
       "      <td>1</td>\n",
       "      <td>12</td>\n",
       "    </tr>\n",
       "  </tbody>\n",
       "</table>\n",
       "</div>"
      ],
      "text/plain": [
       "    mode  max_date  size  cumsum\n",
       "0  major      1782     1       1\n",
       "1  major      1783     6       7\n",
       "2  major      1784     1       8\n",
       "3  major      1785     3      11\n",
       "4  major      1789     1      12"
      ]
     },
     "execution_count": 149,
     "metadata": {},
     "output_type": "execute_result"
    }
   ],
   "source": [
    "size_df.head()"
   ]
  },
  {
   "cell_type": "code",
   "execution_count": 150,
   "metadata": {},
   "outputs": [
    {
     "data": {
      "text/html": [
       "<div>\n",
       "<style scoped>\n",
       "    .dataframe tbody tr th:only-of-type {\n",
       "        vertical-align: middle;\n",
       "    }\n",
       "\n",
       "    .dataframe tbody tr th {\n",
       "        vertical-align: top;\n",
       "    }\n",
       "\n",
       "    .dataframe thead th {\n",
       "        text-align: right;\n",
       "    }\n",
       "</style>\n",
       "<table border=\"1\" class=\"dataframe\">\n",
       "  <thead>\n",
       "    <tr style=\"text-align: right;\">\n",
       "      <th></th>\n",
       "      <th>mode</th>\n",
       "      <th>max_date</th>\n",
       "      <th>size</th>\n",
       "      <th>cumsum</th>\n",
       "    </tr>\n",
       "  </thead>\n",
       "  <tbody>\n",
       "    <tr>\n",
       "      <th>67</th>\n",
       "      <td>minor</td>\n",
       "      <td>1821</td>\n",
       "      <td>2</td>\n",
       "      <td>51</td>\n",
       "    </tr>\n",
       "    <tr>\n",
       "      <th>68</th>\n",
       "      <td>minor</td>\n",
       "      <td>1822</td>\n",
       "      <td>2</td>\n",
       "      <td>53</td>\n",
       "    </tr>\n",
       "    <tr>\n",
       "      <th>69</th>\n",
       "      <td>minor</td>\n",
       "      <td>1824</td>\n",
       "      <td>2</td>\n",
       "      <td>55</td>\n",
       "    </tr>\n",
       "    <tr>\n",
       "      <th>70</th>\n",
       "      <td>minor</td>\n",
       "      <td>1825</td>\n",
       "      <td>4</td>\n",
       "      <td>59</td>\n",
       "    </tr>\n",
       "    <tr>\n",
       "      <th>71</th>\n",
       "      <td>minor</td>\n",
       "      <td>1826</td>\n",
       "      <td>2</td>\n",
       "      <td>61</td>\n",
       "    </tr>\n",
       "  </tbody>\n",
       "</table>\n",
       "</div>"
      ],
      "text/plain": [
       "     mode  max_date  size  cumsum\n",
       "67  minor      1821     2      51\n",
       "68  minor      1822     2      53\n",
       "69  minor      1824     2      55\n",
       "70  minor      1825     4      59\n",
       "71  minor      1826     2      61"
      ]
     },
     "execution_count": 150,
     "metadata": {},
     "output_type": "execute_result"
    }
   ],
   "source": [
    "size_df.tail()"
   ]
  },
  {
   "cell_type": "code",
   "execution_count": 151,
   "metadata": {},
   "outputs": [
    {
     "data": {
      "text/plain": [
       "mode\n",
       "major    Axes(0.125,0.125;0.775x0.775)\n",
       "minor    Axes(0.125,0.125;0.775x0.775)\n",
       "dtype: object"
      ]
     },
     "execution_count": 151,
     "metadata": {},
     "output_type": "execute_result"
    },
    {
     "data": {
      "image/png": "[encoded data removed]",
      "text/plain": [
       "<matplotlib.figure.Figure at 0x119171390>"
      ]
     },
     "metadata": {},
     "output_type": "display_data"
    },
    {
     "data": {
      "image/png": "[encoded data removed]",
      "text/plain": [
       "<matplotlib.figure.Figure at 0x1191c9c18>"
      ]
     },
     "metadata": {},
     "output_type": "display_data"
    }
   ],
   "source": [
    "size_df.groupby(\"mode\").plot(x=\"max_date\", y=\"size\")"
   ]
  },
  {
   "cell_type": "markdown",
   "metadata": {},
   "source": [
    "## Pivot table approach"
   ]
  },
  {
   "cell_type": "code",
   "execution_count": 152,
   "metadata": {},
   "outputs": [],
   "source": [
    "pivoted = pd.pivot_table(size_df, values='size', columns='mode', index='max_date').fillna(0)"
   ]
  },
  {
   "cell_type": "markdown",
   "metadata": {},
   "source": [
    "Looks like having a low sample (missing years/years of 0) and taking midpoint years is complicated graphing..."
   ]
  },
  {
   "cell_type": "code",
   "execution_count": 153,
   "metadata": {},
   "outputs": [
    {
     "data": {
      "text/plain": [
       "<matplotlib.axes._subplots.AxesSubplot at 0x1191cb630>"
      ]
     },
     "execution_count": 153,
     "metadata": {},
     "output_type": "execute_result"
    },
    {
     "data": {
      "image/png": "[encoded data removed]",
      "text/plain": [
       "<matplotlib.figure.Figure at 0x1190c4630>"
      ]
     },
     "metadata": {},
     "output_type": "display_data"
    }
   ],
   "source": [
    "pivoted.plot(figsize = (16, 8), xlim = [1770, 1827])"
   ]
  },
  {
   "cell_type": "code",
   "execution_count": 154,
   "metadata": {},
   "outputs": [
    {
     "data": {
      "text/plain": [
       "<matplotlib.axes._subplots.AxesSubplot at 0x1192bc9e8>"
      ]
     },
     "execution_count": 154,
     "metadata": {},
     "output_type": "execute_result"
    },
    {
     "data": {
      "image/png": "[encoded data removed]",
      "text/plain": [
       "<matplotlib.figure.Figure at 0x11940fcc0>"
      ]
     },
     "metadata": {},
     "output_type": "display_data"
    }
   ],
   "source": [
    "pivoted.plot(kind = \"area\", figsize = (12, 8))"
   ]
  },
  {
   "cell_type": "code",
   "execution_count": 155,
   "metadata": {},
   "outputs": [],
   "source": [
    "pivoted_cumsum = pd.pivot_table(size_df, values='cumsum', columns='mode', index='max_date').fillna(0)"
   ]
  },
  {
   "cell_type": "code",
   "execution_count": 156,
   "metadata": {},
   "outputs": [
    {
     "data": {
      "text/plain": [
       "<matplotlib.axes._subplots.AxesSubplot at 0x117f01518>"
      ]
     },
     "execution_count": 156,
     "metadata": {},
     "output_type": "execute_result"
    },
    {
     "data": {
      "image/png": "[encoded data removed]",
      "text/plain": [
       "<matplotlib.figure.Figure at 0x11969c240>"
      ]
     },
     "metadata": {},
     "output_type": "display_data"
    }
   ],
   "source": [
    "pivoted_cumsum.plot(figsize = (16, 8), xlim = [1770, 1827])"
   ]
  },
  {
   "cell_type": "markdown",
   "metadata": {},
   "source": [
    "Yikes, 0 values"
   ]
  },
  {
   "cell_type": "code",
   "execution_count": 73,
   "metadata": {
    "scrolled": false
   },
   "outputs": [
    {
     "data": {
      "text/plain": [
       "<matplotlib.axes._subplots.AxesSubplot at 0x1183d7b38>"
      ]
     },
     "execution_count": 73,
     "metadata": {},
     "output_type": "execute_result"
    },
    {
     "data": {
      "image/png": "[encoded data removed]",
      "text/plain": [
       "<matplotlib.figure.Figure at 0x1183eb550>"
      ]
     },
     "metadata": {},
     "output_type": "display_data"
    }
   ],
   "source": [
    "pivoted_cumsum.plot(kind = \"area\", figsize = (12, 8))"
   ]
  },
  {
   "cell_type": "markdown",
   "metadata": {},
   "source": [
    "Not really interested in pursuing these kinds of plots (kind of looks like a stegosaurus...), so not going to bother to fix these for now."
   ]
  },
  {
   "cell_type": "markdown",
   "metadata": {},
   "source": [
    "# More cleaning"
   ]
  },
  {
   "cell_type": "markdown",
   "metadata": {},
   "source": [
    "## Add periods in"
   ]
  },
  {
   "cell_type": "markdown",
   "metadata": {},
   "source": [
    "Let's order by Biamonti, since it's chronological."
   ]
  },
  {
   "cell_type": "code",
   "execution_count": 78,
   "metadata": {},
   "outputs": [],
   "source": [
    "df = df.sort_values(\"biam-onti\")"
   ]
  },
  {
   "cell_type": "code",
   "execution_count": 84,
   "metadata": {},
   "outputs": [],
   "source": [
    "df[\"title\"] = df[\"title\"].str.strip()"
   ]
  },
  {
   "cell_type": "code",
   "execution_count": 88,
   "metadata": {},
   "outputs": [],
   "source": [
    "# Reset index to make mass editing easier\n",
    "df.reset_index(drop=True, inplace=True)"
   ]
  },
  {
   "cell_type": "markdown",
   "metadata": {},
   "source": [
    "http://www.lcsproductions.net/MusicHistory/MusHistRev/Articles/BeethvnPeriods.html"
   ]
  },
  {
   "cell_type": "code",
   "execution_count": 89,
   "metadata": {},
   "outputs": [],
   "source": [
    "# Let's start pre-First period; start with Piano Trios"
   ]
  },
  {
   "cell_type": "code",
   "execution_count": 90,
   "metadata": {},
   "outputs": [
    {
     "data": {
      "text/html": [
       "<div>\n",
       "<style scoped>\n",
       "    .dataframe tbody tr th:only-of-type {\n",
       "        vertical-align: middle;\n",
       "    }\n",
       "\n",
       "    .dataframe tbody tr th {\n",
       "        vertical-align: top;\n",
       "    }\n",
       "\n",
       "    .dataframe thead th {\n",
       "        text-align: right;\n",
       "    }\n",
       "</style>\n",
       "<table border=\"1\" class=\"dataframe\">\n",
       "  <thead>\n",
       "    <tr style=\"text-align: right;\">\n",
       "      <th></th>\n",
       "      <th>op.</th>\n",
       "      <th>woo</th>\n",
       "      <th>hess</th>\n",
       "      <th>biam-onti</th>\n",
       "      <th>title</th>\n",
       "      <th>key</th>\n",
       "      <th>date</th>\n",
       "      <th>scoring</th>\n",
       "      <th>genre</th>\n",
       "      <th>notes</th>\n",
       "      <th>mode</th>\n",
       "      <th>min_date</th>\n",
       "      <th>max_date</th>\n",
       "      <th>avg_date</th>\n",
       "    </tr>\n",
       "  </thead>\n",
       "  <tbody>\n",
       "    <tr>\n",
       "      <th>53</th>\n",
       "      <td>001/1</td>\n",
       "      <td>—</td>\n",
       "      <td>—</td>\n",
       "      <td>062/1</td>\n",
       "      <td>Piano Trio</td>\n",
       "      <td>E♭ major</td>\n",
       "      <td>1792-93</td>\n",
       "      <td>vn vc pf</td>\n",
       "      <td>Chamber</td>\n",
       "      <td></td>\n",
       "      <td>major</td>\n",
       "      <td>1792</td>\n",
       "      <td>1793</td>\n",
       "      <td>1792.5</td>\n",
       "    </tr>\n",
       "    <tr>\n",
       "      <th>54</th>\n",
       "      <td>001/2</td>\n",
       "      <td>—</td>\n",
       "      <td>—</td>\n",
       "      <td>062/2</td>\n",
       "      <td>Piano Trio</td>\n",
       "      <td>G major</td>\n",
       "      <td>1792-94</td>\n",
       "      <td>vn vc pf</td>\n",
       "      <td>Chamber</td>\n",
       "      <td></td>\n",
       "      <td>major</td>\n",
       "      <td>1792</td>\n",
       "      <td>1794</td>\n",
       "      <td>1793.0</td>\n",
       "    </tr>\n",
       "    <tr>\n",
       "      <th>55</th>\n",
       "      <td>001/3</td>\n",
       "      <td>—</td>\n",
       "      <td>—</td>\n",
       "      <td>062/3</td>\n",
       "      <td>Piano Trio</td>\n",
       "      <td>C minor</td>\n",
       "      <td>1792-94</td>\n",
       "      <td>vn vc pf</td>\n",
       "      <td>Chamber</td>\n",
       "      <td>arr. for 2vn va vc as Op.104</td>\n",
       "      <td>minor</td>\n",
       "      <td>1792</td>\n",
       "      <td>1794</td>\n",
       "      <td>1793.0</td>\n",
       "    </tr>\n",
       "    <tr>\n",
       "      <th>232</th>\n",
       "      <td>070/2</td>\n",
       "      <td>—</td>\n",
       "      <td>—</td>\n",
       "      <td>455/2</td>\n",
       "      <td>Piano Trio</td>\n",
       "      <td>E♭ major</td>\n",
       "      <td>1808</td>\n",
       "      <td>vn vc pf</td>\n",
       "      <td>Chamber</td>\n",
       "      <td></td>\n",
       "      <td>major</td>\n",
       "      <td>1808</td>\n",
       "      <td>1808</td>\n",
       "      <td>1808.0</td>\n",
       "    </tr>\n",
       "  </tbody>\n",
       "</table>\n",
       "</div>"
      ],
      "text/plain": [
       "        op. woo hess biam-onti       title       key     date    scoring  \\\n",
       "53    001/1   —    —     062/1  Piano Trio  E♭ major  1792-93   vn vc pf   \n",
       "54    001/2   —    —     062/2  Piano Trio   G major  1792-94   vn vc pf   \n",
       "55    001/3   —    —     062/3  Piano Trio   C minor  1792-94   vn vc pf   \n",
       "232   070/2   —    —     455/2  Piano Trio  E♭ major     1808   vn vc pf   \n",
       "\n",
       "        genre                          notes   mode  min_date  max_date  \\\n",
       "53    Chamber                                 major      1792      1793   \n",
       "54    Chamber                                 major      1792      1794   \n",
       "55    Chamber   arr. for 2vn va vc as Op.104  minor      1792      1794   \n",
       "232   Chamber                                 major      1808      1808   \n",
       "\n",
       "     avg_date  \n",
       "53     1792.5  \n",
       "54     1793.0  \n",
       "55     1793.0  \n",
       "232    1808.0  "
      ]
     },
     "execution_count": 90,
     "metadata": {},
     "output_type": "execute_result"
    }
   ],
   "source": [
    "df.loc[df[\"title\"] == \"Piano Trio\"]"
   ]
  },
  {
   "cell_type": "code",
   "execution_count": 95,
   "metadata": {},
   "outputs": [],
   "source": [
    "df.loc[0:52, \"period\"] = \"pre\""
   ]
  },
  {
   "cell_type": "code",
   "execution_count": 96,
   "metadata": {},
   "outputs": [
    {
     "data": {
      "text/html": [
       "<div>\n",
       "<style scoped>\n",
       "    .dataframe tbody tr th:only-of-type {\n",
       "        vertical-align: middle;\n",
       "    }\n",
       "\n",
       "    .dataframe tbody tr th {\n",
       "        vertical-align: top;\n",
       "    }\n",
       "\n",
       "    .dataframe thead th {\n",
       "        text-align: right;\n",
       "    }\n",
       "</style>\n",
       "<table border=\"1\" class=\"dataframe\">\n",
       "  <thead>\n",
       "    <tr style=\"text-align: right;\">\n",
       "      <th></th>\n",
       "      <th>op.</th>\n",
       "      <th>woo</th>\n",
       "      <th>hess</th>\n",
       "      <th>biam-onti</th>\n",
       "      <th>title</th>\n",
       "      <th>key</th>\n",
       "      <th>date</th>\n",
       "      <th>scoring</th>\n",
       "      <th>genre</th>\n",
       "      <th>notes</th>\n",
       "      <th>mode</th>\n",
       "      <th>min_date</th>\n",
       "      <th>max_date</th>\n",
       "      <th>avg_date</th>\n",
       "      <th>period</th>\n",
       "    </tr>\n",
       "  </thead>\n",
       "  <tbody>\n",
       "    <tr>\n",
       "      <th>0</th>\n",
       "      <td>—</td>\n",
       "      <td>063</td>\n",
       "      <td>—</td>\n",
       "      <td>001</td>\n",
       "      <td>Variations on a March by Dressler (9)</td>\n",
       "      <td>C minor</td>\n",
       "      <td>1782</td>\n",
       "      <td>pf</td>\n",
       "      <td>Chamber</td>\n",
       "      <td>based on a march by Ernst Christoph Dressler</td>\n",
       "      <td>minor</td>\n",
       "      <td>1782</td>\n",
       "      <td>1782</td>\n",
       "      <td>1782.0</td>\n",
       "      <td>pre</td>\n",
       "    </tr>\n",
       "    <tr>\n",
       "      <th>1</th>\n",
       "      <td>—</td>\n",
       "      <td>047/1</td>\n",
       "      <td>—</td>\n",
       "      <td>002/1</td>\n",
       "      <td>Piano Sonata</td>\n",
       "      <td>E♭ major</td>\n",
       "      <td>1783</td>\n",
       "      <td>pf</td>\n",
       "      <td>Keyboard</td>\n",
       "      <td></td>\n",
       "      <td>major</td>\n",
       "      <td>1783</td>\n",
       "      <td>1783</td>\n",
       "      <td>1783.0</td>\n",
       "      <td>pre</td>\n",
       "    </tr>\n",
       "    <tr>\n",
       "      <th>2</th>\n",
       "      <td>—</td>\n",
       "      <td>047/2</td>\n",
       "      <td>—</td>\n",
       "      <td>002/2</td>\n",
       "      <td>Piano Sonata</td>\n",
       "      <td>F minor</td>\n",
       "      <td>1783</td>\n",
       "      <td>pf</td>\n",
       "      <td>Keyboard</td>\n",
       "      <td></td>\n",
       "      <td>minor</td>\n",
       "      <td>1783</td>\n",
       "      <td>1783</td>\n",
       "      <td>1783.0</td>\n",
       "      <td>pre</td>\n",
       "    </tr>\n",
       "    <tr>\n",
       "      <th>3</th>\n",
       "      <td>—</td>\n",
       "      <td>047/3</td>\n",
       "      <td>—</td>\n",
       "      <td>002/3</td>\n",
       "      <td>Piano Sonata</td>\n",
       "      <td>D major</td>\n",
       "      <td>1783</td>\n",
       "      <td>pf</td>\n",
       "      <td>Keyboard</td>\n",
       "      <td></td>\n",
       "      <td>major</td>\n",
       "      <td>1783</td>\n",
       "      <td>1783</td>\n",
       "      <td>1783.0</td>\n",
       "      <td>pre</td>\n",
       "    </tr>\n",
       "    <tr>\n",
       "      <th>4</th>\n",
       "      <td>—</td>\n",
       "      <td>048</td>\n",
       "      <td>051</td>\n",
       "      <td>004</td>\n",
       "      <td>Rondo</td>\n",
       "      <td>C major</td>\n",
       "      <td>1783</td>\n",
       "      <td>pf</td>\n",
       "      <td>Keyboard</td>\n",
       "      <td></td>\n",
       "      <td>major</td>\n",
       "      <td>1783</td>\n",
       "      <td>1783</td>\n",
       "      <td>1783.0</td>\n",
       "      <td>pre</td>\n",
       "    </tr>\n",
       "    <tr>\n",
       "      <th>5</th>\n",
       "      <td>—</td>\n",
       "      <td>049</td>\n",
       "      <td>—</td>\n",
       "      <td>005</td>\n",
       "      <td>Rondo</td>\n",
       "      <td>A major</td>\n",
       "      <td>1783</td>\n",
       "      <td>pf</td>\n",
       "      <td>Keyboard</td>\n",
       "      <td></td>\n",
       "      <td>major</td>\n",
       "      <td>1783</td>\n",
       "      <td>1783</td>\n",
       "      <td>1783.0</td>\n",
       "      <td>pre</td>\n",
       "    </tr>\n",
       "    <tr>\n",
       "      <th>6</th>\n",
       "      <td>—</td>\n",
       "      <td>031</td>\n",
       "      <td>—</td>\n",
       "      <td>006</td>\n",
       "      <td>Fugue</td>\n",
       "      <td>D major</td>\n",
       "      <td>1783</td>\n",
       "      <td>org</td>\n",
       "      <td>Keyboard</td>\n",
       "      <td></td>\n",
       "      <td>major</td>\n",
       "      <td>1783</td>\n",
       "      <td>1783</td>\n",
       "      <td>1783.0</td>\n",
       "      <td>pre</td>\n",
       "    </tr>\n",
       "    <tr>\n",
       "      <th>7</th>\n",
       "      <td>—</td>\n",
       "      <td>107</td>\n",
       "      <td>—</td>\n",
       "      <td>007</td>\n",
       "      <td>Schilderung eines Mädchens(\"Schildern, willst ...</td>\n",
       "      <td>G major</td>\n",
       "      <td>1782</td>\n",
       "      <td>v pf</td>\n",
       "      <td>Vocal</td>\n",
       "      <td></td>\n",
       "      <td>major</td>\n",
       "      <td>1782</td>\n",
       "      <td>1782</td>\n",
       "      <td>1782.0</td>\n",
       "      <td>pre</td>\n",
       "    </tr>\n",
       "    <tr>\n",
       "      <th>8</th>\n",
       "      <td>—</td>\n",
       "      <td>108</td>\n",
       "      <td>—</td>\n",
       "      <td>009</td>\n",
       "      <td>An einen Säugling (\"Noch weisst du nicht, wes ...</td>\n",
       "      <td>A major</td>\n",
       "      <td>1783</td>\n",
       "      <td>v pf</td>\n",
       "      <td>Vocal</td>\n",
       "      <td></td>\n",
       "      <td>major</td>\n",
       "      <td>1783</td>\n",
       "      <td>1783</td>\n",
       "      <td>1783.0</td>\n",
       "      <td>pre</td>\n",
       "    </tr>\n",
       "    <tr>\n",
       "      <th>9</th>\n",
       "      <td>—</td>\n",
       "      <td>004</td>\n",
       "      <td>—</td>\n",
       "      <td>010</td>\n",
       "      <td>Piano Concerto</td>\n",
       "      <td>E♭ major</td>\n",
       "      <td>1784</td>\n",
       "      <td>pf orch</td>\n",
       "      <td>Orchestral</td>\n",
       "      <td>only pf part survives; completed by Willy Hess</td>\n",
       "      <td>major</td>\n",
       "      <td>1784</td>\n",
       "      <td>1784</td>\n",
       "      <td>1784.0</td>\n",
       "      <td>pre</td>\n",
       "    </tr>\n",
       "    <tr>\n",
       "      <th>10</th>\n",
       "      <td>—</td>\n",
       "      <td>036/1</td>\n",
       "      <td>—</td>\n",
       "      <td>012/1</td>\n",
       "      <td>Piano Quartet No.1 in E-flat major</td>\n",
       "      <td>E♭ major</td>\n",
       "      <td>1785</td>\n",
       "      <td>vn va vc pf</td>\n",
       "      <td>Chamber</td>\n",
       "      <td>one theme also used in Hess 298</td>\n",
       "      <td>major</td>\n",
       "      <td>1785</td>\n",
       "      <td>1785</td>\n",
       "      <td>1785.0</td>\n",
       "      <td>pre</td>\n",
       "    </tr>\n",
       "    <tr>\n",
       "      <th>11</th>\n",
       "      <td>—</td>\n",
       "      <td>036/2</td>\n",
       "      <td>—</td>\n",
       "      <td>012/2</td>\n",
       "      <td>Piano Quartet No.2 in D major</td>\n",
       "      <td>D major</td>\n",
       "      <td>1785</td>\n",
       "      <td>vn va vc pf</td>\n",
       "      <td>Chamber</td>\n",
       "      <td></td>\n",
       "      <td>major</td>\n",
       "      <td>1785</td>\n",
       "      <td>1785</td>\n",
       "      <td>1785.0</td>\n",
       "      <td>pre</td>\n",
       "    </tr>\n",
       "    <tr>\n",
       "      <th>12</th>\n",
       "      <td>—</td>\n",
       "      <td>036/3</td>\n",
       "      <td>—</td>\n",
       "      <td>012/3</td>\n",
       "      <td>Piano Quartet No.3 in C major</td>\n",
       "      <td>C major</td>\n",
       "      <td>1785</td>\n",
       "      <td>vn va vc pf</td>\n",
       "      <td>Chamber</td>\n",
       "      <td>some music re-used in Op.2/1 and Op. 2/3</td>\n",
       "      <td>major</td>\n",
       "      <td>1785</td>\n",
       "      <td>1785</td>\n",
       "      <td>1785.0</td>\n",
       "      <td>pre</td>\n",
       "    </tr>\n",
       "    <tr>\n",
       "      <th>13</th>\n",
       "      <td>—</td>\n",
       "      <td>109</td>\n",
       "      <td>—</td>\n",
       "      <td>013</td>\n",
       "      <td>Trinklied (beim Abschied zu singen) (\"Erhebt d...</td>\n",
       "      <td>C major</td>\n",
       "      <td>1791-92</td>\n",
       "      <td>v pf</td>\n",
       "      <td>Vocal</td>\n",
       "      <td></td>\n",
       "      <td>major</td>\n",
       "      <td>1791</td>\n",
       "      <td>1792</td>\n",
       "      <td>1791.5</td>\n",
       "      <td>pre</td>\n",
       "    </tr>\n",
       "    <tr>\n",
       "      <th>14</th>\n",
       "      <td>—</td>\n",
       "      <td>110</td>\n",
       "      <td>—</td>\n",
       "      <td>014</td>\n",
       "      <td>Elegie auf den Tod eines Pudels (\"Stirb immerh...</td>\n",
       "      <td>F minor</td>\n",
       "      <td>1790</td>\n",
       "      <td>v pf</td>\n",
       "      <td>Vocal</td>\n",
       "      <td></td>\n",
       "      <td>minor</td>\n",
       "      <td>1790</td>\n",
       "      <td>1790</td>\n",
       "      <td>1790.0</td>\n",
       "      <td>pre</td>\n",
       "    </tr>\n",
       "    <tr>\n",
       "      <th>15</th>\n",
       "      <td>—</td>\n",
       "      <td>087</td>\n",
       "      <td>—</td>\n",
       "      <td>017</td>\n",
       "      <td>Cantata on the Death of Emperor Joseph II (Tra...</td>\n",
       "      <td>C minor</td>\n",
       "      <td>1790</td>\n",
       "      <td>sop bass ch orch</td>\n",
       "      <td>Vocal</td>\n",
       "      <td></td>\n",
       "      <td>minor</td>\n",
       "      <td>1790</td>\n",
       "      <td>1790</td>\n",
       "      <td>1790.0</td>\n",
       "      <td>pre</td>\n",
       "    </tr>\n",
       "    <tr>\n",
       "      <th>16</th>\n",
       "      <td>—</td>\n",
       "      <td>088</td>\n",
       "      <td>—</td>\n",
       "      <td>018</td>\n",
       "      <td>Cantata on the Accession of Emperor Leopold II...</td>\n",
       "      <td>A♭ major-D major</td>\n",
       "      <td>1790</td>\n",
       "      <td>sop ten bass ch orch</td>\n",
       "      <td>Vocal</td>\n",
       "      <td></td>\n",
       "      <td>major</td>\n",
       "      <td>1790</td>\n",
       "      <td>1790</td>\n",
       "      <td>1790.0</td>\n",
       "      <td>pre</td>\n",
       "    </tr>\n",
       "    <tr>\n",
       "      <th>17</th>\n",
       "      <td>—</td>\n",
       "      <td>037</td>\n",
       "      <td>—</td>\n",
       "      <td>019</td>\n",
       "      <td>Trio</td>\n",
       "      <td>G major</td>\n",
       "      <td>1786-90</td>\n",
       "      <td>fl bn pf</td>\n",
       "      <td>Chamber</td>\n",
       "      <td></td>\n",
       "      <td>major</td>\n",
       "      <td>1786</td>\n",
       "      <td>1790</td>\n",
       "      <td>1788.0</td>\n",
       "      <td>pre</td>\n",
       "    </tr>\n",
       "    <tr>\n",
       "      <th>18</th>\n",
       "      <td>—</td>\n",
       "      <td>050</td>\n",
       "      <td>053</td>\n",
       "      <td>021</td>\n",
       "      <td>Piano Sonata</td>\n",
       "      <td>F major</td>\n",
       "      <td>1790-92</td>\n",
       "      <td>pf</td>\n",
       "      <td>Keyboard</td>\n",
       "      <td>2 movts. only</td>\n",
       "      <td>major</td>\n",
       "      <td>1790</td>\n",
       "      <td>1792</td>\n",
       "      <td>1791.0</td>\n",
       "      <td>pre</td>\n",
       "    </tr>\n",
       "    <tr>\n",
       "      <th>19</th>\n",
       "      <td>—</td>\n",
       "      <td>111</td>\n",
       "      <td>126</td>\n",
       "      <td>022</td>\n",
       "      <td>Punschlied(\"Wer nicht, wenn warm von Hand zu H...</td>\n",
       "      <td>G major</td>\n",
       "      <td>1791-92</td>\n",
       "      <td>v pf</td>\n",
       "      <td>Vocal</td>\n",
       "      <td></td>\n",
       "      <td>major</td>\n",
       "      <td>1791</td>\n",
       "      <td>1792</td>\n",
       "      <td>1791.5</td>\n",
       "      <td>pre</td>\n",
       "    </tr>\n",
       "    <tr>\n",
       "      <th>20</th>\n",
       "      <td>—</td>\n",
       "      <td>113</td>\n",
       "      <td>—</td>\n",
       "      <td>023</td>\n",
       "      <td>Klage</td>\n",
       "      <td>E major</td>\n",
       "      <td>1790</td>\n",
       "      <td>v pf</td>\n",
       "      <td>Vocal</td>\n",
       "      <td></td>\n",
       "      <td>major</td>\n",
       "      <td>1790</td>\n",
       "      <td>1790</td>\n",
       "      <td>1790.0</td>\n",
       "      <td>pre</td>\n",
       "    </tr>\n",
       "    <tr>\n",
       "      <th>21</th>\n",
       "      <td>—</td>\n",
       "      <td>064</td>\n",
       "      <td>—</td>\n",
       "      <td>025</td>\n",
       "      <td>Variations on a Swiss song(6)</td>\n",
       "      <td>F major</td>\n",
       "      <td>1790-92</td>\n",
       "      <td>pf/hp</td>\n",
       "      <td>Keyboard/ Chamber</td>\n",
       "      <td></td>\n",
       "      <td>major</td>\n",
       "      <td>1790</td>\n",
       "      <td>1792</td>\n",
       "      <td>1791.0</td>\n",
       "      <td>pre</td>\n",
       "    </tr>\n",
       "    <tr>\n",
       "      <th>22</th>\n",
       "      <td>—</td>\n",
       "      <td>054</td>\n",
       "      <td>—</td>\n",
       "      <td>026</td>\n",
       "      <td>Bagatelle ('Lustig-traurig')</td>\n",
       "      <td>C major-C minor</td>\n",
       "      <td>1802</td>\n",
       "      <td>pf</td>\n",
       "      <td>Keyboard</td>\n",
       "      <td></td>\n",
       "      <td>other</td>\n",
       "      <td>1802</td>\n",
       "      <td>1802</td>\n",
       "      <td>1802.0</td>\n",
       "      <td>pre</td>\n",
       "    </tr>\n",
       "    <tr>\n",
       "      <th>23</th>\n",
       "      <td>—</td>\n",
       "      <td>089</td>\n",
       "      <td>—</td>\n",
       "      <td>028/1</td>\n",
       "      <td>Prüfung des Küssens (\"Meine weise Mutter spric...</td>\n",
       "      <td>F major</td>\n",
       "      <td>1790-92</td>\n",
       "      <td>bass orch</td>\n",
       "      <td>Vocal</td>\n",
       "      <td></td>\n",
       "      <td>major</td>\n",
       "      <td>1790</td>\n",
       "      <td>1792</td>\n",
       "      <td>1791.0</td>\n",
       "      <td>pre</td>\n",
       "    </tr>\n",
       "    <tr>\n",
       "      <th>24</th>\n",
       "      <td>—</td>\n",
       "      <td>090</td>\n",
       "      <td>—</td>\n",
       "      <td>028/2</td>\n",
       "      <td>Mit Mädeln sich vertragen</td>\n",
       "      <td>D major</td>\n",
       "      <td>1790-92</td>\n",
       "      <td>bass orch</td>\n",
       "      <td>Vocal</td>\n",
       "      <td></td>\n",
       "      <td>major</td>\n",
       "      <td>1790</td>\n",
       "      <td>1792</td>\n",
       "      <td>1791.0</td>\n",
       "      <td>pre</td>\n",
       "    </tr>\n",
       "    <tr>\n",
       "      <th>25</th>\n",
       "      <td>—</td>\n",
       "      <td>001</td>\n",
       "      <td>—</td>\n",
       "      <td>029</td>\n",
       "      <td>Musik zu einem Ritterballet</td>\n",
       "      <td>D major</td>\n",
       "      <td>1790-91</td>\n",
       "      <td>orch</td>\n",
       "      <td>Stage</td>\n",
       "      <td>music for a ballet of knights; also arr. for pf</td>\n",
       "      <td>major</td>\n",
       "      <td>1790</td>\n",
       "      <td>1791</td>\n",
       "      <td>1790.5</td>\n",
       "      <td>pre</td>\n",
       "    </tr>\n",
       "    <tr>\n",
       "      <th>26</th>\n",
       "      <td>—</td>\n",
       "      <td>001</td>\n",
       "      <td>089</td>\n",
       "      <td>030</td>\n",
       "      <td>Musik zu einem Ritterballet</td>\n",
       "      <td>D major</td>\n",
       "      <td>1791</td>\n",
       "      <td>pf</td>\n",
       "      <td>Stage</td>\n",
       "      <td>arr. of version for orch</td>\n",
       "      <td>major</td>\n",
       "      <td>1791</td>\n",
       "      <td>1791</td>\n",
       "      <td>1791.0</td>\n",
       "      <td>pre</td>\n",
       "    </tr>\n",
       "    <tr>\n",
       "      <th>27</th>\n",
       "      <td>—</td>\n",
       "      <td>038</td>\n",
       "      <td>—</td>\n",
       "      <td>031</td>\n",
       "      <td>Piano Trio in E-flat major</td>\n",
       "      <td>E♭ major</td>\n",
       "      <td>1785-91</td>\n",
       "      <td>vn vc pf</td>\n",
       "      <td>Chamber</td>\n",
       "      <td></td>\n",
       "      <td>major</td>\n",
       "      <td>1785</td>\n",
       "      <td>1791</td>\n",
       "      <td>1788.0</td>\n",
       "      <td>pre</td>\n",
       "    </tr>\n",
       "    <tr>\n",
       "      <th>28</th>\n",
       "      <td>—</td>\n",
       "      <td>026</td>\n",
       "      <td>017</td>\n",
       "      <td>032</td>\n",
       "      <td>Duo for 2 flutes</td>\n",
       "      <td>G major</td>\n",
       "      <td>1792</td>\n",
       "      <td>2fl</td>\n",
       "      <td>Chamber</td>\n",
       "      <td></td>\n",
       "      <td>major</td>\n",
       "      <td>1792</td>\n",
       "      <td>1792</td>\n",
       "      <td>1792.0</td>\n",
       "      <td>pre</td>\n",
       "    </tr>\n",
       "    <tr>\n",
       "      <th>29</th>\n",
       "      <td>—</td>\n",
       "      <td>005</td>\n",
       "      <td>010</td>\n",
       "      <td>033</td>\n",
       "      <td>Violin Concerto</td>\n",
       "      <td>C major</td>\n",
       "      <td>1790-92</td>\n",
       "      <td>vn orch</td>\n",
       "      <td>Orchestral</td>\n",
       "      <td>only fragment of movt. I survives; completed ...</td>\n",
       "      <td>major</td>\n",
       "      <td>1790</td>\n",
       "      <td>1792</td>\n",
       "      <td>1791.0</td>\n",
       "      <td>pre</td>\n",
       "    </tr>\n",
       "    <tr>\n",
       "      <th>...</th>\n",
       "      <td>...</td>\n",
       "      <td>...</td>\n",
       "      <td>...</td>\n",
       "      <td>...</td>\n",
       "      <td>...</td>\n",
       "      <td>...</td>\n",
       "      <td>...</td>\n",
       "      <td>...</td>\n",
       "      <td>...</td>\n",
       "      <td>...</td>\n",
       "      <td>...</td>\n",
       "      <td>...</td>\n",
       "      <td>...</td>\n",
       "      <td>...</td>\n",
       "      <td>...</td>\n",
       "    </tr>\n",
       "    <tr>\n",
       "      <th>365</th>\n",
       "      <td>—</td>\n",
       "      <td>203</td>\n",
       "      <td>272</td>\n",
       "      <td>804</td>\n",
       "      <td>Das Schöne zum Guten!, canon</td>\n",
       "      <td>A major</td>\n",
       "      <td>1825</td>\n",
       "      <td>v</td>\n",
       "      <td>Vocal</td>\n",
       "      <td>2nd version of WoO 202</td>\n",
       "      <td>major</td>\n",
       "      <td>1825</td>\n",
       "      <td>1825</td>\n",
       "      <td>1825.0</td>\n",
       "      <td>NaN</td>\n",
       "    </tr>\n",
       "    <tr>\n",
       "      <th>366</th>\n",
       "      <td>—</td>\n",
       "      <td>189</td>\n",
       "      <td>266</td>\n",
       "      <td>805</td>\n",
       "      <td>Doktor sperrt das Tor dem Tod, canon</td>\n",
       "      <td>C major</td>\n",
       "      <td>1825</td>\n",
       "      <td>4vv</td>\n",
       "      <td>Vocal</td>\n",
       "      <td></td>\n",
       "      <td>major</td>\n",
       "      <td>1825</td>\n",
       "      <td>1825</td>\n",
       "      <td>1825.0</td>\n",
       "      <td>NaN</td>\n",
       "    </tr>\n",
       "    <tr>\n",
       "      <th>367</th>\n",
       "      <td>—</td>\n",
       "      <td>190</td>\n",
       "      <td>267</td>\n",
       "      <td>807</td>\n",
       "      <td>Ich war hier, Doktor, canon</td>\n",
       "      <td>C major</td>\n",
       "      <td>1825</td>\n",
       "      <td>2vv</td>\n",
       "      <td>Vocal</td>\n",
       "      <td></td>\n",
       "      <td>major</td>\n",
       "      <td>1825</td>\n",
       "      <td>1825</td>\n",
       "      <td>1825.0</td>\n",
       "      <td>NaN</td>\n",
       "    </tr>\n",
       "    <tr>\n",
       "      <th>368</th>\n",
       "      <td>132</td>\n",
       "      <td>—</td>\n",
       "      <td>—</td>\n",
       "      <td>808</td>\n",
       "      <td>String Quartet No.15 ('Heiliger Dankgesang')</td>\n",
       "      <td>A minor</td>\n",
       "      <td>1823-25</td>\n",
       "      <td>2vn va vc</td>\n",
       "      <td>Chamber</td>\n",
       "      <td></td>\n",
       "      <td>minor</td>\n",
       "      <td>1823</td>\n",
       "      <td>1825</td>\n",
       "      <td>1824.0</td>\n",
       "      <td>NaN</td>\n",
       "    </tr>\n",
       "    <tr>\n",
       "      <th>369</th>\n",
       "      <td>—</td>\n",
       "      <td>035</td>\n",
       "      <td>273</td>\n",
       "      <td>809</td>\n",
       "      <td>Canon</td>\n",
       "      <td>A major</td>\n",
       "      <td>1825</td>\n",
       "      <td>2vn/2vc</td>\n",
       "      <td>Chamber</td>\n",
       "      <td></td>\n",
       "      <td>major</td>\n",
       "      <td>1825</td>\n",
       "      <td>1825</td>\n",
       "      <td>1825.0</td>\n",
       "      <td>NaN</td>\n",
       "    </tr>\n",
       "    <tr>\n",
       "      <th>370</th>\n",
       "      <td>—</td>\n",
       "      <td>191</td>\n",
       "      <td>—</td>\n",
       "      <td>823</td>\n",
       "      <td>Kühl, nicht lau, canon</td>\n",
       "      <td>B♭ major</td>\n",
       "      <td>1825</td>\n",
       "      <td>3vv</td>\n",
       "      <td>Vocal</td>\n",
       "      <td></td>\n",
       "      <td>major</td>\n",
       "      <td>1825</td>\n",
       "      <td>1825</td>\n",
       "      <td>1825.0</td>\n",
       "      <td>NaN</td>\n",
       "    </tr>\n",
       "    <tr>\n",
       "      <th>371</th>\n",
       "      <td>—</td>\n",
       "      <td>192</td>\n",
       "      <td>268</td>\n",
       "      <td>824</td>\n",
       "      <td>Ars longa, vita brevis</td>\n",
       "      <td>F major</td>\n",
       "      <td>1825</td>\n",
       "      <td>4vv</td>\n",
       "      <td>Vocal</td>\n",
       "      <td>2nd setting of WoO 170 and WoO 193</td>\n",
       "      <td>major</td>\n",
       "      <td>1825</td>\n",
       "      <td>1825</td>\n",
       "      <td>1825.0</td>\n",
       "      <td>NaN</td>\n",
       "    </tr>\n",
       "    <tr>\n",
       "      <th>372</th>\n",
       "      <td>—</td>\n",
       "      <td>061a</td>\n",
       "      <td>056</td>\n",
       "      <td>825</td>\n",
       "      <td>Bagatelle (Allegretto quasi Andante)</td>\n",
       "      <td>G minor</td>\n",
       "      <td>1825</td>\n",
       "      <td>pf</td>\n",
       "      <td>Keyboard</td>\n",
       "      <td></td>\n",
       "      <td>minor</td>\n",
       "      <td>1825</td>\n",
       "      <td>1825</td>\n",
       "      <td>1825.0</td>\n",
       "      <td>NaN</td>\n",
       "    </tr>\n",
       "    <tr>\n",
       "      <th>373</th>\n",
       "      <td>—</td>\n",
       "      <td>204</td>\n",
       "      <td>284</td>\n",
       "      <td>826</td>\n",
       "      <td>Holz, Holz geigt die Quartette so</td>\n",
       "      <td>D minor</td>\n",
       "      <td>1825</td>\n",
       "      <td>v</td>\n",
       "      <td>Vocal</td>\n",
       "      <td></td>\n",
       "      <td>minor</td>\n",
       "      <td>1825</td>\n",
       "      <td>1825</td>\n",
       "      <td>1825.0</td>\n",
       "      <td>NaN</td>\n",
       "    </tr>\n",
       "    <tr>\n",
       "      <th>374</th>\n",
       "      <td>—</td>\n",
       "      <td>194</td>\n",
       "      <td>—</td>\n",
       "      <td>827</td>\n",
       "      <td>Si non per portas, canon</td>\n",
       "      <td>E♭ major</td>\n",
       "      <td>1825</td>\n",
       "      <td>4vv</td>\n",
       "      <td>Vocal</td>\n",
       "      <td></td>\n",
       "      <td>major</td>\n",
       "      <td>1825</td>\n",
       "      <td>1825</td>\n",
       "      <td>1825.0</td>\n",
       "      <td>NaN</td>\n",
       "    </tr>\n",
       "    <tr>\n",
       "      <th>375</th>\n",
       "      <td>—</td>\n",
       "      <td>085</td>\n",
       "      <td>—</td>\n",
       "      <td>828</td>\n",
       "      <td>Waltz</td>\n",
       "      <td>D major</td>\n",
       "      <td>1825</td>\n",
       "      <td>pf</td>\n",
       "      <td>Keyboard</td>\n",
       "      <td></td>\n",
       "      <td>major</td>\n",
       "      <td>1825</td>\n",
       "      <td>1825</td>\n",
       "      <td>1825.0</td>\n",
       "      <td>NaN</td>\n",
       "    </tr>\n",
       "    <tr>\n",
       "      <th>376</th>\n",
       "      <td>—</td>\n",
       "      <td>086</td>\n",
       "      <td>—</td>\n",
       "      <td>829</td>\n",
       "      <td>Ecossaise</td>\n",
       "      <td>E♭ major</td>\n",
       "      <td>1825</td>\n",
       "      <td>pf</td>\n",
       "      <td>Keyboard</td>\n",
       "      <td></td>\n",
       "      <td>major</td>\n",
       "      <td>1825</td>\n",
       "      <td>1825</td>\n",
       "      <td>1825.0</td>\n",
       "      <td>NaN</td>\n",
       "    </tr>\n",
       "    <tr>\n",
       "      <th>377</th>\n",
       "      <td>133</td>\n",
       "      <td>—</td>\n",
       "      <td>—</td>\n",
       "      <td>830</td>\n",
       "      <td>Große Fuge</td>\n",
       "      <td>B♭ major</td>\n",
       "      <td>1825-26</td>\n",
       "      <td>2vn va vc</td>\n",
       "      <td>Chamber</td>\n",
       "      <td>finale to 1st version of Op.130; arr.for pf4h...</td>\n",
       "      <td>major</td>\n",
       "      <td>1825</td>\n",
       "      <td>1826</td>\n",
       "      <td>1825.5</td>\n",
       "      <td>NaN</td>\n",
       "    </tr>\n",
       "    <tr>\n",
       "      <th>378</th>\n",
       "      <td>130</td>\n",
       "      <td>—</td>\n",
       "      <td>—</td>\n",
       "      <td>830</td>\n",
       "      <td>String Quartet No.13</td>\n",
       "      <td>B♭ major</td>\n",
       "      <td>1825</td>\n",
       "      <td>2vn va vc</td>\n",
       "      <td>Chamber</td>\n",
       "      <td>1st version (including Op.133)</td>\n",
       "      <td>major</td>\n",
       "      <td>1825</td>\n",
       "      <td>1825</td>\n",
       "      <td>1825.0</td>\n",
       "      <td>NaN</td>\n",
       "    </tr>\n",
       "    <tr>\n",
       "      <th>379</th>\n",
       "      <td>—</td>\n",
       "      <td>195</td>\n",
       "      <td>—</td>\n",
       "      <td>831</td>\n",
       "      <td>Freu dich des Lebens</td>\n",
       "      <td>A minor</td>\n",
       "      <td>1825</td>\n",
       "      <td>2vv</td>\n",
       "      <td>Vocal</td>\n",
       "      <td></td>\n",
       "      <td>minor</td>\n",
       "      <td>1825</td>\n",
       "      <td>1825</td>\n",
       "      <td>1825.0</td>\n",
       "      <td>NaN</td>\n",
       "    </tr>\n",
       "    <tr>\n",
       "      <th>380</th>\n",
       "      <td>—</td>\n",
       "      <td>193</td>\n",
       "      <td>269</td>\n",
       "      <td>833</td>\n",
       "      <td>Ars longa, vita brevis</td>\n",
       "      <td>C major</td>\n",
       "      <td>1825</td>\n",
       "      <td></td>\n",
       "      <td>Vocal</td>\n",
       "      <td>3rd setting of WoO 170 and WoO 192</td>\n",
       "      <td>major</td>\n",
       "      <td>1825</td>\n",
       "      <td>1825</td>\n",
       "      <td>1825.0</td>\n",
       "      <td>NaN</td>\n",
       "    </tr>\n",
       "    <tr>\n",
       "      <th>381</th>\n",
       "      <td>—</td>\n",
       "      <td>196</td>\n",
       "      <td>270</td>\n",
       "      <td>834</td>\n",
       "      <td>Es muß sein!, canon</td>\n",
       "      <td>F major</td>\n",
       "      <td>1826</td>\n",
       "      <td>4vv</td>\n",
       "      <td>Vocal</td>\n",
       "      <td></td>\n",
       "      <td>major</td>\n",
       "      <td>1826</td>\n",
       "      <td>1826</td>\n",
       "      <td>1826.0</td>\n",
       "      <td>NaN</td>\n",
       "    </tr>\n",
       "    <tr>\n",
       "      <th>382</th>\n",
       "      <td>—</td>\n",
       "      <td>—</td>\n",
       "      <td>—</td>\n",
       "      <td>838</td>\n",
       "      <td>Symphony No.10</td>\n",
       "      <td>E♭ major</td>\n",
       "      <td>1822-25</td>\n",
       "      <td></td>\n",
       "      <td>Orchestral</td>\n",
       "      <td>unfinished sketches only; completion by Barry...</td>\n",
       "      <td>major</td>\n",
       "      <td>1822</td>\n",
       "      <td>1825</td>\n",
       "      <td>1823.5</td>\n",
       "      <td>NaN</td>\n",
       "    </tr>\n",
       "    <tr>\n",
       "      <th>383</th>\n",
       "      <td>131</td>\n",
       "      <td>—</td>\n",
       "      <td>—</td>\n",
       "      <td>840</td>\n",
       "      <td>String Quartet No.14</td>\n",
       "      <td>C♯ minor</td>\n",
       "      <td>1825-26</td>\n",
       "      <td>2vn va vc</td>\n",
       "      <td>Chamber</td>\n",
       "      <td></td>\n",
       "      <td>minor</td>\n",
       "      <td>1825</td>\n",
       "      <td>1826</td>\n",
       "      <td>1825.5</td>\n",
       "      <td>NaN</td>\n",
       "    </tr>\n",
       "    <tr>\n",
       "      <th>384</th>\n",
       "      <td>134</td>\n",
       "      <td>—</td>\n",
       "      <td>086</td>\n",
       "      <td>841</td>\n",
       "      <td>Große Fuge</td>\n",
       "      <td>B♭ major</td>\n",
       "      <td>1826</td>\n",
       "      <td>pf4h</td>\n",
       "      <td>Keyboard</td>\n",
       "      <td>arr. from Op.133</td>\n",
       "      <td>major</td>\n",
       "      <td>1826</td>\n",
       "      <td>1826</td>\n",
       "      <td>1826.0</td>\n",
       "      <td>NaN</td>\n",
       "    </tr>\n",
       "    <tr>\n",
       "      <th>385</th>\n",
       "      <td>—</td>\n",
       "      <td>197</td>\n",
       "      <td>271</td>\n",
       "      <td>842</td>\n",
       "      <td>Da ist das Werk, canon</td>\n",
       "      <td>C major</td>\n",
       "      <td>1826</td>\n",
       "      <td>5vv</td>\n",
       "      <td>Vocal</td>\n",
       "      <td></td>\n",
       "      <td>major</td>\n",
       "      <td>1826</td>\n",
       "      <td>1826</td>\n",
       "      <td>1826.0</td>\n",
       "      <td>NaN</td>\n",
       "    </tr>\n",
       "    <tr>\n",
       "      <th>386</th>\n",
       "      <td>135</td>\n",
       "      <td>—</td>\n",
       "      <td>—</td>\n",
       "      <td>845</td>\n",
       "      <td>String Quartet No.16</td>\n",
       "      <td>F major</td>\n",
       "      <td>1826</td>\n",
       "      <td>2vn va vc</td>\n",
       "      <td>Chamber</td>\n",
       "      <td></td>\n",
       "      <td>major</td>\n",
       "      <td>1826</td>\n",
       "      <td>1826</td>\n",
       "      <td>1826.0</td>\n",
       "      <td>NaN</td>\n",
       "    </tr>\n",
       "    <tr>\n",
       "      <th>387</th>\n",
       "      <td>—</td>\n",
       "      <td>062</td>\n",
       "      <td>041</td>\n",
       "      <td>846</td>\n",
       "      <td>String Quintet ('\"Letzter musikalischer Gedank...</td>\n",
       "      <td>C major</td>\n",
       "      <td>1826</td>\n",
       "      <td>2vn va vc</td>\n",
       "      <td>Chamber</td>\n",
       "      <td>sketches only; arr. for pf and completed by A...</td>\n",
       "      <td>major</td>\n",
       "      <td>1826</td>\n",
       "      <td>1826</td>\n",
       "      <td>1826.0</td>\n",
       "      <td>NaN</td>\n",
       "    </tr>\n",
       "    <tr>\n",
       "      <th>388</th>\n",
       "      <td>130</td>\n",
       "      <td>—</td>\n",
       "      <td>—</td>\n",
       "      <td>847</td>\n",
       "      <td>String Quartet No.13</td>\n",
       "      <td>B♭ major</td>\n",
       "      <td>1826</td>\n",
       "      <td>2vn va vc</td>\n",
       "      <td>Chamber</td>\n",
       "      <td>2nd version</td>\n",
       "      <td>major</td>\n",
       "      <td>1826</td>\n",
       "      <td>1826</td>\n",
       "      <td>1826.0</td>\n",
       "      <td>NaN</td>\n",
       "    </tr>\n",
       "    <tr>\n",
       "      <th>389</th>\n",
       "      <td>—</td>\n",
       "      <td>198</td>\n",
       "      <td>280</td>\n",
       "      <td>848</td>\n",
       "      <td>Wir irren allesamt, canon</td>\n",
       "      <td>C major</td>\n",
       "      <td>1826</td>\n",
       "      <td>2vv</td>\n",
       "      <td>Vocal</td>\n",
       "      <td></td>\n",
       "      <td>major</td>\n",
       "      <td>1826</td>\n",
       "      <td>1826</td>\n",
       "      <td>1826.0</td>\n",
       "      <td>NaN</td>\n",
       "    </tr>\n",
       "    <tr>\n",
       "      <th>390</th>\n",
       "      <td>064</td>\n",
       "      <td>—</td>\n",
       "      <td>Anh.15</td>\n",
       "      <td>II/60</td>\n",
       "      <td>Cello Sonata ('Grand Sonata')</td>\n",
       "      <td>E♭ major</td>\n",
       "      <td>1807</td>\n",
       "      <td>vc pf</td>\n",
       "      <td>Chamber</td>\n",
       "      <td>spurious; arr.of Op.3 by unknown author</td>\n",
       "      <td>major</td>\n",
       "      <td>1807</td>\n",
       "      <td>1807</td>\n",
       "      <td>1807.0</td>\n",
       "      <td>NaN</td>\n",
       "    </tr>\n",
       "    <tr>\n",
       "      <th>391</th>\n",
       "      <td>—</td>\n",
       "      <td>029</td>\n",
       "      <td>087</td>\n",
       "      <td>—</td>\n",
       "      <td>March for Wind Sextet in B-flat major('Grenadi...</td>\n",
       "      <td>B♭ major</td>\n",
       "      <td>1797-98</td>\n",
       "      <td>pf</td>\n",
       "      <td>Keyboard</td>\n",
       "      <td>arr. of version for wind sextet</td>\n",
       "      <td>major</td>\n",
       "      <td>1797</td>\n",
       "      <td>1798</td>\n",
       "      <td>1797.5</td>\n",
       "      <td>NaN</td>\n",
       "    </tr>\n",
       "    <tr>\n",
       "      <th>392</th>\n",
       "      <td>—</td>\n",
       "      <td>028</td>\n",
       "      <td>018</td>\n",
       "      <td>—</td>\n",
       "      <td>Variations on 'Là ci darem la mano', WoO 28 (8)</td>\n",
       "      <td>C major</td>\n",
       "      <td>1795</td>\n",
       "      <td>2ob eh</td>\n",
       "      <td>Chamber</td>\n",
       "      <td>theme from Don Giovanni, K.527, by Wolfgang A...</td>\n",
       "      <td>major</td>\n",
       "      <td>1795</td>\n",
       "      <td>1795</td>\n",
       "      <td>1795.0</td>\n",
       "      <td>NaN</td>\n",
       "    </tr>\n",
       "    <tr>\n",
       "      <th>393</th>\n",
       "      <td>—</td>\n",
       "      <td>—</td>\n",
       "      <td>091</td>\n",
       "      <td>—</td>\n",
       "      <td>Opferlied (\"Die Flamme lodert\")</td>\n",
       "      <td>E major</td>\n",
       "      <td>1824</td>\n",
       "      <td>v ch pf</td>\n",
       "      <td>Vocal</td>\n",
       "      <td>5th version of Op. 121b, WoO 126, Hess 91, He...</td>\n",
       "      <td>major</td>\n",
       "      <td>1824</td>\n",
       "      <td>1824</td>\n",
       "      <td>1824.0</td>\n",
       "      <td>NaN</td>\n",
       "    </tr>\n",
       "    <tr>\n",
       "      <th>394</th>\n",
       "      <td>—</td>\n",
       "      <td>—</td>\n",
       "      <td>—</td>\n",
       "      <td>—</td>\n",
       "      <td>Bagatelle in F minor</td>\n",
       "      <td>F minor</td>\n",
       "      <td>1826</td>\n",
       "      <td>pf</td>\n",
       "      <td>Keyboard</td>\n",
       "      <td>unidentified work; Beethoven's authorshp disp...</td>\n",
       "      <td>minor</td>\n",
       "      <td>1826</td>\n",
       "      <td>1826</td>\n",
       "      <td>1826.0</td>\n",
       "      <td>NaN</td>\n",
       "    </tr>\n",
       "  </tbody>\n",
       "</table>\n",
       "<p>395 rows × 15 columns</p>\n",
       "</div>"
      ],
      "text/plain": [
       "      op.     woo     hess biam-onti  \\\n",
       "0       —     063        —       001   \n",
       "1       —   047/1        —     002/1   \n",
       "2       —   047/2        —     002/2   \n",
       "3       —   047/3        —     002/3   \n",
       "4       —     048      051       004   \n",
       "5       —     049        —       005   \n",
       "6       —     031        —       006   \n",
       "7       —     107        —       007   \n",
       "8       —     108        —       009   \n",
       "9       —     004        —       010   \n",
       "10      —   036/1        —     012/1   \n",
       "11      —   036/2        —     012/2   \n",
       "12      —   036/3        —     012/3   \n",
       "13      —     109        —       013   \n",
       "14      —     110        —       014   \n",
       "15      —     087        —       017   \n",
       "16      —     088        —       018   \n",
       "17      —     037        —       019   \n",
       "18      —     050      053       021   \n",
       "19      —     111      126       022   \n",
       "20      —     113        —       023   \n",
       "21      —     064        —       025   \n",
       "22      —     054        —       026   \n",
       "23      —     089        —     028/1   \n",
       "24      —     090        —     028/2   \n",
       "25      —     001        —       029   \n",
       "26      —     001      089       030   \n",
       "27      —     038        —       031   \n",
       "28      —     026      017       032   \n",
       "29      —     005      010       033   \n",
       "..    ...     ...      ...       ...   \n",
       "365     —     203      272       804   \n",
       "366     —     189      266       805   \n",
       "367     —     190      267       807   \n",
       "368   132       —        —       808   \n",
       "369     —     035      273       809   \n",
       "370     —     191        —       823   \n",
       "371     —     192      268       824   \n",
       "372     —    061a      056       825   \n",
       "373     —     204      284       826   \n",
       "374     —     194        —       827   \n",
       "375     —     085        —       828   \n",
       "376     —     086        —       829   \n",
       "377   133       —        —       830   \n",
       "378   130       —        —       830   \n",
       "379     —     195        —       831   \n",
       "380     —     193      269       833   \n",
       "381     —     196      270       834   \n",
       "382     —       —        —       838   \n",
       "383   131       —        —       840   \n",
       "384   134       —      086       841   \n",
       "385     —     197      271       842   \n",
       "386   135       —        —       845   \n",
       "387     —     062      041       846   \n",
       "388   130       —        —       847   \n",
       "389     —     198      280       848   \n",
       "390   064       —   Anh.15     II/60   \n",
       "391     —     029      087         —   \n",
       "392     —     028      018         —   \n",
       "393     —       —      091         —   \n",
       "394     —       —        —         —   \n",
       "\n",
       "                                                 title               key  \\\n",
       "0                Variations on a March by Dressler (9)           C minor   \n",
       "1                                         Piano Sonata          E♭ major   \n",
       "2                                         Piano Sonata           F minor   \n",
       "3                                         Piano Sonata           D major   \n",
       "4                                                Rondo           C major   \n",
       "5                                                Rondo           A major   \n",
       "6                                                Fugue           D major   \n",
       "7    Schilderung eines Mädchens(\"Schildern, willst ...           G major   \n",
       "8    An einen Säugling (\"Noch weisst du nicht, wes ...           A major   \n",
       "9                                       Piano Concerto          E♭ major   \n",
       "10                  Piano Quartet No.1 in E-flat major          E♭ major   \n",
       "11                       Piano Quartet No.2 in D major           D major   \n",
       "12                       Piano Quartet No.3 in C major           C major   \n",
       "13   Trinklied (beim Abschied zu singen) (\"Erhebt d...           C major   \n",
       "14   Elegie auf den Tod eines Pudels (\"Stirb immerh...           F minor   \n",
       "15   Cantata on the Death of Emperor Joseph II (Tra...           C minor   \n",
       "16   Cantata on the Accession of Emperor Leopold II...  A♭ major-D major   \n",
       "17                                                Trio           G major   \n",
       "18                                        Piano Sonata           F major   \n",
       "19   Punschlied(\"Wer nicht, wenn warm von Hand zu H...           G major   \n",
       "20                                               Klage           E major   \n",
       "21                       Variations on a Swiss song(6)           F major   \n",
       "22                        Bagatelle ('Lustig-traurig')   C major-C minor   \n",
       "23   Prüfung des Küssens (\"Meine weise Mutter spric...           F major   \n",
       "24                           Mit Mädeln sich vertragen           D major   \n",
       "25                         Musik zu einem Ritterballet           D major   \n",
       "26                         Musik zu einem Ritterballet           D major   \n",
       "27                          Piano Trio in E-flat major          E♭ major   \n",
       "28                                    Duo for 2 flutes           G major   \n",
       "29                                     Violin Concerto           C major   \n",
       "..                                                 ...               ...   \n",
       "365                       Das Schöne zum Guten!, canon           A major   \n",
       "366               Doktor sperrt das Tor dem Tod, canon           C major   \n",
       "367                        Ich war hier, Doktor, canon           C major   \n",
       "368       String Quartet No.15 ('Heiliger Dankgesang')           A minor   \n",
       "369                                              Canon           A major   \n",
       "370                             Kühl, nicht lau, canon          B♭ major   \n",
       "371                             Ars longa, vita brevis           F major   \n",
       "372               Bagatelle (Allegretto quasi Andante)           G minor   \n",
       "373                  Holz, Holz geigt die Quartette so           D minor   \n",
       "374                           Si non per portas, canon          E♭ major   \n",
       "375                                              Waltz           D major   \n",
       "376                                          Ecossaise          E♭ major   \n",
       "377                                         Große Fuge          B♭ major   \n",
       "378                               String Quartet No.13          B♭ major   \n",
       "379                               Freu dich des Lebens           A minor   \n",
       "380                             Ars longa, vita brevis           C major   \n",
       "381                                Es muß sein!, canon           F major   \n",
       "382                                     Symphony No.10          E♭ major   \n",
       "383                               String Quartet No.14          C♯ minor   \n",
       "384                                         Große Fuge          B♭ major   \n",
       "385                             Da ist das Werk, canon           C major   \n",
       "386                               String Quartet No.16           F major   \n",
       "387  String Quintet ('\"Letzter musikalischer Gedank...           C major   \n",
       "388                               String Quartet No.13          B♭ major   \n",
       "389                          Wir irren allesamt, canon           C major   \n",
       "390                      Cello Sonata ('Grand Sonata')          E♭ major   \n",
       "391  March for Wind Sextet in B-flat major('Grenadi...          B♭ major   \n",
       "392    Variations on 'Là ci darem la mano', WoO 28 (8)           C major   \n",
       "393                    Opferlied (\"Die Flamme lodert\")           E major   \n",
       "394                               Bagatelle in F minor           F minor   \n",
       "\n",
       "        date                scoring               genre  \\\n",
       "0       1782                     pf             Chamber   \n",
       "1       1783                     pf            Keyboard   \n",
       "2       1783                     pf            Keyboard   \n",
       "3       1783                     pf            Keyboard   \n",
       "4       1783                     pf            Keyboard   \n",
       "5       1783                     pf            Keyboard   \n",
       "6       1783                    org            Keyboard   \n",
       "7       1782                   v pf               Vocal   \n",
       "8       1783                   v pf               Vocal   \n",
       "9       1784                pf orch          Orchestral   \n",
       "10      1785            vn va vc pf             Chamber   \n",
       "11      1785            vn va vc pf             Chamber   \n",
       "12      1785            vn va vc pf             Chamber   \n",
       "13   1791-92                   v pf               Vocal   \n",
       "14      1790                   v pf               Vocal   \n",
       "15      1790       sop bass ch orch               Vocal   \n",
       "16      1790   sop ten bass ch orch               Vocal   \n",
       "17   1786-90               fl bn pf             Chamber   \n",
       "18   1790-92                     pf            Keyboard   \n",
       "19   1791-92                   v pf               Vocal   \n",
       "20      1790                   v pf               Vocal   \n",
       "21   1790-92                  pf/hp   Keyboard/ Chamber   \n",
       "22      1802                     pf            Keyboard   \n",
       "23   1790-92              bass orch               Vocal   \n",
       "24   1790-92              bass orch               Vocal   \n",
       "25   1790-91                   orch               Stage   \n",
       "26      1791                     pf               Stage   \n",
       "27   1785-91               vn vc pf             Chamber   \n",
       "28      1792                    2fl             Chamber   \n",
       "29   1790-92                vn orch          Orchestral   \n",
       "..       ...                    ...                 ...   \n",
       "365     1825                      v               Vocal   \n",
       "366     1825                    4vv               Vocal   \n",
       "367     1825                    2vv               Vocal   \n",
       "368  1823-25              2vn va vc             Chamber   \n",
       "369     1825                2vn/2vc             Chamber   \n",
       "370     1825                    3vv               Vocal   \n",
       "371     1825                    4vv               Vocal   \n",
       "372     1825                     pf            Keyboard   \n",
       "373     1825                      v               Vocal   \n",
       "374     1825                    4vv               Vocal   \n",
       "375     1825                     pf            Keyboard   \n",
       "376     1825                     pf            Keyboard   \n",
       "377  1825-26              2vn va vc             Chamber   \n",
       "378     1825              2vn va vc             Chamber   \n",
       "379     1825                    2vv               Vocal   \n",
       "380     1825                                      Vocal   \n",
       "381     1826                    4vv               Vocal   \n",
       "382  1822-25                                 Orchestral   \n",
       "383  1825-26              2vn va vc             Chamber   \n",
       "384     1826                   pf4h            Keyboard   \n",
       "385     1826                    5vv               Vocal   \n",
       "386     1826              2vn va vc             Chamber   \n",
       "387     1826              2vn va vc             Chamber   \n",
       "388     1826              2vn va vc             Chamber   \n",
       "389     1826                    2vv               Vocal   \n",
       "390     1807                  vc pf             Chamber   \n",
       "391  1797-98                     pf            Keyboard   \n",
       "392     1795                 2ob eh             Chamber   \n",
       "393     1824                v ch pf               Vocal   \n",
       "394     1826                     pf            Keyboard   \n",
       "\n",
       "                                                 notes   mode  min_date  \\\n",
       "0         based on a march by Ernst Christoph Dressler  minor      1782   \n",
       "1                                                       major      1783   \n",
       "2                                                       minor      1783   \n",
       "3                                                       major      1783   \n",
       "4                                                       major      1783   \n",
       "5                                                       major      1783   \n",
       "6                                                       major      1783   \n",
       "7                                                       major      1782   \n",
       "8                                                       major      1783   \n",
       "9       only pf part survives; completed by Willy Hess  major      1784   \n",
       "10                     one theme also used in Hess 298  major      1785   \n",
       "11                                                      major      1785   \n",
       "12            some music re-used in Op.2/1 and Op. 2/3  major      1785   \n",
       "13                                                      major      1791   \n",
       "14                                                      minor      1790   \n",
       "15                                                      minor      1790   \n",
       "16                                                      major      1790   \n",
       "17                                                      major      1786   \n",
       "18                                       2 movts. only  major      1790   \n",
       "19                                                      major      1791   \n",
       "20                                                      major      1790   \n",
       "21                                                      major      1790   \n",
       "22                                                      other      1802   \n",
       "23                                                      major      1790   \n",
       "24                                                      major      1790   \n",
       "25     music for a ballet of knights; also arr. for pf  major      1790   \n",
       "26                            arr. of version for orch  major      1791   \n",
       "27                                                      major      1785   \n",
       "28                                                      major      1792   \n",
       "29    only fragment of movt. I survives; completed ...  major      1790   \n",
       "..                                                 ...    ...       ...   \n",
       "365                             2nd version of WoO 202  major      1825   \n",
       "366                                                     major      1825   \n",
       "367                                                     major      1825   \n",
       "368                                                     minor      1823   \n",
       "369                                                     major      1825   \n",
       "370                                                     major      1825   \n",
       "371                 2nd setting of WoO 170 and WoO 193  major      1825   \n",
       "372                                                     minor      1825   \n",
       "373                                                     minor      1825   \n",
       "374                                                     major      1825   \n",
       "375                                                     major      1825   \n",
       "376                                                     major      1825   \n",
       "377   finale to 1st version of Op.130; arr.for pf4h...  major      1825   \n",
       "378                     1st version (including Op.133)  major      1825   \n",
       "379                                                     minor      1825   \n",
       "380                 3rd setting of WoO 170 and WoO 192  major      1825   \n",
       "381                                                     major      1826   \n",
       "382   unfinished sketches only; completion by Barry...  major      1822   \n",
       "383                                                     minor      1825   \n",
       "384                                   arr. from Op.133  major      1826   \n",
       "385                                                     major      1826   \n",
       "386                                                     major      1826   \n",
       "387   sketches only; arr. for pf and completed by A...  major      1826   \n",
       "388                                        2nd version  major      1826   \n",
       "389                                                     major      1826   \n",
       "390            spurious; arr.of Op.3 by unknown author  major      1807   \n",
       "391                    arr. of version for wind sextet  major      1797   \n",
       "392   theme from Don Giovanni, K.527, by Wolfgang A...  major      1795   \n",
       "393   5th version of Op. 121b, WoO 126, Hess 91, He...  major      1824   \n",
       "394   unidentified work; Beethoven's authorshp disp...  minor      1826   \n",
       "\n",
       "     max_date  avg_date period  \n",
       "0        1782    1782.0    pre  \n",
       "1        1783    1783.0    pre  \n",
       "2        1783    1783.0    pre  \n",
       "3        1783    1783.0    pre  \n",
       "4        1783    1783.0    pre  \n",
       "5        1783    1783.0    pre  \n",
       "6        1783    1783.0    pre  \n",
       "7        1782    1782.0    pre  \n",
       "8        1783    1783.0    pre  \n",
       "9        1784    1784.0    pre  \n",
       "10       1785    1785.0    pre  \n",
       "11       1785    1785.0    pre  \n",
       "12       1785    1785.0    pre  \n",
       "13       1792    1791.5    pre  \n",
       "14       1790    1790.0    pre  \n",
       "15       1790    1790.0    pre  \n",
       "16       1790    1790.0    pre  \n",
       "17       1790    1788.0    pre  \n",
       "18       1792    1791.0    pre  \n",
       "19       1792    1791.5    pre  \n",
       "20       1790    1790.0    pre  \n",
       "21       1792    1791.0    pre  \n",
       "22       1802    1802.0    pre  \n",
       "23       1792    1791.0    pre  \n",
       "24       1792    1791.0    pre  \n",
       "25       1791    1790.5    pre  \n",
       "26       1791    1791.0    pre  \n",
       "27       1791    1788.0    pre  \n",
       "28       1792    1792.0    pre  \n",
       "29       1792    1791.0    pre  \n",
       "..        ...       ...    ...  \n",
       "365      1825    1825.0    NaN  \n",
       "366      1825    1825.0    NaN  \n",
       "367      1825    1825.0    NaN  \n",
       "368      1825    1824.0    NaN  \n",
       "369      1825    1825.0    NaN  \n",
       "370      1825    1825.0    NaN  \n",
       "371      1825    1825.0    NaN  \n",
       "372      1825    1825.0    NaN  \n",
       "373      1825    1825.0    NaN  \n",
       "374      1825    1825.0    NaN  \n",
       "375      1825    1825.0    NaN  \n",
       "376      1825    1825.0    NaN  \n",
       "377      1826    1825.5    NaN  \n",
       "378      1825    1825.0    NaN  \n",
       "379      1825    1825.0    NaN  \n",
       "380      1825    1825.0    NaN  \n",
       "381      1826    1826.0    NaN  \n",
       "382      1825    1823.5    NaN  \n",
       "383      1826    1825.5    NaN  \n",
       "384      1826    1826.0    NaN  \n",
       "385      1826    1826.0    NaN  \n",
       "386      1826    1826.0    NaN  \n",
       "387      1826    1826.0    NaN  \n",
       "388      1826    1826.0    NaN  \n",
       "389      1826    1826.0    NaN  \n",
       "390      1807    1807.0    NaN  \n",
       "391      1798    1797.5    NaN  \n",
       "392      1795    1795.0    NaN  \n",
       "393      1824    1824.0    NaN  \n",
       "394      1826    1826.0    NaN  \n",
       "\n",
       "[395 rows x 15 columns]"
      ]
     },
     "execution_count": 96,
     "metadata": {},
     "output_type": "execute_result"
    }
   ],
   "source": [
    "# First period ends with \"Pastoral\" Piano Sonata"
   ]
  },
  {
   "cell_type": "code",
   "execution_count": 97,
   "metadata": {},
   "outputs": [
    {
     "data": {
      "text/html": [
       "<div>\n",
       "<style scoped>\n",
       "    .dataframe tbody tr th:only-of-type {\n",
       "        vertical-align: middle;\n",
       "    }\n",
       "\n",
       "    .dataframe tbody tr th {\n",
       "        vertical-align: top;\n",
       "    }\n",
       "\n",
       "    .dataframe thead th {\n",
       "        text-align: right;\n",
       "    }\n",
       "</style>\n",
       "<table border=\"1\" class=\"dataframe\">\n",
       "  <thead>\n",
       "    <tr style=\"text-align: right;\">\n",
       "      <th></th>\n",
       "      <th>op.</th>\n",
       "      <th>woo</th>\n",
       "      <th>hess</th>\n",
       "      <th>biam-onti</th>\n",
       "      <th>title</th>\n",
       "      <th>key</th>\n",
       "      <th>date</th>\n",
       "      <th>scoring</th>\n",
       "      <th>genre</th>\n",
       "      <th>notes</th>\n",
       "      <th>mode</th>\n",
       "      <th>min_date</th>\n",
       "      <th>max_date</th>\n",
       "      <th>avg_date</th>\n",
       "      <th>period</th>\n",
       "    </tr>\n",
       "  </thead>\n",
       "  <tbody>\n",
       "    <tr>\n",
       "      <th>156</th>\n",
       "      <td>024</td>\n",
       "      <td>—</td>\n",
       "      <td>—</td>\n",
       "      <td>294</td>\n",
       "      <td>Violin Sonata No.5</td>\n",
       "      <td>F major</td>\n",
       "      <td>1800-01</td>\n",
       "      <td>vn pf</td>\n",
       "      <td>Chamber</td>\n",
       "      <td></td>\n",
       "      <td>major</td>\n",
       "      <td>1800</td>\n",
       "      <td>1801</td>\n",
       "      <td>1800.5</td>\n",
       "      <td>NaN</td>\n",
       "    </tr>\n",
       "  </tbody>\n",
       "</table>\n",
       "</div>"
      ],
      "text/plain": [
       "      op. woo hess biam-onti               title      key     date scoring  \\\n",
       "156   024   —    —       294  Violin Sonata No.5  F major  1800-01   vn pf   \n",
       "\n",
       "        genre notes   mode  min_date  max_date  avg_date period  \n",
       "156   Chamber        major      1800      1801    1800.5    NaN  "
      ]
     },
     "execution_count": 97,
     "metadata": {},
     "output_type": "execute_result"
    }
   ],
   "source": [
    "df.loc[df[\"title\"] == \"Violin Sonata No.5\"]"
   ]
  },
  {
   "cell_type": "code",
   "execution_count": 128,
   "metadata": {},
   "outputs": [],
   "source": [
    "df.loc[53:196, \"period\"] = \"first\""
   ]
  },
  {
   "cell_type": "markdown",
   "metadata": {},
   "source": [
    "Avoiding transition because second transition very unclear..."
   ]
  },
  {
   "cell_type": "code",
   "execution_count": 114,
   "metadata": {},
   "outputs": [],
   "source": [
    "# df.loc[157:196, \"period\"] = \"first transition\""
   ]
  },
  {
   "cell_type": "code",
   "execution_count": 112,
   "metadata": {},
   "outputs": [
    {
     "data": {
      "text/html": [
       "<div>\n",
       "<style scoped>\n",
       "    .dataframe tbody tr th:only-of-type {\n",
       "        vertical-align: middle;\n",
       "    }\n",
       "\n",
       "    .dataframe tbody tr th {\n",
       "        vertical-align: top;\n",
       "    }\n",
       "\n",
       "    .dataframe thead th {\n",
       "        text-align: right;\n",
       "    }\n",
       "</style>\n",
       "<table border=\"1\" class=\"dataframe\">\n",
       "  <thead>\n",
       "    <tr style=\"text-align: right;\">\n",
       "      <th></th>\n",
       "      <th>op.</th>\n",
       "      <th>woo</th>\n",
       "      <th>hess</th>\n",
       "      <th>biam-onti</th>\n",
       "      <th>title</th>\n",
       "      <th>key</th>\n",
       "      <th>date</th>\n",
       "      <th>scoring</th>\n",
       "      <th>genre</th>\n",
       "      <th>notes</th>\n",
       "      <th>mode</th>\n",
       "      <th>min_date</th>\n",
       "      <th>max_date</th>\n",
       "      <th>avg_date</th>\n",
       "      <th>period</th>\n",
       "    </tr>\n",
       "  </thead>\n",
       "  <tbody>\n",
       "    <tr>\n",
       "      <th>197</th>\n",
       "      <td>055</td>\n",
       "      <td>—</td>\n",
       "      <td>—</td>\n",
       "      <td>406</td>\n",
       "      <td>Symphony No.3 ('Eroica')</td>\n",
       "      <td>E♭ major</td>\n",
       "      <td>1803</td>\n",
       "      <td>orch</td>\n",
       "      <td>Orchestral</td>\n",
       "      <td></td>\n",
       "      <td>major</td>\n",
       "      <td>1803</td>\n",
       "      <td>1803</td>\n",
       "      <td>1803.0</td>\n",
       "      <td>NaN</td>\n",
       "    </tr>\n",
       "  </tbody>\n",
       "</table>\n",
       "</div>"
      ],
      "text/plain": [
       "      op. woo hess biam-onti                     title       key  date  \\\n",
       "197   055   —    —       406  Symphony No.3 ('Eroica')  E♭ major  1803   \n",
       "\n",
       "    scoring        genre notes   mode  min_date  max_date  avg_date period  \n",
       "197    orch   Orchestral        major      1803      1803    1803.0    NaN  "
      ]
     },
     "execution_count": 112,
     "metadata": {},
     "output_type": "execute_result"
    }
   ],
   "source": [
    "df.loc[df[\"title\"] == \"Symphony No.3 ('Eroica')\"]"
   ]
  },
  {
   "cell_type": "code",
   "execution_count": 115,
   "metadata": {},
   "outputs": [
    {
     "data": {
      "text/html": [
       "<div>\n",
       "<style scoped>\n",
       "    .dataframe tbody tr th:only-of-type {\n",
       "        vertical-align: middle;\n",
       "    }\n",
       "\n",
       "    .dataframe tbody tr th {\n",
       "        vertical-align: top;\n",
       "    }\n",
       "\n",
       "    .dataframe thead th {\n",
       "        text-align: right;\n",
       "    }\n",
       "</style>\n",
       "<table border=\"1\" class=\"dataframe\">\n",
       "  <thead>\n",
       "    <tr style=\"text-align: right;\">\n",
       "      <th></th>\n",
       "      <th>op.</th>\n",
       "      <th>woo</th>\n",
       "      <th>hess</th>\n",
       "      <th>biam-onti</th>\n",
       "      <th>title</th>\n",
       "      <th>key</th>\n",
       "      <th>date</th>\n",
       "      <th>scoring</th>\n",
       "      <th>genre</th>\n",
       "      <th>notes</th>\n",
       "      <th>mode</th>\n",
       "      <th>min_date</th>\n",
       "      <th>max_date</th>\n",
       "      <th>avg_date</th>\n",
       "      <th>period</th>\n",
       "    </tr>\n",
       "  </thead>\n",
       "  <tbody>\n",
       "  </tbody>\n",
       "</table>\n",
       "</div>"
      ],
      "text/plain": [
       "Empty DataFrame\n",
       "Columns: [op., woo, hess, biam-onti, title, key, date, scoring, genre, notes, mode, min_date, max_date, avg_date, period]\n",
       "Index: []"
      ]
     },
     "execution_count": 115,
     "metadata": {},
     "output_type": "execute_result"
    }
   ],
   "source": [
    "df.loc[df[\"title\"] == \"Egmont\"] # removed because no key"
   ]
  },
  {
   "cell_type": "code",
   "execution_count": 121,
   "metadata": {},
   "outputs": [
    {
     "data": {
      "text/html": [
       "<div>\n",
       "<style scoped>\n",
       "    .dataframe tbody tr th:only-of-type {\n",
       "        vertical-align: middle;\n",
       "    }\n",
       "\n",
       "    .dataframe tbody tr th {\n",
       "        vertical-align: top;\n",
       "    }\n",
       "\n",
       "    .dataframe thead th {\n",
       "        text-align: right;\n",
       "    }\n",
       "</style>\n",
       "<table border=\"1\" class=\"dataframe\">\n",
       "  <thead>\n",
       "    <tr style=\"text-align: right;\">\n",
       "      <th></th>\n",
       "      <th>op.</th>\n",
       "      <th>woo</th>\n",
       "      <th>hess</th>\n",
       "      <th>biam-onti</th>\n",
       "      <th>title</th>\n",
       "      <th>key</th>\n",
       "      <th>date</th>\n",
       "      <th>scoring</th>\n",
       "      <th>genre</th>\n",
       "      <th>notes</th>\n",
       "      <th>mode</th>\n",
       "      <th>min_date</th>\n",
       "      <th>max_date</th>\n",
       "      <th>avg_date</th>\n",
       "      <th>period</th>\n",
       "    </tr>\n",
       "  </thead>\n",
       "  <tbody>\n",
       "  </tbody>\n",
       "</table>\n",
       "</div>"
      ],
      "text/plain": [
       "Empty DataFrame\n",
       "Columns: [op., woo, hess, biam-onti, title, key, date, scoring, genre, notes, mode, min_date, max_date, avg_date, period]\n",
       "Index: []"
      ]
     },
     "execution_count": 121,
     "metadata": {},
     "output_type": "execute_result"
    }
   ],
   "source": [
    "df.loc[df[\"title\"] == \"Fidelio, opera in 2 acts\"] # removed because no key"
   ]
  },
  {
   "cell_type": "code",
   "execution_count": 122,
   "metadata": {},
   "outputs": [
    {
     "data": {
      "text/html": [
       "<div>\n",
       "<style scoped>\n",
       "    .dataframe tbody tr th:only-of-type {\n",
       "        vertical-align: middle;\n",
       "    }\n",
       "\n",
       "    .dataframe tbody tr th {\n",
       "        vertical-align: top;\n",
       "    }\n",
       "\n",
       "    .dataframe thead th {\n",
       "        text-align: right;\n",
       "    }\n",
       "</style>\n",
       "<table border=\"1\" class=\"dataframe\">\n",
       "  <thead>\n",
       "    <tr style=\"text-align: right;\">\n",
       "      <th></th>\n",
       "      <th>op.</th>\n",
       "      <th>woo</th>\n",
       "      <th>hess</th>\n",
       "      <th>biam-onti</th>\n",
       "      <th>title</th>\n",
       "      <th>key</th>\n",
       "      <th>date</th>\n",
       "      <th>scoring</th>\n",
       "      <th>genre</th>\n",
       "      <th>notes</th>\n",
       "      <th>mode</th>\n",
       "      <th>min_date</th>\n",
       "      <th>max_date</th>\n",
       "      <th>avg_date</th>\n",
       "      <th>period</th>\n",
       "    </tr>\n",
       "  </thead>\n",
       "  <tbody>\n",
       "    <tr>\n",
       "      <th>275</th>\n",
       "      <td>090</td>\n",
       "      <td>—</td>\n",
       "      <td>—</td>\n",
       "      <td>578</td>\n",
       "      <td>Piano Sonata No.27</td>\n",
       "      <td>E minor</td>\n",
       "      <td>1814</td>\n",
       "      <td>pf</td>\n",
       "      <td>Keyboard</td>\n",
       "      <td></td>\n",
       "      <td>minor</td>\n",
       "      <td>1814</td>\n",
       "      <td>1814</td>\n",
       "      <td>1814.0</td>\n",
       "      <td>NaN</td>\n",
       "    </tr>\n",
       "  </tbody>\n",
       "</table>\n",
       "</div>"
      ],
      "text/plain": [
       "      op. woo hess biam-onti               title      key  date scoring  \\\n",
       "275   090   —    —       578  Piano Sonata No.27  E minor  1814      pf   \n",
       "\n",
       "         genre notes   mode  min_date  max_date  avg_date period  \n",
       "275   Keyboard        minor      1814      1814    1814.0    NaN  "
      ]
     },
     "execution_count": 122,
     "metadata": {},
     "output_type": "execute_result"
    }
   ],
   "source": [
    "df.loc[df[\"title\"] == \"Piano Sonata No.27\"]"
   ]
  },
  {
   "cell_type": "code",
   "execution_count": 124,
   "metadata": {},
   "outputs": [],
   "source": [
    "df.loc[197:275, \"period\"] = \"second\""
   ]
  },
  {
   "cell_type": "code",
   "execution_count": 126,
   "metadata": {},
   "outputs": [],
   "source": [
    "df.loc[276:, \"period\"] = \"third\""
   ]
  },
  {
   "cell_type": "code",
   "execution_count": 162,
   "metadata": {},
   "outputs": [],
   "source": [
    "# Remove non-Biamonti works\n",
    "df = df.loc[:389]"
   ]
  },
  {
   "cell_type": "code",
   "execution_count": 163,
   "metadata": {},
   "outputs": [
    {
     "data": {
      "text/plain": [
       "period\n",
       "first     144\n",
       "pre        53\n",
       "second     79\n",
       "third     114\n",
       "dtype: int64"
      ]
     },
     "execution_count": 163,
     "metadata": {},
     "output_type": "execute_result"
    }
   ],
   "source": [
    "df.groupby(\"period\").size()"
   ]
  },
  {
   "cell_type": "markdown",
   "metadata": {},
   "source": [
    "# Minor by period"
   ]
  },
  {
   "cell_type": "code",
   "execution_count": 164,
   "metadata": {},
   "outputs": [
    {
     "data": {
      "text/plain": [
       "period\n",
       "first     0.145833\n",
       "pre       0.113208\n",
       "second    0.227848\n",
       "third     0.131579\n",
       "dtype: float64"
      ]
     },
     "execution_count": 164,
     "metadata": {},
     "output_type": "execute_result"
    }
   ],
   "source": [
    "df[df[\"mode\"] == \"minor\"].groupby(\"period\").size() / df.groupby(\"period\").size()"
   ]
  },
  {
   "cell_type": "markdown",
   "metadata": {},
   "source": [
    "## C minor? (and other minor keys)"
   ]
  },
  {
   "cell_type": "markdown",
   "metadata": {},
   "source": [
    "https://en.wikipedia.org/wiki/Beethoven_and_C_minor"
   ]
  },
  {
   "cell_type": "code",
   "execution_count": 165,
   "metadata": {},
   "outputs": [
    {
     "data": {
      "text/plain": [
       "(23, 390)"
      ]
     },
     "execution_count": 165,
     "metadata": {},
     "output_type": "execute_result"
    }
   ],
   "source": [
    "(df[\"key\"] == \"C minor\").sum(), len(df)"
   ]
  },
  {
   "cell_type": "code",
   "execution_count": 166,
   "metadata": {},
   "outputs": [
    {
     "data": {
      "text/plain": [
       "period\n",
       "first     11\n",
       "pre        3\n",
       "second     5\n",
       "third      4\n",
       "dtype: int64"
      ]
     },
     "execution_count": 166,
     "metadata": {},
     "output_type": "execute_result"
    }
   ],
   "source": [
    "df[df[\"key\"] == \"C minor\"].groupby(\"period\").size()"
   ]
  },
  {
   "cell_type": "markdown",
   "metadata": {},
   "source": [
    "The works by Beethoven in C minor hardly exhaust the set of emotionally stormy minor-key works by this composer; some useful comparisons would include the piano sonatas Op. 2, No. 1 and Op. 57 (both in F minor), the String Quartet, Op. 95 (also in F minor), the fourth movement of the \"Pastoral\" Symphony (again in F minor), the final movements of Beethoven's only two pieces in C♯ minor (the \"Moonlight\" Sonata and the String Quartet, Op. 131), and two of his most famous D-minor works: the \"Tempest\" Sonata and the Ninth Symphony (whose slow movements, like that of many of his C-minor works, are in the subdominant parallel)."
   ]
  },
  {
   "cell_type": "code",
   "execution_count": 167,
   "metadata": {},
   "outputs": [
    {
     "data": {
      "text/plain": [
       "period\n",
       "first     2\n",
       "pre       2\n",
       "second    3\n",
       "dtype: int64"
      ]
     },
     "execution_count": 167,
     "metadata": {},
     "output_type": "execute_result"
    }
   ],
   "source": [
    "df[df[\"key\"] == \"F minor\"].groupby(\"period\").size()"
   ]
  },
  {
   "cell_type": "code",
   "execution_count": 168,
   "metadata": {},
   "outputs": [
    {
     "data": {
      "text/plain": [
       "period\n",
       "first    1\n",
       "third    1\n",
       "dtype: int64"
      ]
     },
     "execution_count": 168,
     "metadata": {},
     "output_type": "execute_result"
    }
   ],
   "source": [
    "df[df[\"key\"] == \"C♯ minor\"].groupby(\"period\").size()"
   ]
  },
  {
   "cell_type": "code",
   "execution_count": 169,
   "metadata": {},
   "outputs": [
    {
     "data": {
      "text/plain": [
       "period\n",
       "first     1\n",
       "second    2\n",
       "third     6\n",
       "dtype: int64"
      ]
     },
     "execution_count": 169,
     "metadata": {},
     "output_type": "execute_result"
    }
   ],
   "source": [
    "df[df[\"key\"] == \"D minor\"].groupby(\"period\").size()"
   ]
  },
  {
   "cell_type": "markdown",
   "metadata": {},
   "source": [
    "# Save"
   ]
  },
  {
   "cell_type": "markdown",
   "metadata": {},
   "source": [
    "Need to strip all whitespace..."
   ]
  },
  {
   "cell_type": "code",
   "execution_count": 186,
   "metadata": {},
   "outputs": [],
   "source": [
    "df = df.apply(lambda x: x.str.strip() if x.dtype == \"object\" else x)"
   ]
  },
  {
   "cell_type": "code",
   "execution_count": 188,
   "metadata": {},
   "outputs": [
    {
     "data": {
      "text/html": [
       "<div>\n",
       "<style scoped>\n",
       "    .dataframe tbody tr th:only-of-type {\n",
       "        vertical-align: middle;\n",
       "    }\n",
       "\n",
       "    .dataframe tbody tr th {\n",
       "        vertical-align: top;\n",
       "    }\n",
       "\n",
       "    .dataframe thead th {\n",
       "        text-align: right;\n",
       "    }\n",
       "</style>\n",
       "<table border=\"1\" class=\"dataframe\">\n",
       "  <thead>\n",
       "    <tr style=\"text-align: right;\">\n",
       "      <th></th>\n",
       "      <th>op.</th>\n",
       "      <th>woo</th>\n",
       "      <th>hess</th>\n",
       "      <th>biam-onti</th>\n",
       "      <th>title</th>\n",
       "      <th>key</th>\n",
       "      <th>date</th>\n",
       "      <th>scoring</th>\n",
       "      <th>genre</th>\n",
       "      <th>notes</th>\n",
       "      <th>mode</th>\n",
       "      <th>min_date</th>\n",
       "      <th>max_date</th>\n",
       "      <th>avg_date</th>\n",
       "      <th>period</th>\n",
       "    </tr>\n",
       "  </thead>\n",
       "  <tbody>\n",
       "    <tr>\n",
       "      <th>0</th>\n",
       "      <td>—</td>\n",
       "      <td>063</td>\n",
       "      <td>—</td>\n",
       "      <td>001</td>\n",
       "      <td>Variations on a March by Dressler (9)</td>\n",
       "      <td>C minor</td>\n",
       "      <td>1782</td>\n",
       "      <td>pf</td>\n",
       "      <td>Chamber</td>\n",
       "      <td>based on a march by Ernst Christoph Dressler</td>\n",
       "      <td>minor</td>\n",
       "      <td>1782</td>\n",
       "      <td>1782</td>\n",
       "      <td>1782.0</td>\n",
       "      <td>pre</td>\n",
       "    </tr>\n",
       "    <tr>\n",
       "      <th>1</th>\n",
       "      <td>—</td>\n",
       "      <td>047/1</td>\n",
       "      <td>—</td>\n",
       "      <td>002/1</td>\n",
       "      <td>Piano Sonata</td>\n",
       "      <td>E♭ major</td>\n",
       "      <td>1783</td>\n",
       "      <td>pf</td>\n",
       "      <td>Keyboard</td>\n",
       "      <td></td>\n",
       "      <td>major</td>\n",
       "      <td>1783</td>\n",
       "      <td>1783</td>\n",
       "      <td>1783.0</td>\n",
       "      <td>pre</td>\n",
       "    </tr>\n",
       "    <tr>\n",
       "      <th>2</th>\n",
       "      <td>—</td>\n",
       "      <td>047/2</td>\n",
       "      <td>—</td>\n",
       "      <td>002/2</td>\n",
       "      <td>Piano Sonata</td>\n",
       "      <td>F minor</td>\n",
       "      <td>1783</td>\n",
       "      <td>pf</td>\n",
       "      <td>Keyboard</td>\n",
       "      <td></td>\n",
       "      <td>minor</td>\n",
       "      <td>1783</td>\n",
       "      <td>1783</td>\n",
       "      <td>1783.0</td>\n",
       "      <td>pre</td>\n",
       "    </tr>\n",
       "    <tr>\n",
       "      <th>3</th>\n",
       "      <td>—</td>\n",
       "      <td>047/3</td>\n",
       "      <td>—</td>\n",
       "      <td>002/3</td>\n",
       "      <td>Piano Sonata</td>\n",
       "      <td>D major</td>\n",
       "      <td>1783</td>\n",
       "      <td>pf</td>\n",
       "      <td>Keyboard</td>\n",
       "      <td></td>\n",
       "      <td>major</td>\n",
       "      <td>1783</td>\n",
       "      <td>1783</td>\n",
       "      <td>1783.0</td>\n",
       "      <td>pre</td>\n",
       "    </tr>\n",
       "    <tr>\n",
       "      <th>4</th>\n",
       "      <td>—</td>\n",
       "      <td>048</td>\n",
       "      <td>051</td>\n",
       "      <td>004</td>\n",
       "      <td>Rondo</td>\n",
       "      <td>C major</td>\n",
       "      <td>1783</td>\n",
       "      <td>pf</td>\n",
       "      <td>Keyboard</td>\n",
       "      <td></td>\n",
       "      <td>major</td>\n",
       "      <td>1783</td>\n",
       "      <td>1783</td>\n",
       "      <td>1783.0</td>\n",
       "      <td>pre</td>\n",
       "    </tr>\n",
       "  </tbody>\n",
       "</table>\n",
       "</div>"
      ],
      "text/plain": [
       "  op.    woo hess biam-onti                                  title       key  \\\n",
       "0   —    063    —       001  Variations on a March by Dressler (9)   C minor   \n",
       "1   —  047/1    —     002/1                           Piano Sonata  E♭ major   \n",
       "2   —  047/2    —     002/2                           Piano Sonata   F minor   \n",
       "3   —  047/3    —     002/3                           Piano Sonata   D major   \n",
       "4   —    048  051       004                                  Rondo   C major   \n",
       "\n",
       "   date scoring     genre                                         notes  \\\n",
       "0  1782      pf   Chamber  based on a march by Ernst Christoph Dressler   \n",
       "1  1783      pf  Keyboard                                                 \n",
       "2  1783      pf  Keyboard                                                 \n",
       "3  1783      pf  Keyboard                                                 \n",
       "4  1783      pf  Keyboard                                                 \n",
       "\n",
       "    mode  min_date  max_date  avg_date period  \n",
       "0  minor      1782      1782    1782.0    pre  \n",
       "1  major      1783      1783    1783.0    pre  \n",
       "2  minor      1783      1783    1783.0    pre  \n",
       "3  major      1783      1783    1783.0    pre  \n",
       "4  major      1783      1783    1783.0    pre  "
      ]
     },
     "execution_count": 188,
     "metadata": {},
     "output_type": "execute_result"
    }
   ],
   "source": [
    "df.head()"
   ]
  },
  {
   "cell_type": "code",
   "execution_count": 192,
   "metadata": {},
   "outputs": [],
   "source": [
    "df.rename(columns={\"biam-onti\": \"biamonti\"}, inplace=True)"
   ]
  },
  {
   "cell_type": "code",
   "execution_count": 193,
   "metadata": {},
   "outputs": [],
   "source": [
    "# df.to_csv(\"cleaned_imslp.csv\", index = False)"
   ]
  }
 ],
 "metadata": {
  "kernelspec": {
   "display_name": "Python 3",
   "language": "python",
   "name": "python3"
  },
  "language_info": {
   "codemirror_mode": {
    "name": "ipython",
    "version": 3
   },
   "file_extension": ".py",
   "mimetype": "text/x-python",
   "name": "python",
   "nbconvert_exporter": "python",
   "pygments_lexer": "ipython3",
   "version": "3.5.1"
  },
  "toc": {
   "nav_menu": {},
   "number_sections": true,
   "sideBar": true,
   "skip_h1_title": false,
   "title_cell": "Table of Contents",
   "title_sidebar": "Contents",
   "toc_cell": false,
   "toc_position": {
    "height": "calc(100% - 180px)",
    "left": "10px",
    "top": "150px",
    "width": "249px"
   },
   "toc_section_display": true,
   "toc_window_display": true
  }
 },
 "nbformat": 4,
 "nbformat_minor": 2
}
